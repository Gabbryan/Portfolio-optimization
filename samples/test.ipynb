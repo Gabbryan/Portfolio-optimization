{
 "cells": [
  {
   "cell_type": "code",
   "execution_count": 1,
   "metadata": {},
   "outputs": [],
   "source": [
    "import yfinance as yf\n",
    "import pandas as pd\n",
    "import numpy as np\n",
    "import os\n",
    "import json\n",
    "from sklearn.cluster import KMeans\n",
    "from scipy import optimize \n",
    "import sys\n",
    "\n",
    "sys.path.append('/Users/gabry/Desktop/VS/portfolio-optimization/pyopt')\n",
    "sys.path.append('/Users/gabry/Desktop/VS/portfolio-optimization/data')\n",
    "\n",
    "from client import MinimizeRiskConstr"
   ]
  },
  {
   "cell_type": "code",
   "execution_count": 9,
   "metadata": {},
   "outputs": [
    {
     "name": "stdout",
     "output_type": "stream",
     "text": [
      "                  BND        EEM          ^DJI        ^FCHI        ^FTSE  \\\n",
      "Date                                                                       \n",
      "2022-12-02  71.258614  38.643650  34429.878906  6742.250000  7556.200195   \n",
      "2022-12-05  70.696289  38.203850  33947.101562  6696.959961  7567.500000   \n",
      "2022-12-06  70.928986  38.154984  33596.339844  6687.790039  7521.399902   \n",
      "2022-12-07  71.549461  37.930199  33597.921875  6660.589844  7489.200195   \n",
      "2022-12-08  71.345840  38.389542  33781.480469  6647.310059  7472.200195   \n",
      "\n",
      "                  ^GDAXI        ^GSPC          ^HSI         ^IXIC  \\\n",
      "Date                                                                \n",
      "2022-12-02  14529.389648  4071.699951  18675.349609  11461.500000   \n",
      "2022-12-05  14447.610352  3998.840088  19518.289062  11239.940430   \n",
      "2022-12-06  14343.190430  3941.260010  19441.179688  11014.889648   \n",
      "2022-12-07  14261.190430  3933.919922  18814.820312  10958.549805   \n",
      "2022-12-08  14264.559570  3963.510010  19450.230469  11082.000000   \n",
      "\n",
      "                   ^N225  \n",
      "Date                      \n",
      "2022-12-02  27777.900391  \n",
      "2022-12-05  27820.400391  \n",
      "2022-12-06  27885.869141  \n",
      "2022-12-07  27686.400391  \n",
      "2022-12-08  27574.429688  \n",
      "                  BND        EEM          ^DJI        ^FCHI        ^FTSE  \\\n",
      "Date                                                                       \n",
      "2022-12-02  71.258614  38.643650  34429.878906  6742.250000  7556.200195   \n",
      "2022-12-05  70.696289  38.203850  33947.101562  6696.959961  7567.500000   \n",
      "2022-12-06  70.928986  38.154984  33596.339844  6687.790039  7521.399902   \n",
      "2022-12-07  71.549461  37.930199  33597.921875  6660.589844  7489.200195   \n",
      "2022-12-08  71.345840  38.389542  33781.480469  6647.310059  7472.200195   \n",
      "\n",
      "                  ^GDAXI        ^GSPC          ^HSI         ^IXIC  \\\n",
      "Date                                                                \n",
      "2022-12-02  14529.389648  4071.699951  18675.349609  11461.500000   \n",
      "2022-12-05  14447.610352  3998.840088  19518.289062  11239.940430   \n",
      "2022-12-06  14343.190430  3941.260010  19441.179688  11014.889648   \n",
      "2022-12-07  14261.190430  3933.919922  18814.820312  10958.549805   \n",
      "2022-12-08  14264.559570  3963.510010  19450.230469  11082.000000   \n",
      "\n",
      "                   ^N225  \n",
      "Date                      \n",
      "2022-12-02  27777.900391  \n",
      "2022-12-05  27820.400391  \n",
      "2022-12-06  27885.869141  \n",
      "2022-12-07  27686.400391  \n",
      "2022-12-08  27574.429688  \n"
     ]
    }
   ],
   "source": [
    "# Charger le fichier indices_prices.csv avec la colonne de date comme index\n",
    "indices_price = pd.read_csv('/Users/gabry/Desktop/VS/portfolio-optimization/data/indices_price.csv', index_col='Date', parse_dates=True)\n",
    "\n",
    "# Charger le fichier stocks_price.csv avec la colonne de date comme index\n",
    "stocks_price = pd.read_csv('/Users/gabry/Desktop/VS/portfolio-optimization/data/indices_price.csv', index_col='Date', parse_dates=True)\n",
    "\n",
    "# Afficher les premières lignes pour vérifier\n",
    "print(indices_price.head())\n",
    "print(stocks_price.head())"
   ]
  },
  {
   "cell_type": "code",
   "execution_count": null,
   "metadata": {},
   "outputs": [],
   "source": []
  }
 ],
 "metadata": {
  "kernelspec": {
   "display_name": "Python 3.9.15 ('freqtrade_V1')",
   "language": "python",
   "name": "python3"
  },
  "language_info": {
   "codemirror_mode": {
    "name": "ipython",
    "version": 3
   },
   "file_extension": ".py",
   "mimetype": "text/x-python",
   "name": "python",
   "nbconvert_exporter": "python",
   "pygments_lexer": "ipython3",
   "version": "3.9.15"
  },
  "orig_nbformat": 4,
  "vscode": {
   "interpreter": {
    "hash": "c76f013e99d6a2ab2e6d4d4ad2bb7f809b2b6bba4e6bbf24e0dae8081eb43f31"
   }
  }
 },
 "nbformat": 4,
 "nbformat_minor": 2
}
