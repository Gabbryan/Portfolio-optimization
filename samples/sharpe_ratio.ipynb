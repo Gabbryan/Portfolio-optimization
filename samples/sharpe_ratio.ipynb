{
 "cells": [
  {
   "cell_type": "code",
   "execution_count": 1,
   "metadata": {},
   "outputs": [],
   "source": [
    "import yfinance as yf\n",
    "import pandas as pd\n",
    "import numpy as np\n",
    "import os\n",
    "import json\n",
    "from sklearn.cluster import KMeans\n",
    "from scipy import optimize\n",
    "\n",
    "import matplotlib.pyplot as plt\n",
    "import numpy as np\n",
    "import plotly.graph_objects as go\n"
   ]
  },
  {
   "cell_type": "code",
   "execution_count": 2,
   "metadata": {},
   "outputs": [
    {
     "name": "stdout",
     "output_type": "stream",
     "text": [
      "Nouveau chemin d'accès local : /Users/gabry/Desktop/VS/portfolio-optimization/data\n"
     ]
    }
   ],
   "source": [
    "import os\n",
    "\n",
    "nouveau_chemin = '/Users/gabry/Desktop/VS/portfolio-optimization/data'\n",
    "\n",
    "os.chdir(nouveau_chemin)\n",
    "\n",
    "print(\"Nouveau chemin d'accès local :\", os.getcwd())"
   ]
  },
  {
   "cell_type": "code",
   "execution_count": 3,
   "metadata": {},
   "outputs": [
    {
     "name": "stdout",
     "output_type": "stream",
     "text": [
      "                  BND        EEM          ^DJI        ^FCHI        ^FTSE  \\\n",
      "Date                                                                       \n",
      "2022-12-02  71.258614  38.643650  34429.878906  6742.250000  7556.200195   \n",
      "2022-12-05  70.696289  38.203850  33947.101562  6696.959961  7567.500000   \n",
      "2022-12-06  70.928986  38.154984  33596.339844  6687.790039  7521.399902   \n",
      "2022-12-07  71.549461  37.930199  33597.921875  6660.589844  7489.200195   \n",
      "2022-12-08  71.345840  38.389542  33781.480469  6647.310059  7472.200195   \n",
      "\n",
      "                  ^GDAXI        ^GSPC          ^HSI         ^IXIC  \\\n",
      "Date                                                                \n",
      "2022-12-02  14529.389648  4071.699951  18675.349609  11461.500000   \n",
      "2022-12-05  14447.610352  3998.840088  19518.289062  11239.940430   \n",
      "2022-12-06  14343.190430  3941.260010  19441.179688  11014.889648   \n",
      "2022-12-07  14261.190430  3933.919922  18814.820312  10958.549805   \n",
      "2022-12-08  14264.559570  3963.510010  19450.230469  11082.000000   \n",
      "\n",
      "                   ^N225  \n",
      "Date                      \n",
      "2022-12-02  27777.900391  \n",
      "2022-12-05  27820.400391  \n",
      "2022-12-06  27885.869141  \n",
      "2022-12-07  27686.400391  \n",
      "2022-12-08  27574.429688  \n",
      "                  AAPL        ABBV         ABT         ACN        ADBE  \\\n",
      "Date                                                                     \n",
      "2022-12-02  146.988403  157.305191  105.970078  295.436157  341.529999   \n",
      "2022-12-05  145.814972  157.574310  103.342644  288.161713  334.089996   \n",
      "2022-12-06  142.115646  157.362854  101.823036  280.946381  331.149994   \n",
      "2022-12-07  140.156601  158.977615  102.754402  282.206360  326.679993   \n",
      "2022-12-08  141.857086  159.544724  104.823021  287.580933  332.579987   \n",
      "\n",
      "                   ADP        AMAT        AMD        AMGN       AMZN  ...  \\\n",
      "Date                                                                  ...   \n",
      "2022-12-02  264.221466  105.730011  74.980003  275.945801  94.129997  ...   \n",
      "2022-12-05  258.827423  105.452583  73.620003  275.365875  91.010002  ...   \n",
      "2022-12-06  253.090714  103.748383  70.269997  273.800140  88.250000  ...   \n",
      "2022-12-07  253.766174  105.135536  70.139999  276.187439  88.459999  ...   \n",
      "2022-12-08  255.812271  107.612564  70.470001  276.003784  90.349998  ...   \n",
      "\n",
      "                  TTE         TXN         UL         UNH         UNP  \\\n",
      "Date                                                                   \n",
      "2022-12-02  57.627472  172.254730  49.671265  528.207703  209.333023   \n",
      "2022-12-05  56.828808  171.992950  49.179382  527.104309  205.755264   \n",
      "2022-12-06  57.161587  169.035751  49.352982  531.320801  205.833252   \n",
      "2022-12-07  56.334396  168.463715  49.015411  534.857544  206.886124   \n",
      "2022-12-08  56.819298  170.994293  48.610325  539.793274  207.675766   \n",
      "\n",
      "                   UPS           V         VZ         WMT         XOM  \n",
      "Date                                                                   \n",
      "2022-12-02  182.146698  215.945160  35.567612  150.909698  106.232979  \n",
      "2022-12-05  174.231461  211.996521  34.533562  149.363373  103.322357  \n",
      "2022-12-06  168.403229  207.432770  34.365875  147.629913  100.450417  \n",
      "2022-12-07  167.989655  206.172760  34.626717  146.861679  100.228020  \n",
      "2022-12-08  172.759995  207.452606  34.561508  147.089066  100.972588  \n",
      "\n",
      "[5 rows x 107 columns]\n"
     ]
    }
   ],
   "source": [
    "# Charger le fichier indices_prices.csv avec la colonne de date comme index\n",
    "indices_price = pd.read_csv('indices_price.csv', index_col='Date', parse_dates=True)\n",
    "\n",
    "# Charger le fichier stocks_price.csv avec la colonne de date comme index\n",
    "stocks_price = pd.read_csv('stocks_price.csv', index_col='Date', parse_dates=True)\n",
    "\n",
    "# Afficher les premières lignes pour vérifier\n",
    "print(indices_price.head())\n",
    "print(stocks_price.head())"
   ]
  },
  {
   "cell_type": "code",
   "execution_count": 4,
   "metadata": {},
   "outputs": [],
   "source": [
    "#function to undertake Sharpe Ratio maximization subject to \n",
    "#basic constraints of the portfolio\n",
    "\n",
    "#dependencies\n",
    "import numpy as np\n",
    "from scipy import optimize \n",
    "\n",
    "def MaximizeSharpeRatioOptmzn(MeanReturns, CovarReturns, RiskFreeRate, PortfolioSize):\n",
    "    \n",
    "    # define maximization of Sharpe Ratio using principle of duality\n",
    "    def  f(x, MeanReturns, CovarReturns, RiskFreeRate, PortfolioSize):\n",
    "        funcDenomr = np.sqrt(np.matmul(np.matmul(x, CovarReturns), x.T) )\n",
    "        funcNumer = np.matmul(np.array(MeanReturns),x.T)-RiskFreeRate\n",
    "        func = -(funcNumer / funcDenomr)\n",
    "        return func\n",
    "\n",
    "    #define equality constraint representing fully invested portfolio\n",
    "    def constraintEq(x):\n",
    "        A=np.ones(x.shape)\n",
    "        b=1\n",
    "        constraintVal = np.matmul(A,x.T)-b \n",
    "        return constraintVal\n",
    "    \n",
    "    \n",
    "    #define bounds and other parameters\n",
    "    xinit=np.repeat(0.33, PortfolioSize)\n",
    "    cons = ({'type': 'eq', 'fun':constraintEq})\n",
    "    lb = 0\n",
    "    ub = 1\n",
    "    bnds = tuple([(lb,ub) for x in xinit])\n",
    "    \n",
    "    #invoke minimize solver\n",
    "    opt = optimize.minimize (f, x0 = xinit, args = (MeanReturns, CovarReturns,\\\n",
    "                             RiskFreeRate, PortfolioSize), method = 'SLSQP',  \\\n",
    "                             bounds = bnds, constraints = cons, tol = 10**-3)\n",
    "    \n",
    "    return opt"
   ]
  },
  {
   "cell_type": "markdown",
   "metadata": {},
   "source": [
    "US treasury bonds (15/12/23)\n",
    "6 Month Treasury Bill Rate (I:6MTBRNK) : 5.11%\n",
    "1 Year Treasury Rate (I:1YTCMR) : 4,90%\n",
    "2 Year Treasury Rate (I:2YTCMR) : 4,37%\n",
    "5 Year Treasury Rate (I:5YTCMR) : 3,90%"
   ]
  },
  {
   "cell_type": "code",
   "execution_count": 28,
   "metadata": {},
   "outputs": [],
   "source": [
    "indices_daily_return = indices_price.pct_change(1) # 1 for ONE DAY lookback\n",
    "indices_monthly_return = indices_price.pct_change(21) # 21 for ONE MONTH lookback\n",
    "indices_D_ret = indices_daily_return*100\n",
    "indices_D_ret = indices_D_ret.iloc[1:]\n",
    "indices_M_ret = indices_monthly_return*100\n",
    "indices_M_ret = indices_M_ret.iloc[1:]\n",
    "\n",
    "stocks_daily_return = stocks_price.pct_change(1) # 1 for ONE DAY lookback\n",
    "stocks_monthly_return = stocks_price.pct_change(21) # 21 for ONE MONTH lookback\n",
    "stocks_D_ret = stocks_daily_return*100\n",
    "stocks_D_ret = stocks_D_ret.iloc[1:]\n",
    "stocks_M_ret = stocks_monthly_return*100\n",
    "stocks_M_ret = stocks_M_ret.iloc[1:]"
   ]
  },
  {
   "cell_type": "code",
   "execution_count": 29,
   "metadata": {},
   "outputs": [
    {
     "name": "stdout",
     "output_type": "stream",
     "text": [
      "\n",
      "Mean Returns:\n",
      " AAPL    0.114721\n",
      "ABBV   -0.029342\n",
      "ABT     0.004096\n",
      "ACN     0.065164\n",
      "ADBE    0.253893\n",
      "          ...   \n",
      "UPS    -0.053006\n",
      "V       0.073988\n",
      "VZ      0.043181\n",
      "WMT     0.014067\n",
      "XOM     0.000428\n",
      "Length: 107, dtype: float64\n",
      "\n",
      "Variance-Covariance Matrix of Returns:\n",
      "           AAPL      ABBV       ABT       ACN      ADBE       ADP      AMAT  \\\n",
      "AAPL  1.884350  0.025654  0.521781  1.035410  1.549472  0.788450  1.539117   \n",
      "ABBV  0.025654  1.521024  0.375014  0.145271  0.080256  0.275102  0.063736   \n",
      "ABT   0.521781  0.375014  1.663367  0.459404  0.580303  0.641449  0.497694   \n",
      "ACN   1.035410  0.145271  0.459404  2.256916  1.587722  0.933813  1.613376   \n",
      "ADBE  1.549472  0.080256  0.580303  1.587722  4.017926  1.005126  2.465669   \n",
      "...        ...       ...       ...       ...       ...       ...       ...   \n",
      "UPS   0.875576  0.267915  0.622436  1.059725  1.211615  0.908027  1.325896   \n",
      "V     0.730167  0.212321  0.424951  0.674398  1.012779  0.466689  0.867011   \n",
      "VZ    0.274838  0.140403  0.439162  0.310092  0.137893  0.334150 -0.069302   \n",
      "WMT   0.300406  0.321678  0.195277  0.281694  0.295865  0.377329  0.408762   \n",
      "XOM   0.390853  0.304064  0.363108  0.423591  0.336264  0.536744  0.185977   \n",
      "\n",
      "           AMD      AMGN      AMZN  ...       TTE       TXN        UL  \\\n",
      "AAPL  1.838202  0.208698  1.380197  ...  0.302456  1.147074  0.267439   \n",
      "ABBV -0.487193  0.650876 -0.286744  ...  0.259937  0.121827  0.135871   \n",
      "ABT   0.404724  0.255933  0.630734  ...  0.274124  0.513352  0.259167   \n",
      "ACN   1.814922  0.305197  1.412777  ...  0.315939  1.262174  0.276730   \n",
      "ADBE  3.590043  0.430273  2.393951  ...  0.442513  1.696460  0.368000   \n",
      "...        ...       ...       ...  ...       ...       ...       ...   \n",
      "UPS   1.489047  0.406292  1.100009  ...  0.515591  1.158429  0.353416   \n",
      "V     1.124034  0.212157  0.767761  ...  0.457325  0.682659  0.279670   \n",
      "VZ   -0.259163  0.298422  0.411385  ...  0.228705  0.348215  0.307127   \n",
      "WMT   0.326259  0.365681  0.479306  ...  0.296184  0.312739  0.238128   \n",
      "XOM  -0.135386  0.227347 -0.009069  ...  1.654054  0.509438  0.207142   \n",
      "\n",
      "           UNH       UNP       UPS         V        VZ       WMT       XOM  \n",
      "AAPL  0.226437  0.674886  0.875576  0.730167  0.274838  0.300406  0.390853  \n",
      "ABBV  0.417247  0.253819  0.267915  0.212321  0.140403  0.321678  0.304064  \n",
      "ABT   0.083205  0.569837  0.622436  0.424951  0.439162  0.195277  0.363108  \n",
      "ACN   0.113180  0.781377  1.059725  0.674398  0.310092  0.281694  0.423591  \n",
      "ADBE  0.229773  0.685165  1.211615  1.012779  0.137893  0.295865  0.336264  \n",
      "...        ...       ...       ...       ...       ...       ...       ...  \n",
      "UPS   0.167647  1.164739  2.331260  0.721242  0.520318  0.363837  0.634676  \n",
      "V     0.222055  0.471424  0.721242  1.045672  0.297256  0.279741  0.518294  \n",
      "VZ    0.149803  0.436396  0.520318  0.297256  2.150703  0.304277  0.373168  \n",
      "WMT   0.250252  0.265320  0.363837  0.279741  0.304277  1.003598  0.338281  \n",
      "XOM   0.392170  0.426901  0.634676  0.518294  0.373168  0.338281  2.578229  \n",
      "\n",
      "[107 rows x 107 columns]\n"
     ]
    }
   ],
   "source": [
    "#compute mean returns and variance covariance matrix of stocks returns\n",
    "stocks_meanReturns = np.mean(stocks_D_ret, axis = 0)\n",
    "stocks_covReturns = np.cov(stocks_D_ret, rowvar=False)\n",
    "stocks_covReturns = pd.DataFrame(stocks_covReturns, columns=stocks_D_ret.columns, index=stocks_D_ret.columns)\n",
    "#compute mean returns and variance covariance matrix of indices returns\n",
    "indices_meanReturns = np.mean(indices_D_ret, axis = 0)\n",
    "indices_covReturns = np.cov(indices_D_ret, rowvar=False)\n",
    "indices_covReturns = pd.DataFrame(indices_covReturns, columns=indices_D_ret.columns, index=indices_D_ret.columns)\n",
    "print('\\nMean Returns:\\n', stocks_meanReturns)\n",
    "print('\\nVariance-Covariance Matrix of Returns:\\n', stocks_covReturns)"
   ]
  },
  {
   "cell_type": "code",
   "execution_count": 10,
   "metadata": {},
   "outputs": [
    {
     "name": "stdout",
     "output_type": "stream",
     "text": [
      "\n",
      "Risk free rate (daily %): 0.013\n",
      "Maximal Sharpe Ratio:            0\n",
      "0  3.485996 \n",
      "Annualized Risk (%):             0\n",
      "0  18.76285 \n",
      "Annualized Expected Portfolio Return(%):   [70.307]\n",
      "\n",
      "Optimal weights (%):\n",
      " [[ 0.   ]\n",
      " [ 0.   ]\n",
      " [ 0.   ]\n",
      " [ 0.   ]\n",
      " [ 0.   ]\n",
      " [ 0.   ]\n",
      " [ 0.   ]\n",
      " [ 0.   ]\n",
      " [ 0.   ]\n",
      " [ 0.   ]\n",
      " [ 0.   ]\n",
      " [ 0.   ]\n",
      " [ 0.   ]\n",
      " [ 0.   ]\n",
      " [ 0.   ]\n",
      " [ 0.   ]\n",
      " [ 0.   ]\n",
      " [ 0.   ]\n",
      " [ 0.   ]\n",
      " [ 0.   ]\n",
      " [ 0.   ]\n",
      " [ 0.   ]\n",
      " [ 0.   ]\n",
      " [ 0.   ]\n",
      " [ 0.   ]\n",
      " [ 0.   ]\n",
      " [ 9.405]\n",
      " [ 0.   ]\n",
      " [ 0.   ]\n",
      " [ 0.   ]\n",
      " [ 0.   ]\n",
      " [ 0.   ]\n",
      " [ 0.   ]\n",
      " [18.653]\n",
      " [ 0.   ]\n",
      " [ 0.   ]\n",
      " [ 0.   ]\n",
      " [ 0.   ]\n",
      " [ 0.   ]\n",
      " [ 0.   ]\n",
      " [ 2.811]\n",
      " [ 0.   ]\n",
      " [ 0.   ]\n",
      " [ 0.   ]\n",
      " [ 0.   ]\n",
      " [ 0.   ]\n",
      " [ 0.   ]\n",
      " [ 0.   ]\n",
      " [ 0.   ]\n",
      " [14.474]\n",
      " [ 0.   ]\n",
      " [ 0.   ]\n",
      " [ 0.   ]\n",
      " [ 0.   ]\n",
      " [ 0.   ]\n",
      " [ 0.   ]\n",
      " [18.132]\n",
      " [ 0.   ]\n",
      " [ 0.   ]\n",
      " [ 0.   ]\n",
      " [ 8.864]\n",
      " [ 0.   ]\n",
      " [ 0.   ]\n",
      " [ 0.   ]\n",
      " [ 0.   ]\n",
      " [ 0.   ]\n",
      " [ 9.416]\n",
      " [15.76 ]\n",
      " [ 0.   ]\n",
      " [ 0.   ]\n",
      " [ 2.485]\n",
      " [ 0.   ]\n",
      " [ 0.   ]\n",
      " [ 0.   ]\n",
      " [ 0.   ]\n",
      " [ 0.   ]\n",
      " [ 0.   ]\n",
      " [ 0.   ]\n",
      " [ 0.   ]\n",
      " [ 0.   ]\n",
      " [ 0.   ]\n",
      " [ 0.   ]\n",
      " [ 0.   ]\n",
      " [ 0.   ]\n",
      " [ 0.   ]\n",
      " [ 0.   ]\n",
      " [ 0.   ]\n",
      " [ 0.   ]\n",
      " [ 0.   ]\n",
      " [ 0.   ]\n",
      " [ 0.   ]\n",
      " [ 0.   ]\n",
      " [ 0.   ]\n",
      " [ 0.   ]\n",
      " [ 0.   ]\n",
      " [ 0.   ]\n",
      " [ 0.   ]\n",
      " [ 0.   ]\n",
      " [ 0.   ]\n",
      " [ 0.   ]\n",
      " [ 0.   ]\n",
      " [ 0.   ]\n",
      " [ 0.   ]\n",
      " [ 0.   ]\n",
      " [ 0.   ]\n",
      " [ 0.   ]\n",
      " [ 0.   ]]\n"
     ]
    }
   ],
   "source": [
    "#obtain maximal Sharpe Ratio for k-portfolio 1 of Dow stocks\n",
    "\n",
    "#set portfolio size\n",
    "portfolioSize = 107\n",
    "\n",
    "#set risk free asset rate of return\n",
    "Rf=4.9  # 1 Year Treasury Rate (I:1YTCMR) : 4,90%\n",
    "\n",
    "annRiskFreeRate = Rf/100\n",
    "\n",
    "#compute daily risk free rate in percentage\n",
    "r0 = (np.power((1 + annRiskFreeRate),  (1.0 / 360.0)) - 1.0) * 100 \n",
    "print('\\nRisk free rate (daily %): ', end=\"\")\n",
    "print (\"{0:.3f}\".format(r0)) \n",
    "\n",
    "#initialization\n",
    "xOptimal =[]\n",
    "minRiskPoint = []\n",
    "expPortfolioReturnPoint =[]\n",
    "maxSharpeRatio = 0\n",
    "\n",
    "#compute maximal Sharpe Ratio and optimal weights\n",
    "result = MaximizeSharpeRatioOptmzn(stocks_meanReturns, stocks_covReturns, r0, portfolioSize)\n",
    "xOptimal.append(result.x)\n",
    "\n",
    "    \n",
    "#compute risk returns and max Sharpe Ratio of the optimal portfolio   \n",
    "xOptimalArray = np.array(xOptimal)\n",
    "Risk = np.matmul((np.matmul(xOptimalArray,stocks_covReturns)), np.transpose(xOptimalArray))\n",
    "expReturn = np.matmul(np.array(stocks_meanReturns),xOptimalArray.T)\n",
    "annRisk =   np.sqrt(Risk*251) \n",
    "annRet = 251*np.array(expReturn) \n",
    "maxSharpeRatio = (annRet-Rf)/annRisk \n",
    "\n",
    "#set precision for printing results\n",
    "np.set_printoptions(precision=3, suppress = True)\n",
    "\n",
    "\n",
    "#display results\n",
    "print('Maximal Sharpe Ratio: ', maxSharpeRatio, '\\nAnnualized Risk (%):  ', \\\n",
    "      annRisk, '\\nAnnualized Expected Portfolio Return(%):  ', annRet)\n",
    "print('\\nOptimal weights (%):\\n',  xOptimalArray.T*100 )"
   ]
  },
  {
   "cell_type": "code",
   "execution_count": 15,
   "metadata": {},
   "outputs": [
    {
     "data": {
      "text/plain": [
       "array([[ 0.   ,  0.   ,  0.   ,  0.   ,  0.   ,  0.   ,  0.   ,  0.   ,\n",
       "         0.   ,  0.   ,  0.   ,  0.   ,  0.   ,  0.   ,  0.   ,  0.   ,\n",
       "         0.   ,  0.   ,  0.   ,  0.   ,  0.   ,  0.   ,  0.   ,  0.   ,\n",
       "         0.   ,  0.   ,  9.405,  0.   ,  0.   ,  0.   ,  0.   ,  0.   ,\n",
       "         0.   , 18.653,  0.   ,  0.   ,  0.   ,  0.   ,  0.   ,  0.   ,\n",
       "         2.811,  0.   ,  0.   ,  0.   ,  0.   ,  0.   ,  0.   ,  0.   ,\n",
       "         0.   , 14.474,  0.   ,  0.   ,  0.   ,  0.   ,  0.   ,  0.   ,\n",
       "        18.132,  0.   ,  0.   ,  0.   ,  8.864,  0.   ,  0.   ,  0.   ,\n",
       "         0.   ,  0.   ,  9.416, 15.76 ,  0.   ,  0.   ,  2.485,  0.   ,\n",
       "         0.   ,  0.   ,  0.   ,  0.   ,  0.   ,  0.   ,  0.   ,  0.   ,\n",
       "         0.   ,  0.   ,  0.   ,  0.   ,  0.   ,  0.   ,  0.   ,  0.   ,\n",
       "         0.   ,  0.   ,  0.   ,  0.   ,  0.   ,  0.   ,  0.   ,  0.   ,\n",
       "         0.   ,  0.   ,  0.   ,  0.   ,  0.   ,  0.   ,  0.   ,  0.   ,\n",
       "         0.   ,  0.   ,  0.   ]])"
      ]
     },
     "execution_count": 15,
     "metadata": {},
     "output_type": "execute_result"
    }
   ],
   "source": [
    "xOptimalArray*100"
   ]
  },
  {
   "cell_type": "code",
   "execution_count": 27,
   "metadata": {},
   "outputs": [
    {
     "data": {
      "application/vnd.plotly.v1+json": {
       "config": {
        "plotlyServerURL": "https://plot.ly"
       },
       "data": [
        {
         "hoverinfo": "text+y",
         "hovertext": [
          "Position: 0",
          "Position: 1",
          "Position: 2",
          "Position: 3",
          "Position: 4",
          "Position: 5",
          "Position: 6",
          "Position: 7",
          "Position: 8",
          "Position: 9",
          "Position: 10",
          "Position: 11",
          "Position: 12",
          "Position: 13",
          "Position: 14",
          "Position: 15",
          "Position: 16",
          "Position: 17",
          "Position: 18",
          "Position: 19",
          "Position: 20",
          "Position: 21",
          "Position: 22",
          "Position: 23",
          "Position: 24",
          "Position: 25",
          "Position: 26",
          "Position: 27",
          "Position: 28",
          "Position: 29",
          "Position: 30",
          "Position: 31",
          "Position: 32",
          "Position: 33",
          "Position: 34",
          "Position: 35",
          "Position: 36",
          "Position: 37",
          "Position: 38",
          "Position: 39",
          "Position: 40",
          "Position: 41",
          "Position: 42",
          "Position: 43",
          "Position: 44",
          "Position: 45",
          "Position: 46",
          "Position: 47",
          "Position: 48",
          "Position: 49",
          "Position: 50",
          "Position: 51",
          "Position: 52",
          "Position: 53",
          "Position: 54",
          "Position: 55",
          "Position: 56",
          "Position: 57",
          "Position: 58",
          "Position: 59",
          "Position: 60",
          "Position: 61",
          "Position: 62",
          "Position: 63",
          "Position: 64",
          "Position: 65",
          "Position: 66",
          "Position: 67",
          "Position: 68",
          "Position: 69",
          "Position: 70",
          "Position: 71",
          "Position: 72",
          "Position: 73",
          "Position: 74",
          "Position: 75",
          "Position: 76",
          "Position: 77",
          "Position: 78",
          "Position: 79",
          "Position: 80",
          "Position: 81",
          "Position: 82",
          "Position: 83",
          "Position: 84",
          "Position: 85",
          "Position: 86",
          "Position: 87",
          "Position: 88",
          "Position: 89",
          "Position: 90",
          "Position: 91",
          "Position: 92",
          "Position: 93",
          "Position: 94",
          "Position: 95",
          "Position: 96",
          "Position: 97",
          "Position: 98",
          "Position: 99",
          "Position: 100",
          "Position: 101",
          "Position: 102",
          "Position: 103",
          "Position: 104",
          "Position: 105",
          "Position: 106"
         ],
         "type": "bar",
         "x": [
          0,
          1,
          2,
          3,
          4,
          5,
          6,
          7,
          8,
          9,
          10,
          11,
          12,
          13,
          14,
          15,
          16,
          17,
          18,
          19,
          20,
          21,
          22,
          23,
          24,
          25,
          26,
          27,
          28,
          29,
          30,
          31,
          32,
          33,
          34,
          35,
          36,
          37,
          38,
          39,
          40,
          41,
          42,
          43,
          44,
          45,
          46,
          47,
          48,
          49,
          50,
          51,
          52,
          53,
          54,
          55,
          56,
          57,
          58,
          59,
          60,
          61,
          62,
          63,
          64,
          65,
          66,
          67,
          68,
          69,
          70,
          71,
          72,
          73,
          74,
          75,
          76,
          77,
          78,
          79,
          80,
          81,
          82,
          83,
          84,
          85,
          86,
          87,
          88,
          89,
          90,
          91,
          92,
          93,
          94,
          95,
          96,
          97,
          98,
          99,
          100,
          101,
          102,
          103,
          104,
          105,
          106
         ],
         "y": [
          1.6258965938961393e-16,
          0,
          0,
          3.233799519947145e-17,
          2.4233053439672785e-17,
          0,
          0,
          0,
          0,
          0,
          1.2378927789923868e-16,
          1.4480291565828455e-16,
          1.155586873583106e-16,
          0,
          0,
          2.646148838333464e-16,
          1.8508248728467113e-16,
          0,
          0,
          2.1067171030224157e-16,
          0,
          6.628334839448385e-17,
          5.108985553770238e-17,
          0,
          1.0246545362407614e-16,
          4.6429881928279585e-17,
          0.09404877299934813,
          1.5623144619107215e-16,
          0,
          0,
          0,
          1.2651775873745199e-18,
          0,
          0.18653226187345912,
          0,
          0,
          0,
          3.255392543595556e-16,
          0,
          4.447605760776277e-17,
          0.028109801933345294,
          0,
          4.1544843365144096e-17,
          2.295002828033137e-17,
          5.120962934277254e-17,
          0,
          0,
          3.0475815975120807e-17,
          0,
          0.14473859509378367,
          0,
          5.8873083250155095e-18,
          0,
          0,
          0,
          0,
          0.18132269582218205,
          1.8172495382644913e-17,
          1.4189889429654618e-16,
          1.942802245233299e-17,
          0.0886375337997364,
          2.0493189078749077e-16,
          1.814741932529375e-17,
          0,
          0,
          6.4346784683797346e-18,
          0.09416249080108714,
          0.15759933895967979,
          9.634958635369115e-18,
          4.458832747934913e-17,
          0.0248485087173786,
          0,
          5.262765891014979e-17,
          0,
          5.233884228355835e-17,
          0,
          0,
          0,
          1.199713972424059e-16,
          0,
          0,
          0,
          0,
          0,
          0,
          1.4000199094810046e-16,
          0,
          6.410892925853286e-17,
          8.128616862344704e-18,
          0,
          1.2879767017082883e-16,
          0,
          9.021813169998314e-17,
          0,
          5.548362537910433e-17,
          6.683763225869798e-17,
          5.246861497430084e-17,
          0,
          0,
          0,
          0,
          0,
          0,
          0,
          0,
          0,
          0
         ]
        }
       ],
       "layout": {
        "template": {
         "data": {
          "bar": [
           {
            "error_x": {
             "color": "#2a3f5f"
            },
            "error_y": {
             "color": "#2a3f5f"
            },
            "marker": {
             "line": {
              "color": "#E5ECF6",
              "width": 0.5
             },
             "pattern": {
              "fillmode": "overlay",
              "size": 10,
              "solidity": 0.2
             }
            },
            "type": "bar"
           }
          ],
          "barpolar": [
           {
            "marker": {
             "line": {
              "color": "#E5ECF6",
              "width": 0.5
             },
             "pattern": {
              "fillmode": "overlay",
              "size": 10,
              "solidity": 0.2
             }
            },
            "type": "barpolar"
           }
          ],
          "carpet": [
           {
            "aaxis": {
             "endlinecolor": "#2a3f5f",
             "gridcolor": "white",
             "linecolor": "white",
             "minorgridcolor": "white",
             "startlinecolor": "#2a3f5f"
            },
            "baxis": {
             "endlinecolor": "#2a3f5f",
             "gridcolor": "white",
             "linecolor": "white",
             "minorgridcolor": "white",
             "startlinecolor": "#2a3f5f"
            },
            "type": "carpet"
           }
          ],
          "choropleth": [
           {
            "colorbar": {
             "outlinewidth": 0,
             "ticks": ""
            },
            "type": "choropleth"
           }
          ],
          "contour": [
           {
            "colorbar": {
             "outlinewidth": 0,
             "ticks": ""
            },
            "colorscale": [
             [
              0,
              "#0d0887"
             ],
             [
              0.1111111111111111,
              "#46039f"
             ],
             [
              0.2222222222222222,
              "#7201a8"
             ],
             [
              0.3333333333333333,
              "#9c179e"
             ],
             [
              0.4444444444444444,
              "#bd3786"
             ],
             [
              0.5555555555555556,
              "#d8576b"
             ],
             [
              0.6666666666666666,
              "#ed7953"
             ],
             [
              0.7777777777777778,
              "#fb9f3a"
             ],
             [
              0.8888888888888888,
              "#fdca26"
             ],
             [
              1,
              "#f0f921"
             ]
            ],
            "type": "contour"
           }
          ],
          "contourcarpet": [
           {
            "colorbar": {
             "outlinewidth": 0,
             "ticks": ""
            },
            "type": "contourcarpet"
           }
          ],
          "heatmap": [
           {
            "colorbar": {
             "outlinewidth": 0,
             "ticks": ""
            },
            "colorscale": [
             [
              0,
              "#0d0887"
             ],
             [
              0.1111111111111111,
              "#46039f"
             ],
             [
              0.2222222222222222,
              "#7201a8"
             ],
             [
              0.3333333333333333,
              "#9c179e"
             ],
             [
              0.4444444444444444,
              "#bd3786"
             ],
             [
              0.5555555555555556,
              "#d8576b"
             ],
             [
              0.6666666666666666,
              "#ed7953"
             ],
             [
              0.7777777777777778,
              "#fb9f3a"
             ],
             [
              0.8888888888888888,
              "#fdca26"
             ],
             [
              1,
              "#f0f921"
             ]
            ],
            "type": "heatmap"
           }
          ],
          "heatmapgl": [
           {
            "colorbar": {
             "outlinewidth": 0,
             "ticks": ""
            },
            "colorscale": [
             [
              0,
              "#0d0887"
             ],
             [
              0.1111111111111111,
              "#46039f"
             ],
             [
              0.2222222222222222,
              "#7201a8"
             ],
             [
              0.3333333333333333,
              "#9c179e"
             ],
             [
              0.4444444444444444,
              "#bd3786"
             ],
             [
              0.5555555555555556,
              "#d8576b"
             ],
             [
              0.6666666666666666,
              "#ed7953"
             ],
             [
              0.7777777777777778,
              "#fb9f3a"
             ],
             [
              0.8888888888888888,
              "#fdca26"
             ],
             [
              1,
              "#f0f921"
             ]
            ],
            "type": "heatmapgl"
           }
          ],
          "histogram": [
           {
            "marker": {
             "pattern": {
              "fillmode": "overlay",
              "size": 10,
              "solidity": 0.2
             }
            },
            "type": "histogram"
           }
          ],
          "histogram2d": [
           {
            "colorbar": {
             "outlinewidth": 0,
             "ticks": ""
            },
            "colorscale": [
             [
              0,
              "#0d0887"
             ],
             [
              0.1111111111111111,
              "#46039f"
             ],
             [
              0.2222222222222222,
              "#7201a8"
             ],
             [
              0.3333333333333333,
              "#9c179e"
             ],
             [
              0.4444444444444444,
              "#bd3786"
             ],
             [
              0.5555555555555556,
              "#d8576b"
             ],
             [
              0.6666666666666666,
              "#ed7953"
             ],
             [
              0.7777777777777778,
              "#fb9f3a"
             ],
             [
              0.8888888888888888,
              "#fdca26"
             ],
             [
              1,
              "#f0f921"
             ]
            ],
            "type": "histogram2d"
           }
          ],
          "histogram2dcontour": [
           {
            "colorbar": {
             "outlinewidth": 0,
             "ticks": ""
            },
            "colorscale": [
             [
              0,
              "#0d0887"
             ],
             [
              0.1111111111111111,
              "#46039f"
             ],
             [
              0.2222222222222222,
              "#7201a8"
             ],
             [
              0.3333333333333333,
              "#9c179e"
             ],
             [
              0.4444444444444444,
              "#bd3786"
             ],
             [
              0.5555555555555556,
              "#d8576b"
             ],
             [
              0.6666666666666666,
              "#ed7953"
             ],
             [
              0.7777777777777778,
              "#fb9f3a"
             ],
             [
              0.8888888888888888,
              "#fdca26"
             ],
             [
              1,
              "#f0f921"
             ]
            ],
            "type": "histogram2dcontour"
           }
          ],
          "mesh3d": [
           {
            "colorbar": {
             "outlinewidth": 0,
             "ticks": ""
            },
            "type": "mesh3d"
           }
          ],
          "parcoords": [
           {
            "line": {
             "colorbar": {
              "outlinewidth": 0,
              "ticks": ""
             }
            },
            "type": "parcoords"
           }
          ],
          "pie": [
           {
            "automargin": true,
            "type": "pie"
           }
          ],
          "scatter": [
           {
            "fillpattern": {
             "fillmode": "overlay",
             "size": 10,
             "solidity": 0.2
            },
            "type": "scatter"
           }
          ],
          "scatter3d": [
           {
            "line": {
             "colorbar": {
              "outlinewidth": 0,
              "ticks": ""
             }
            },
            "marker": {
             "colorbar": {
              "outlinewidth": 0,
              "ticks": ""
             }
            },
            "type": "scatter3d"
           }
          ],
          "scattercarpet": [
           {
            "marker": {
             "colorbar": {
              "outlinewidth": 0,
              "ticks": ""
             }
            },
            "type": "scattercarpet"
           }
          ],
          "scattergeo": [
           {
            "marker": {
             "colorbar": {
              "outlinewidth": 0,
              "ticks": ""
             }
            },
            "type": "scattergeo"
           }
          ],
          "scattergl": [
           {
            "marker": {
             "colorbar": {
              "outlinewidth": 0,
              "ticks": ""
             }
            },
            "type": "scattergl"
           }
          ],
          "scattermapbox": [
           {
            "marker": {
             "colorbar": {
              "outlinewidth": 0,
              "ticks": ""
             }
            },
            "type": "scattermapbox"
           }
          ],
          "scatterpolar": [
           {
            "marker": {
             "colorbar": {
              "outlinewidth": 0,
              "ticks": ""
             }
            },
            "type": "scatterpolar"
           }
          ],
          "scatterpolargl": [
           {
            "marker": {
             "colorbar": {
              "outlinewidth": 0,
              "ticks": ""
             }
            },
            "type": "scatterpolargl"
           }
          ],
          "scatterternary": [
           {
            "marker": {
             "colorbar": {
              "outlinewidth": 0,
              "ticks": ""
             }
            },
            "type": "scatterternary"
           }
          ],
          "surface": [
           {
            "colorbar": {
             "outlinewidth": 0,
             "ticks": ""
            },
            "colorscale": [
             [
              0,
              "#0d0887"
             ],
             [
              0.1111111111111111,
              "#46039f"
             ],
             [
              0.2222222222222222,
              "#7201a8"
             ],
             [
              0.3333333333333333,
              "#9c179e"
             ],
             [
              0.4444444444444444,
              "#bd3786"
             ],
             [
              0.5555555555555556,
              "#d8576b"
             ],
             [
              0.6666666666666666,
              "#ed7953"
             ],
             [
              0.7777777777777778,
              "#fb9f3a"
             ],
             [
              0.8888888888888888,
              "#fdca26"
             ],
             [
              1,
              "#f0f921"
             ]
            ],
            "type": "surface"
           }
          ],
          "table": [
           {
            "cells": {
             "fill": {
              "color": "#EBF0F8"
             },
             "line": {
              "color": "white"
             }
            },
            "header": {
             "fill": {
              "color": "#C8D4E3"
             },
             "line": {
              "color": "white"
             }
            },
            "type": "table"
           }
          ]
         },
         "layout": {
          "annotationdefaults": {
           "arrowcolor": "#2a3f5f",
           "arrowhead": 0,
           "arrowwidth": 1
          },
          "autotypenumbers": "strict",
          "coloraxis": {
           "colorbar": {
            "outlinewidth": 0,
            "ticks": ""
           }
          },
          "colorscale": {
           "diverging": [
            [
             0,
             "#8e0152"
            ],
            [
             0.1,
             "#c51b7d"
            ],
            [
             0.2,
             "#de77ae"
            ],
            [
             0.3,
             "#f1b6da"
            ],
            [
             0.4,
             "#fde0ef"
            ],
            [
             0.5,
             "#f7f7f7"
            ],
            [
             0.6,
             "#e6f5d0"
            ],
            [
             0.7,
             "#b8e186"
            ],
            [
             0.8,
             "#7fbc41"
            ],
            [
             0.9,
             "#4d9221"
            ],
            [
             1,
             "#276419"
            ]
           ],
           "sequential": [
            [
             0,
             "#0d0887"
            ],
            [
             0.1111111111111111,
             "#46039f"
            ],
            [
             0.2222222222222222,
             "#7201a8"
            ],
            [
             0.3333333333333333,
             "#9c179e"
            ],
            [
             0.4444444444444444,
             "#bd3786"
            ],
            [
             0.5555555555555556,
             "#d8576b"
            ],
            [
             0.6666666666666666,
             "#ed7953"
            ],
            [
             0.7777777777777778,
             "#fb9f3a"
            ],
            [
             0.8888888888888888,
             "#fdca26"
            ],
            [
             1,
             "#f0f921"
            ]
           ],
           "sequentialminus": [
            [
             0,
             "#0d0887"
            ],
            [
             0.1111111111111111,
             "#46039f"
            ],
            [
             0.2222222222222222,
             "#7201a8"
            ],
            [
             0.3333333333333333,
             "#9c179e"
            ],
            [
             0.4444444444444444,
             "#bd3786"
            ],
            [
             0.5555555555555556,
             "#d8576b"
            ],
            [
             0.6666666666666666,
             "#ed7953"
            ],
            [
             0.7777777777777778,
             "#fb9f3a"
            ],
            [
             0.8888888888888888,
             "#fdca26"
            ],
            [
             1,
             "#f0f921"
            ]
           ]
          },
          "colorway": [
           "#636efa",
           "#EF553B",
           "#00cc96",
           "#ab63fa",
           "#FFA15A",
           "#19d3f3",
           "#FF6692",
           "#B6E880",
           "#FF97FF",
           "#FECB52"
          ],
          "font": {
           "color": "#2a3f5f"
          },
          "geo": {
           "bgcolor": "white",
           "lakecolor": "white",
           "landcolor": "#E5ECF6",
           "showlakes": true,
           "showland": true,
           "subunitcolor": "white"
          },
          "hoverlabel": {
           "align": "left"
          },
          "hovermode": "closest",
          "mapbox": {
           "style": "light"
          },
          "paper_bgcolor": "white",
          "plot_bgcolor": "#E5ECF6",
          "polar": {
           "angularaxis": {
            "gridcolor": "white",
            "linecolor": "white",
            "ticks": ""
           },
           "bgcolor": "#E5ECF6",
           "radialaxis": {
            "gridcolor": "white",
            "linecolor": "white",
            "ticks": ""
           }
          },
          "scene": {
           "xaxis": {
            "backgroundcolor": "#E5ECF6",
            "gridcolor": "white",
            "gridwidth": 2,
            "linecolor": "white",
            "showbackground": true,
            "ticks": "",
            "zerolinecolor": "white"
           },
           "yaxis": {
            "backgroundcolor": "#E5ECF6",
            "gridcolor": "white",
            "gridwidth": 2,
            "linecolor": "white",
            "showbackground": true,
            "ticks": "",
            "zerolinecolor": "white"
           },
           "zaxis": {
            "backgroundcolor": "#E5ECF6",
            "gridcolor": "white",
            "gridwidth": 2,
            "linecolor": "white",
            "showbackground": true,
            "ticks": "",
            "zerolinecolor": "white"
           }
          },
          "shapedefaults": {
           "line": {
            "color": "#2a3f5f"
           }
          },
          "ternary": {
           "aaxis": {
            "gridcolor": "white",
            "linecolor": "white",
            "ticks": ""
           },
           "baxis": {
            "gridcolor": "white",
            "linecolor": "white",
            "ticks": ""
           },
           "bgcolor": "#E5ECF6",
           "caxis": {
            "gridcolor": "white",
            "linecolor": "white",
            "ticks": ""
           }
          },
          "title": {
           "x": 0.05
          },
          "xaxis": {
           "automargin": true,
           "gridcolor": "white",
           "linecolor": "white",
           "ticks": "",
           "title": {
            "standoff": 15
           },
           "zerolinecolor": "white",
           "zerolinewidth": 2
          },
          "yaxis": {
           "automargin": true,
           "gridcolor": "white",
           "linecolor": "white",
           "ticks": "",
           "title": {
            "standoff": 15
           },
           "zerolinecolor": "white",
           "zerolinewidth": 2
          }
         }
        },
        "title": {
         "text": "Bar Plot des Poids Optimaux du Portefeuille"
        },
        "xaxis": {
         "title": {
          "text": "Indices des Actifs"
         }
        },
        "yaxis": {
         "title": {
          "text": "Poids dans le Portefeuille"
         }
        }
       }
      }
     },
     "metadata": {},
     "output_type": "display_data"
    }
   ],
   "source": [
    "# Supposons que vous voulez tracer la première ligne de xOptimalArray\n",
    "ligne_a_tracer = np.array(xOptimalArray)[0]\n",
    "\n",
    "# Créer un graphique en barres\n",
    "fig = go.Figure(data=[go.Bar(\n",
    "            x=list(range(len(ligne_a_tracer))), \n",
    "            y=ligne_a_tracer,\n",
    "            hovertext=[f'Position: {i}' for i in range(len(ligne_a_tracer))],\n",
    "            hoverinfo=\"text+y\"\n",
    ")])\n",
    "\n",
    "# Mise à jour des étiquettes et du titre\n",
    "fig.update_layout(title='Bar Plot des Poids Optimaux du Portefeuille',\n",
    "                  xaxis_title='Indices des Actifs',\n",
    "                  yaxis_title='Poids dans le Portefeuille')\n",
    "\n",
    "# Afficher le graphique\n",
    "fig.show()"
   ]
  },
  {
   "cell_type": "markdown",
   "metadata": {},
   "source": [
    "### Constrained Portfolio Optimization"
   ]
  },
  {
   "cell_type": "code",
   "execution_count": 30,
   "metadata": {},
   "outputs": [
    {
     "name": "stdout",
     "output_type": "stream",
     "text": [
      "Asset Betas:\n",
      "AAPL    0.937872\n",
      "ABBV    0.009882\n",
      "ABT     0.388923\n",
      "ACN     0.863874\n",
      "ADBE    1.296477\n",
      "          ...   \n",
      "UPS     0.752005\n",
      "V       0.520814\n",
      "VZ      0.224182\n",
      "WMT     0.251460\n",
      "XOM     0.204789\n",
      "Length: 107, dtype: float64\n"
     ]
    }
   ],
   "source": [
    "# Supposons que stocks_D_ret est votre DataFrame avec les rendements des actions\n",
    "# et indices_D_ret est votre DataFrame avec les rendements des indices\n",
    "\n",
    "# Extraire les rendements de l'indice ^IXIC\n",
    "ixic_returns = indices_D_ret['^IXIC']\n",
    "\n",
    "# Calculer la variance des rendements de l'indice ^IXIC\n",
    "ixic_var = np.var(ixic_returns, ddof=1)\n",
    "\n",
    "# Initialiser la liste pour stocker les bêtas\n",
    "betas = []\n",
    "\n",
    "# Calculer le bêta pour chaque stock\n",
    "for stock in stocks_D_ret.columns:\n",
    "    # Calculer la covariance entre les rendements du stock et ceux de l'indice ^IXIC\n",
    "    covar = np.cov(stocks_D_ret[stock], ixic_returns, ddof=1)[0][1]\n",
    "    \n",
    "    # Calculer le bêta et l'ajouter à la liste\n",
    "    beta = covar / ixic_var\n",
    "    betas.append(beta)\n",
    "\n",
    "# Créer une série Pandas pour les bêtas avec les noms des stocks comme index\n",
    "betas_series = pd.Series(betas, index=stocks_D_ret.columns)\n",
    "\n",
    "# Afficher les bêtas des actifs\n",
    "print('Asset Betas:')\n",
    "print(betas_series)\n"
   ]
  },
  {
   "cell_type": "code",
   "execution_count": 31,
   "metadata": {},
   "outputs": [
    {
     "data": {
      "image/png": "[encoded data removed]",
      "text/plain": [
       "<Figure size 1400x700 with 1 Axes>"
      ]
     },
     "metadata": {},
     "output_type": "display_data"
    }
   ],
   "source": [
    "# Supposons que 'betas' est une liste ou une série Pandas contenant les bêtas calculés de vos actions.\n",
    "\n",
    "# Importons d'abord les bibliothèques nécessaires.\n",
    "import matplotlib.pyplot as plt\n",
    "import seaborn as sns\n",
    "\n",
    "# Supposons que 'betas_series' est la série Pandas contenant vos bêtas.\n",
    "# Remplacez 'betas_series' par la série réelle contenant les bêtas de vos actions.\n",
    "betas_series = pd.Series(betas_series.values, index = betas_series.index)  # Exemple de données\n",
    "\n",
    "# Tri des bêtas pour améliorer la visualisation\n",
    "betas_series_sorted = betas_series.sort_values()\n",
    "\n",
    "# Configuration de Seaborn pour les graphiques plus esthétiques\n",
    "sns.set(style=\"whitegrid\")\n",
    "\n",
    "# Création du graphique à barres\n",
    "plt.figure(figsize=(14, 7))\n",
    "ax = sns.barplot(x=betas_series_sorted.index, y=betas_series_sorted.values, palette=\"coolwarm\")\n",
    "\n",
    "# Ajout de titres et d'étiquettes\n",
    "plt.title('Bêtas des actions par rapport à ^IXIC')\n",
    "plt.xlabel('Actions')\n",
    "plt.ylabel('Bêta')\n",
    "\n",
    "# Rotation des étiquettes des axes x pour une meilleure lisibilité\n",
    "plt.xticks(rotation=45)\n",
    "\n",
    "# Afficher le graphique\n",
    "plt.show()\n"
   ]
  },
  {
   "cell_type": "code",
   "execution_count": 39,
   "metadata": {},
   "outputs": [],
   "source": [
    "#function to handle bi-criterion portfolio optimization with constraints\n",
    "\n",
    "def BiCriterionFunctionOptmzn(MeanReturns, CovarReturns, RiskAversParam, PortfolioSize):\n",
    "    \n",
    "    def  f(x, MeanReturns, CovarReturns, RiskAversParam, PortfolioSize):\n",
    "        PortfolioVariance = np.matmul(np.matmul(x, CovarReturns), x.T) \n",
    "        PortfolioExpReturn = np.matmul(np.array(MeanReturns),x.T)\n",
    "        func = RiskAversParam * PortfolioVariance - (1-RiskAversParam)*PortfolioExpReturn\n",
    "        return func\n",
    "    \n",
    "    def ConstraintEq(x):\n",
    "        A=np.ones(x.shape)\n",
    "        b=1\n",
    "        constraintVal = np.matmul(A,x.T)-b \n",
    "        return constraintVal\n",
    "    \n",
    "    def ConstraintIneqUpBounds(x):\n",
    "        A = np.where(betas_series > 1, 1, 0)\n",
    "        bUpBounds =np.array([0.6,0.4]).T\n",
    "        constraintValUpBounds = bUpBounds-np.matmul(A,x.T) \n",
    "        return constraintValUpBounds\n",
    "\n",
    "    def ConstraintIneqLowBounds(x):\n",
    "        A = np.where(betas_series > 1, 1, 0)\n",
    "        bLowBounds =np.array([0.01, 0.01]).T\n",
    "        constraintValLowBounds = np.matmul(A,x.T)-bLowBounds  \n",
    "        return constraintValLowBounds\n",
    "    \n",
    "    xinit=np.repeat(0.01, PortfolioSize)\n",
    "    cons = ({'type': 'eq', 'fun':ConstraintEq}, \\\n",
    "            {'type':'ineq', 'fun': ConstraintIneqUpBounds},\\\n",
    "            {'type':'ineq', 'fun': ConstraintIneqLowBounds})\n",
    "            \n",
    "    bnds = [(0, 0.1) if x > 1 else (0, 1) for x in betas_series]\n",
    "\n",
    "\n",
    "    opt = optimize.minimize (f, x0 = xinit, args = ( MeanReturns, CovarReturns,\\\n",
    "                                                    RiskAversParam, PortfolioSize), \\\n",
    "                             method = 'SLSQP',  bounds = bnds, constraints = cons, \\\n",
    "                             tol = 10**-3)\n",
    "    print(opt)\n",
    "    \n",
    "    return opt"
   ]
  },
  {
   "cell_type": "code",
   "execution_count": 40,
   "metadata": {},
   "outputs": [
    {
     "name": "stdout",
     "output_type": "stream",
     "text": [
      "     fun: -0.2913783592101937\n",
      "     jac: array([-0.115,  0.029, -0.004, -0.065, -0.254,  0.041, -0.168, -0.236,\n",
      "       -0.003, -0.201, -0.078, -0.246, -0.06 ,  0.004, -0.114,  0.043,\n",
      "        0.035, -0.019, -0.023, -0.18 ,  0.171, -0.038, -0.057, -0.089,\n",
      "       -0.011, -0.085, -0.253, -0.011,  0.063,  0.057,  0.02 ,  0.013,\n",
      "        0.017, -0.251, -0.131, -0.128,  0.012, -0.01 ,  0.032,  0.025,\n",
      "       -0.13 , -0.056, -0.197, -0.159, -0.075,  0.031, -0.08 ,  0.021,\n",
      "       -0.093, -0.197,  0.022,  0.001, -0.034, -0.065, -0.031, -0.025,\n",
      "       -0.42 ,  0.007,  0.024, -0.171, -0.203,  0.119, -0.179, -0.055,\n",
      "       -0.025, -0.227, -0.457, -0.212, -0.059, -0.158, -0.272,  0.023,\n",
      "        0.199, -0.019, -0.029,  0.015, -0.044,  0.06 ,  0.013, -0.193,\n",
      "       -0.159,  0.005, -0.076, -0.047, -0.028, -0.078, -0.097,  0.01 ,\n",
      "       -0.017, -0.02 ,  0.022, -0.053, -0.12 ,  0.039, -0.009, -0.148,\n",
      "       -0.103, -0.073,  0.03 ,  0.011, -0.023, -0.051,  0.053, -0.074,\n",
      "       -0.043, -0.014, -0.   ])\n",
      " message: 'Optimization terminated successfully'\n",
      "    nfev: 648\n",
      "     nit: 6\n",
      "    njev: 6\n",
      "  status: 0\n",
      " success: True\n",
      "       x: array([0.   , 0.   , 0.   , 0.   , 0.079, 0.   , 0.   , 0.   , 0.   ,\n",
      "       0.   , 0.   , 0.02 , 0.   , 0.   , 0.   , 0.   , 0.   , 0.   ,\n",
      "       0.   , 0.   , 0.   , 0.   , 0.   , 0.   , 0.   , 0.   , 0.312,\n",
      "       0.   , 0.   , 0.   , 0.   , 0.   , 0.   , 0.289, 0.   , 0.   ,\n",
      "       0.   , 0.   , 0.   , 0.   , 0.   , 0.   , 0.   , 0.   , 0.   ,\n",
      "       0.   , 0.   , 0.   , 0.   , 0.   , 0.   , 0.   , 0.   , 0.   ,\n",
      "       0.   , 0.   , 0.1  , 0.   , 0.   , 0.   , 0.   , 0.   , 0.   ,\n",
      "       0.   , 0.   , 0.   , 0.1  , 0.   , 0.   , 0.   , 0.1  , 0.   ,\n",
      "       0.   , 0.   , 0.   , 0.   , 0.   , 0.   , 0.   , 0.   , 0.   ,\n",
      "       0.   , 0.   , 0.   , 0.   , 0.   , 0.   , 0.   , 0.   , 0.   ,\n",
      "       0.   , 0.   , 0.   , 0.   , 0.   , 0.   , 0.   , 0.   , 0.   ,\n",
      "       0.   , 0.   , 0.   , 0.   , 0.   , 0.   , 0.   , 0.   ])\n",
      "     fun: -0.25170025511370747\n",
      "     jac: array([-0.075,  0.031,  0.012, -0.024, -0.186,  0.065, -0.103, -0.148,\n",
      "        0.007, -0.141, -0.016, -0.187, -0.022,  0.015, -0.079,  0.087,\n",
      "        0.064,  0.016,  0.01 , -0.137,  0.174, -0.022, -0.025, -0.054,\n",
      "        0.004, -0.058, -0.188,  0.012,  0.072,  0.078,  0.044,  0.05 ,\n",
      "        0.021, -0.197, -0.078, -0.076,  0.041,  0.019,  0.045,  0.049,\n",
      "       -0.109, -0.04 , -0.141, -0.099, -0.033,  0.036, -0.053,  0.029,\n",
      "       -0.068, -0.179,  0.027,  0.031, -0.001, -0.034, -0.017, -0.01 ,\n",
      "       -0.339,  0.01 ,  0.058, -0.124, -0.174,  0.136, -0.126, -0.043,\n",
      "        0.009, -0.164, -0.354, -0.187, -0.052, -0.119, -0.185,  0.03 ,\n",
      "        0.202, -0.011,  0.008,  0.025,  0.01 ,  0.07 ,  0.037, -0.149,\n",
      "       -0.122,  0.03 , -0.06 , -0.038,  0.007, -0.04 , -0.066,  0.021,\n",
      "       -0.003, -0.007,  0.043, -0.035, -0.096,  0.066,  0.   , -0.075,\n",
      "       -0.047, -0.059,  0.072,  0.022, -0.023, -0.029,  0.088, -0.047,\n",
      "       -0.029, -0.005,  0.009])\n",
      " message: 'Optimization terminated successfully'\n",
      "    nfev: 648\n",
      "     nit: 6\n",
      "    njev: 6\n",
      "  status: 0\n",
      " success: True\n",
      "       x: array([0.   , 0.   , 0.   , 0.   , 0.051, 0.   , 0.   , 0.   , 0.   ,\n",
      "       0.   , 0.   , 0.048, 0.   , 0.   , 0.   , 0.   , 0.   , 0.   ,\n",
      "       0.   , 0.   , 0.   , 0.   , 0.   , 0.   , 0.   , 0.   , 0.219,\n",
      "       0.   , 0.   , 0.   , 0.   , 0.   , 0.   , 0.301, 0.   , 0.   ,\n",
      "       0.   , 0.   , 0.   , 0.   , 0.   , 0.   , 0.   , 0.   , 0.   ,\n",
      "       0.   , 0.   , 0.   , 0.   , 0.005, 0.   , 0.   , 0.   , 0.   ,\n",
      "       0.   , 0.   , 0.1  , 0.   , 0.   , 0.   , 0.   , 0.   , 0.   ,\n",
      "       0.   , 0.   , 0.   , 0.1  , 0.1  , 0.   , 0.   , 0.076, 0.   ,\n",
      "       0.   , 0.   , 0.   , 0.   , 0.   , 0.   , 0.   , 0.   , 0.   ,\n",
      "       0.   , 0.   , 0.   , 0.   , 0.   , 0.   , 0.   , 0.   , 0.   ,\n",
      "       0.   , 0.   , 0.   , 0.   , 0.   , 0.   , 0.   , 0.   , 0.   ,\n",
      "       0.   , 0.   , 0.   , 0.   , 0.   , 0.   , 0.   , 0.   ])\n",
      "     fun: -0.22025369261351457\n",
      "     jac: array([-0.043,  0.035,  0.022,  0.005, -0.138,  0.084, -0.057, -0.089,\n",
      "        0.022, -0.097,  0.029, -0.142,  0.008,  0.028, -0.053,  0.11 ,\n",
      "        0.085,  0.043,  0.034, -0.103,  0.178, -0.007,  0.001, -0.026,\n",
      "        0.017, -0.039, -0.146,  0.027,  0.079,  0.096,  0.059,  0.078,\n",
      "        0.029, -0.156, -0.04 , -0.038,  0.063,  0.04 ,  0.056,  0.068,\n",
      "       -0.091, -0.027, -0.105, -0.054, -0.001,  0.043, -0.032,  0.037,\n",
      "       -0.048, -0.136,  0.032,  0.054,  0.024, -0.009, -0.004,  0.   ,\n",
      "       -0.276,  0.019,  0.083, -0.088, -0.139,  0.151, -0.089, -0.03 ,\n",
      "        0.034, -0.118, -0.274, -0.142, -0.04 , -0.086, -0.147,  0.036,\n",
      "        0.206, -0.001,  0.035,  0.034,  0.047,  0.079,  0.054, -0.117,\n",
      "       -0.094,  0.049, -0.045, -0.026,  0.034, -0.009, -0.043,  0.03 ,\n",
      "        0.009,  0.004,  0.06 , -0.019, -0.075,  0.084,  0.01 , -0.024,\n",
      "       -0.008, -0.046,  0.101,  0.031, -0.018, -0.014,  0.111, -0.025,\n",
      "       -0.018,  0.005,  0.017])\n",
      " message: 'Optimization terminated successfully'\n",
      "    nfev: 541\n",
      "     nit: 5\n",
      "    njev: 5\n",
      "  status: 0\n",
      " success: True\n",
      "       x: array([0.   , 0.   , 0.   , 0.   , 0.   , 0.   , 0.   , 0.   , 0.   ,\n",
      "       0.   , 0.   , 0.032, 0.   , 0.   , 0.   , 0.   , 0.   , 0.   ,\n",
      "       0.   , 0.   , 0.   , 0.   , 0.   , 0.   , 0.   , 0.   , 0.177,\n",
      "       0.   , 0.   , 0.   , 0.   , 0.   , 0.   , 0.304, 0.   , 0.   ,\n",
      "       0.   , 0.   , 0.   , 0.   , 0.   , 0.   , 0.   , 0.   , 0.   ,\n",
      "       0.   , 0.   , 0.   , 0.   , 0.077, 0.   , 0.   , 0.   , 0.   ,\n",
      "       0.   , 0.   , 0.1  , 0.   , 0.   , 0.   , 0.03 , 0.   , 0.   ,\n",
      "       0.   , 0.   , 0.   , 0.1  , 0.141, 0.   , 0.   , 0.038, 0.   ,\n",
      "       0.   , 0.   , 0.   , 0.   , 0.   , 0.   , 0.   , 0.   , 0.   ,\n",
      "       0.   , 0.   , 0.   , 0.   , 0.   , 0.   , 0.   , 0.   , 0.   ,\n",
      "       0.   , 0.   , 0.   , 0.   , 0.   , 0.   , 0.   , 0.   , 0.   ,\n",
      "       0.   , 0.   , 0.   , 0.   , 0.   , 0.   , 0.   , 0.   ])\n",
      "     fun: -0.1907573432763125\n",
      "     jac: array([-0.011,  0.038,  0.032,  0.034, -0.089,  0.101, -0.012, -0.032,\n",
      "        0.036, -0.052,  0.072, -0.098,  0.037,  0.041, -0.026,  0.135,\n",
      "        0.106,  0.07 ,  0.059, -0.07 ,  0.182,  0.008,  0.027,  0.001,\n",
      "        0.031, -0.02 , -0.108,  0.042,  0.086,  0.113,  0.074,  0.104,\n",
      "        0.038, -0.119, -0.002, -0.001,  0.085,  0.061,  0.067,  0.086,\n",
      "       -0.072, -0.015, -0.069, -0.012,  0.029,  0.05 , -0.011,  0.043,\n",
      "       -0.029, -0.091,  0.036,  0.076,  0.049,  0.015,  0.009,  0.011,\n",
      "       -0.213,  0.028,  0.107, -0.052, -0.098,  0.164, -0.054, -0.018,\n",
      "        0.057, -0.074, -0.196, -0.095, -0.028, -0.053, -0.105,  0.042,\n",
      "        0.21 ,  0.009,  0.06 ,  0.044,  0.082,  0.088,  0.071, -0.086,\n",
      "       -0.066,  0.067, -0.029, -0.015,  0.062,  0.02 , -0.02 ,  0.038,\n",
      "        0.02 ,  0.014,  0.077, -0.003, -0.053,  0.101,  0.02 ,  0.026,\n",
      "        0.03 , -0.031,  0.129,  0.041, -0.012,  0.001,  0.133, -0.004,\n",
      "       -0.008,  0.014,  0.026])\n",
      " message: 'Optimization terminated successfully'\n",
      "    nfev: 432\n",
      "     nit: 4\n",
      "    njev: 4\n",
      "  status: 0\n",
      " success: True\n",
      "       x: array([0.   , 0.   , 0.   , 0.   , 0.001, 0.   , 0.   , 0.   , 0.   ,\n",
      "       0.   , 0.   , 0.042, 0.   , 0.   , 0.   , 0.   , 0.   , 0.   ,\n",
      "       0.   , 0.   , 0.   , 0.   , 0.   , 0.   , 0.   , 0.   , 0.133,\n",
      "       0.   , 0.   , 0.   , 0.   , 0.   , 0.   , 0.204, 0.   , 0.   ,\n",
      "       0.   , 0.   , 0.   , 0.   , 0.   , 0.   , 0.   , 0.   , 0.   ,\n",
      "       0.   , 0.   , 0.   , 0.   , 0.14 , 0.   , 0.   , 0.   , 0.   ,\n",
      "       0.   , 0.   , 0.1  , 0.   , 0.   , 0.   , 0.087, 0.   , 0.   ,\n",
      "       0.   , 0.   , 0.   , 0.1  , 0.158, 0.   , 0.   , 0.035, 0.   ,\n",
      "       0.   , 0.   , 0.   , 0.   , 0.   , 0.   , 0.   , 0.   , 0.   ,\n",
      "       0.   , 0.   , 0.   , 0.   , 0.   , 0.   , 0.   , 0.   , 0.   ,\n",
      "       0.   , 0.   , 0.   , 0.   , 0.   , 0.   , 0.   , 0.   , 0.   ,\n",
      "       0.   , 0.   , 0.   , 0.   , 0.   , 0.   , 0.   , 0.   ])\n",
      "     fun: -0.16446995491502903\n",
      "     jac: array([ 0.021,  0.041,  0.043,  0.064, -0.04 ,  0.119,  0.032,  0.026,\n",
      "        0.05 , -0.008,  0.116, -0.057,  0.068,  0.054,  0.001,  0.161,\n",
      "        0.129,  0.1  ,  0.085, -0.035,  0.186,  0.023,  0.054,  0.029,\n",
      "        0.045, -0.002, -0.069,  0.057,  0.093,  0.13 ,  0.09 ,  0.132,\n",
      "        0.046, -0.079,  0.036,  0.037,  0.107,  0.081,  0.079,  0.105,\n",
      "       -0.052, -0.002, -0.034,  0.031,  0.061,  0.057,  0.01 ,  0.05 ,\n",
      "       -0.009, -0.05 ,  0.041,  0.099,  0.076,  0.039,  0.021,  0.022,\n",
      "       -0.15 ,  0.037,  0.133, -0.016, -0.058,  0.178, -0.018, -0.005,\n",
      "        0.081, -0.029, -0.117, -0.052, -0.016, -0.021, -0.063,  0.048,\n",
      "        0.213,  0.018,  0.086,  0.053,  0.118,  0.097,  0.089, -0.051,\n",
      "       -0.038,  0.086, -0.013, -0.003,  0.089,  0.051,  0.002,  0.047,\n",
      "        0.032,  0.025,  0.095,  0.013, -0.032,  0.119,  0.03 ,  0.077,\n",
      "        0.069, -0.017,  0.157,  0.051, -0.007,  0.017,  0.156,  0.018,\n",
      "        0.003,  0.023,  0.035])\n",
      " message: 'Optimization terminated successfully'\n",
      "    nfev: 433\n",
      "     nit: 4\n",
      "    njev: 4\n",
      "  status: 0\n",
      " success: True\n",
      "       x: array([0.   , 0.   , 0.   , 0.   , 0.   , 0.   , 0.   , 0.   , 0.   ,\n",
      "       0.   , 0.   , 0.019, 0.   , 0.   , 0.   , 0.   , 0.   , 0.   ,\n",
      "       0.   , 0.   , 0.   , 0.   , 0.   , 0.   , 0.   , 0.   , 0.135,\n",
      "       0.   , 0.   , 0.   , 0.   , 0.   , 0.   , 0.238, 0.   , 0.   ,\n",
      "       0.   , 0.   , 0.   , 0.   , 0.   , 0.   , 0.   , 0.   , 0.   ,\n",
      "       0.   , 0.   , 0.   , 0.   , 0.136, 0.   , 0.   , 0.   , 0.   ,\n",
      "       0.   , 0.   , 0.1  , 0.   , 0.   , 0.   , 0.094, 0.   , 0.   ,\n",
      "       0.   , 0.   , 0.   , 0.1  , 0.147, 0.   , 0.   , 0.031, 0.   ,\n",
      "       0.   , 0.   , 0.   , 0.   , 0.   , 0.   , 0.   , 0.   , 0.   ,\n",
      "       0.   , 0.   , 0.   , 0.   , 0.   , 0.   , 0.   , 0.   , 0.   ,\n",
      "       0.   , 0.   , 0.   , 0.   , 0.   , 0.   , 0.   , 0.   , 0.   ,\n",
      "       0.   , 0.   , 0.   , 0.   , 0.   , 0.   , 0.   , 0.   ])\n",
      "     fun: -0.137515682796212\n",
      "     jac: array([ 0.05 ,  0.042,  0.053,  0.091,  0.004,  0.137,  0.075,  0.082,\n",
      "        0.062,  0.034,  0.159, -0.021,  0.098,  0.066,  0.029,  0.191,\n",
      "        0.153,  0.136,  0.113, -0.001,  0.19 ,  0.04 ,  0.081,  0.055,\n",
      "        0.062,  0.015, -0.032,  0.07 ,  0.102,  0.148,  0.106,  0.16 ,\n",
      "        0.053, -0.039,  0.073,  0.072,  0.13 ,  0.1  ,  0.092,  0.123,\n",
      "       -0.024,  0.01 , -0.   ,  0.073,  0.091,  0.063,  0.033,  0.056,\n",
      "        0.011, -0.018,  0.045,  0.119,  0.107,  0.063,  0.033,  0.035,\n",
      "       -0.088,  0.045,  0.16 ,  0.017, -0.018,  0.19 ,  0.015,  0.007,\n",
      "        0.104,  0.013, -0.041, -0.018, -0.005,  0.009, -0.019,  0.053,\n",
      "        0.217,  0.026,  0.112,  0.063,  0.153,  0.106,  0.109, -0.016,\n",
      "       -0.011,  0.105,  0.004,  0.007,  0.116,  0.08 ,  0.024,  0.055,\n",
      "        0.043,  0.036,  0.115,  0.029, -0.011,  0.137,  0.04 ,  0.126,\n",
      "        0.108, -0.   ,  0.184,  0.061, -0.004,  0.033,  0.179,  0.039,\n",
      "        0.013,  0.031,  0.045])\n",
      " message: 'Optimization terminated successfully'\n",
      "    nfev: 432\n",
      "     nit: 4\n",
      "    njev: 4\n",
      "  status: 0\n",
      " success: True\n",
      "       x: array([0.   , 0.   , 0.   , 0.   , 0.   , 0.   , 0.   , 0.   , 0.   ,\n",
      "       0.   , 0.   , 0.016, 0.   , 0.   , 0.   , 0.   , 0.   , 0.   ,\n",
      "       0.   , 0.   , 0.   , 0.   , 0.   , 0.   , 0.   , 0.   , 0.108,\n",
      "       0.   , 0.   , 0.   , 0.   , 0.   , 0.   , 0.189, 0.   , 0.   ,\n",
      "       0.   , 0.   , 0.   , 0.   , 0.049, 0.   , 0.   , 0.   , 0.   ,\n",
      "       0.   , 0.   , 0.   , 0.   , 0.152, 0.   , 0.   , 0.   , 0.   ,\n",
      "       0.   , 0.   , 0.1  , 0.   , 0.   , 0.   , 0.098, 0.   , 0.   ,\n",
      "       0.   , 0.   , 0.   , 0.1  , 0.151, 0.   , 0.   , 0.028, 0.   ,\n",
      "       0.   , 0.   , 0.   , 0.   , 0.   , 0.   , 0.   , 0.009, 0.   ,\n",
      "       0.   , 0.   , 0.   , 0.   , 0.   , 0.   , 0.   , 0.   , 0.   ,\n",
      "       0.   , 0.   , 0.   , 0.   , 0.   , 0.   , 0.   , 0.   , 0.   ,\n",
      "       0.   , 0.   , 0.   , 0.   , 0.   , 0.   , 0.   , 0.   ])\n",
      "     fun: -0.11322924972427638\n",
      "     jac: array([ 0.074,  0.045,  0.067,  0.116,  0.042,  0.154,  0.109,  0.124,\n",
      "        0.072,  0.072,  0.194,  0.01 ,  0.128,  0.079,  0.058,  0.227,\n",
      "        0.18 ,  0.171,  0.142,  0.03 ,  0.196,  0.056,  0.107,  0.081,\n",
      "        0.081,  0.032,  0.008,  0.083,  0.113,  0.166,  0.122,  0.186,\n",
      "        0.062, -0.   ,  0.103,  0.102,  0.153,  0.119,  0.104,  0.142,\n",
      "        0.004,  0.023,  0.035,  0.11 ,  0.119,  0.071,  0.056,  0.064,\n",
      "        0.028,  0.001,  0.05 ,  0.14 ,  0.138,  0.085,  0.044,  0.05 ,\n",
      "       -0.033,  0.052,  0.186,  0.044,  0.02 ,  0.203,  0.046,  0.02 ,\n",
      "        0.126,  0.049,  0.004,  0.001,  0.008,  0.032,  0.043,  0.059,\n",
      "        0.221,  0.035,  0.138,  0.074,  0.185,  0.114,  0.131,  0.018,\n",
      "        0.014,  0.124,  0.022,  0.018,  0.14 ,  0.107,  0.045,  0.068,\n",
      "        0.055,  0.047,  0.137,  0.044,  0.009,  0.155,  0.051,  0.166,\n",
      "        0.137,  0.018,  0.208,  0.073,  0.001,  0.05 ,  0.201,  0.058,\n",
      "        0.027,  0.039,  0.058])\n",
      " message: 'Optimization terminated successfully'\n",
      "    nfev: 433\n",
      "     nit: 4\n",
      "    njev: 4\n",
      "  status: 0\n",
      " success: True\n",
      "       x: array([0.   , 0.   , 0.   , 0.   , 0.   , 0.   , 0.   , 0.   , 0.   ,\n",
      "       0.   , 0.   , 0.007, 0.   , 0.   , 0.   , 0.   , 0.   , 0.   ,\n",
      "       0.   , 0.   , 0.   , 0.   , 0.   , 0.   , 0.   , 0.   , 0.121,\n",
      "       0.   , 0.   , 0.   , 0.   , 0.   , 0.   , 0.211, 0.   , 0.   ,\n",
      "       0.   , 0.   , 0.   , 0.   , 0.09 , 0.   , 0.   , 0.   , 0.   ,\n",
      "       0.   , 0.   , 0.   , 0.   , 0.138, 0.   , 0.   , 0.   , 0.   ,\n",
      "       0.   , 0.   , 0.1  , 0.   , 0.   , 0.   , 0.084, 0.   , 0.   ,\n",
      "       0.   , 0.   , 0.   , 0.09 , 0.126, 0.013, 0.   , 0.009, 0.   ,\n",
      "       0.   , 0.   , 0.   , 0.   , 0.   , 0.   , 0.   , 0.   , 0.   ,\n",
      "       0.   , 0.   , 0.   , 0.   , 0.   , 0.   , 0.   , 0.   , 0.   ,\n",
      "       0.   , 0.   , 0.   , 0.   , 0.   , 0.   , 0.   , 0.   , 0.   ,\n",
      "       0.   , 0.011, 0.   , 0.   , 0.   , 0.   , 0.   , 0.   ])\n",
      "     fun: -0.09126548183587037\n",
      "     jac: array([ 0.088,  0.051,  0.075,  0.128,  0.062,  0.167,  0.119,  0.133,\n",
      "        0.084,  0.091,  0.208,  0.022,  0.145,  0.093,  0.073,  0.223,\n",
      "        0.195,  0.19 ,  0.155,  0.049,  0.203,  0.068,  0.123,  0.096,\n",
      "        0.096,  0.043,  0.025,  0.09 ,  0.123,  0.179,  0.131,  0.204,\n",
      "        0.084,  0.019,  0.116,  0.115,  0.168,  0.129,  0.114,  0.156,\n",
      "        0.021,  0.035,  0.045,  0.129,  0.132,  0.08 ,  0.069,  0.071,\n",
      "        0.043,  0.024,  0.056,  0.153,  0.155,  0.099,  0.055,  0.062,\n",
      "       -0.003,  0.067,  0.202,  0.059,  0.044,  0.213,  0.061,  0.031,\n",
      "        0.136,  0.067,  0.014,  0.023,  0.029,  0.049,  0.016,  0.067,\n",
      "        0.228,  0.044,  0.151,  0.084,  0.196,  0.122,  0.144,  0.035,\n",
      "        0.031,  0.136,  0.036,  0.034,  0.153,  0.126,  0.056,  0.076,\n",
      "        0.062,  0.054,  0.152,  0.056,  0.026,  0.164,  0.063,  0.18 ,\n",
      "        0.143,  0.033,  0.216,  0.084,  0.023,  0.06 ,  0.21 ,  0.07 ,\n",
      "        0.036,  0.048,  0.07 ])\n",
      " message: 'Optimization terminated successfully'\n",
      "    nfev: 432\n",
      "     nit: 4\n",
      "    njev: 4\n",
      "  status: 0\n",
      " success: True\n",
      "       x: array([0.   , 0.   , 0.   , 0.   , 0.   , 0.   , 0.   , 0.   , 0.   ,\n",
      "       0.   , 0.   , 0.01 , 0.   , 0.   , 0.   , 0.   , 0.   , 0.   ,\n",
      "       0.   , 0.   , 0.   , 0.   , 0.   , 0.   , 0.   , 0.   , 0.098,\n",
      "       0.   , 0.   , 0.   , 0.   , 0.   , 0.   , 0.167, 0.   , 0.   ,\n",
      "       0.   , 0.   , 0.   , 0.   , 0.091, 0.   , 0.   , 0.   , 0.   ,\n",
      "       0.   , 0.   , 0.   , 0.   , 0.125, 0.   , 0.   , 0.   , 0.   ,\n",
      "       0.   , 0.   , 0.1  , 0.   , 0.   , 0.   , 0.083, 0.   , 0.   ,\n",
      "       0.   , 0.   , 0.   , 0.061, 0.113, 0.043, 0.   , 0.013, 0.   ,\n",
      "       0.   , 0.   , 0.   , 0.   , 0.   , 0.   , 0.   , 0.016, 0.009,\n",
      "       0.   , 0.   , 0.001, 0.   , 0.   , 0.   , 0.   , 0.   , 0.   ,\n",
      "       0.   , 0.   , 0.023, 0.   , 0.   , 0.   , 0.   , 0.005, 0.   ,\n",
      "       0.   , 0.042, 0.   , 0.   , 0.   , 0.   , 0.   , 0.   ])\n",
      "     fun: -0.07265996869397362\n",
      "     jac: array([0.115, 0.055, 0.087, 0.153, 0.101, 0.185, 0.162, 0.187, 0.092,\n",
      "       0.125, 0.249, 0.062, 0.169, 0.102, 0.095, 0.235, 0.215, 0.215,\n",
      "       0.175, 0.075, 0.208, 0.08 , 0.144, 0.117, 0.109, 0.062, 0.059,\n",
      "       0.106, 0.132, 0.196, 0.149, 0.229, 0.101, 0.048, 0.146, 0.144,\n",
      "       0.188, 0.146, 0.124, 0.174, 0.041, 0.049, 0.075, 0.167, 0.156,\n",
      "       0.087, 0.089, 0.079, 0.062, 0.035, 0.062, 0.172, 0.179, 0.119,\n",
      "       0.067, 0.072, 0.046, 0.076, 0.227, 0.091, 0.046, 0.224, 0.092,\n",
      "       0.042, 0.155, 0.106, 0.086, 0.033, 0.041, 0.076, 0.04 , 0.076,\n",
      "       0.235, 0.051, 0.175, 0.091, 0.229, 0.133, 0.162, 0.058, 0.054,\n",
      "       0.154, 0.05 , 0.043, 0.174, 0.154, 0.074, 0.081, 0.071, 0.061,\n",
      "       0.167, 0.069, 0.046, 0.184, 0.071, 0.228, 0.178, 0.046, 0.241,\n",
      "       0.093, 0.04 , 0.077, 0.233, 0.087, 0.043, 0.057, 0.079])\n",
      " message: 'Optimization terminated successfully'\n",
      "    nfev: 541\n",
      "     nit: 5\n",
      "    njev: 5\n",
      "  status: 0\n",
      " success: True\n",
      "       x: array([0.   , 0.   , 0.   , 0.   , 0.   , 0.   , 0.   , 0.   , 0.   ,\n",
      "       0.   , 0.   , 0.01 , 0.   , 0.   , 0.   , 0.   , 0.   , 0.   ,\n",
      "       0.   , 0.   , 0.   , 0.   , 0.   , 0.   , 0.   , 0.   , 0.085,\n",
      "       0.   , 0.   , 0.   , 0.   , 0.   , 0.   , 0.161, 0.   , 0.   ,\n",
      "       0.   , 0.   , 0.   , 0.   , 0.112, 0.004, 0.   , 0.   , 0.   ,\n",
      "       0.   , 0.   , 0.   , 0.   , 0.118, 0.   , 0.   , 0.   , 0.   ,\n",
      "       0.   , 0.   , 0.1  , 0.   , 0.   , 0.   , 0.044, 0.   , 0.   ,\n",
      "       0.008, 0.   , 0.   , 0.054, 0.107, 0.053, 0.   , 0.02 , 0.   ,\n",
      "       0.   , 0.   , 0.   , 0.   , 0.   , 0.   , 0.   , 0.   , 0.003,\n",
      "       0.   , 0.   , 0.001, 0.   , 0.   , 0.   , 0.   , 0.   , 0.   ,\n",
      "       0.   , 0.   , 0.037, 0.   , 0.   , 0.   , 0.   , 0.007, 0.   ,\n",
      "       0.   , 0.076, 0.   , 0.   , 0.   , 0.002, 0.   , 0.   ])\n",
      "     fun: -0.05535296829768624\n",
      "     jac: array([0.123, 0.068, 0.095, 0.16 , 0.109, 0.193, 0.157, 0.172, 0.11 ,\n",
      "       0.133, 0.25 , 0.063, 0.176, 0.12 , 0.106, 0.23 , 0.222, 0.223,\n",
      "       0.182, 0.084, 0.218, 0.086, 0.151, 0.127, 0.118, 0.07 , 0.063,\n",
      "       0.11 , 0.14 , 0.205, 0.154, 0.238, 0.121, 0.056, 0.152, 0.15 ,\n",
      "       0.195, 0.154, 0.13 , 0.183, 0.048, 0.06 , 0.078, 0.177, 0.164,\n",
      "       0.099, 0.097, 0.089, 0.072, 0.07 , 0.069, 0.18 , 0.186, 0.126,\n",
      "       0.078, 0.082, 0.061, 0.094, 0.233, 0.096, 0.054, 0.24 , 0.098,\n",
      "       0.06 , 0.163, 0.11 , 0.068, 0.07 , 0.064, 0.087, 0.019, 0.086,\n",
      "       0.245, 0.066, 0.186, 0.102, 0.228, 0.143, 0.171, 0.062, 0.066,\n",
      "       0.162, 0.06 , 0.068, 0.179, 0.168, 0.082, 0.096, 0.076, 0.067,\n",
      "       0.177, 0.078, 0.055, 0.19 , 0.085, 0.227, 0.169, 0.056, 0.242,\n",
      "       0.104, 0.058, 0.084, 0.237, 0.095, 0.06 , 0.067, 0.087])\n",
      " message: 'Optimization terminated successfully'\n",
      "    nfev: 541\n",
      "     nit: 5\n",
      "    njev: 5\n",
      "  status: 0\n",
      " success: True\n",
      "       x: array([0.   , 0.   , 0.   , 0.   , 0.   , 0.   , 0.   , 0.   , 0.   ,\n",
      "       0.   , 0.   , 0.006, 0.   , 0.   , 0.   , 0.   , 0.   , 0.   ,\n",
      "       0.   , 0.   , 0.   , 0.   , 0.   , 0.   , 0.   , 0.   , 0.071,\n",
      "       0.   , 0.   , 0.   , 0.   , 0.   , 0.   , 0.14 , 0.   , 0.   ,\n",
      "       0.   , 0.   , 0.   , 0.   , 0.112, 0.017, 0.   , 0.   , 0.   ,\n",
      "       0.   , 0.   , 0.   , 0.   , 0.108, 0.   , 0.   , 0.   , 0.   ,\n",
      "       0.   , 0.   , 0.097, 0.   , 0.   , 0.   , 0.04 , 0.   , 0.   ,\n",
      "       0.017, 0.   , 0.   , 0.042, 0.098, 0.057, 0.   , 0.025, 0.   ,\n",
      "       0.   , 0.005, 0.   , 0.   , 0.   , 0.   , 0.   , 0.003, 0.006,\n",
      "       0.   , 0.   , 0.006, 0.   , 0.   , 0.   , 0.   , 0.   , 0.   ,\n",
      "       0.   , 0.   , 0.044, 0.   , 0.   , 0.   , 0.   , 0.01 , 0.   ,\n",
      "       0.   , 0.083, 0.   , 0.   , 0.   , 0.012, 0.   , 0.   ])\n",
      "     fun: -0.04017771449642907\n",
      "     jac: array([0.13 , 0.083, 0.105, 0.167, 0.117, 0.202, 0.158, 0.162, 0.125,\n",
      "       0.14 , 0.251, 0.069, 0.184, 0.133, 0.119, 0.24 , 0.232, 0.229,\n",
      "       0.192, 0.091, 0.227, 0.093, 0.161, 0.137, 0.129, 0.081, 0.072,\n",
      "       0.117, 0.149, 0.214, 0.161, 0.245, 0.137, 0.065, 0.158, 0.156,\n",
      "       0.203, 0.163, 0.135, 0.192, 0.055, 0.07 , 0.088, 0.188, 0.173,\n",
      "       0.111, 0.107, 0.1  , 0.079, 0.09 , 0.079, 0.189, 0.193, 0.133,\n",
      "       0.087, 0.093, 0.074, 0.108, 0.238, 0.102, 0.056, 0.255, 0.106,\n",
      "       0.074, 0.172, 0.115, 0.049, 0.088, 0.081, 0.094, 0.043, 0.098,\n",
      "       0.254, 0.079, 0.198, 0.113, 0.231, 0.154, 0.181, 0.063, 0.075,\n",
      "       0.171, 0.07 , 0.086, 0.183, 0.179, 0.089, 0.11 , 0.083, 0.074,\n",
      "       0.186, 0.088, 0.062, 0.196, 0.098, 0.23 , 0.161, 0.066, 0.246,\n",
      "       0.113, 0.073, 0.093, 0.244, 0.102, 0.076, 0.078, 0.096])\n",
      " message: 'Optimization terminated successfully'\n",
      "    nfev: 542\n",
      "     nit: 5\n",
      "    njev: 5\n",
      "  status: 0\n",
      " success: True\n",
      "       x: array([0.   , 0.011, 0.   , 0.   , 0.   , 0.   , 0.   , 0.   , 0.   ,\n",
      "       0.   , 0.   , 0.006, 0.   , 0.   , 0.   , 0.   , 0.   , 0.   ,\n",
      "       0.   , 0.   , 0.   , 0.   , 0.   , 0.   , 0.   , 0.   , 0.061,\n",
      "       0.   , 0.   , 0.   , 0.   , 0.   , 0.   , 0.124, 0.   , 0.   ,\n",
      "       0.   , 0.   , 0.   , 0.   , 0.112, 0.025, 0.   , 0.   , 0.   ,\n",
      "       0.   , 0.   , 0.   , 0.   , 0.093, 0.006, 0.   , 0.   , 0.   ,\n",
      "       0.   , 0.   , 0.087, 0.   , 0.   , 0.   , 0.035, 0.   , 0.   ,\n",
      "       0.018, 0.   , 0.   , 0.041, 0.084, 0.056, 0.   , 0.013, 0.   ,\n",
      "       0.   , 0.018, 0.   , 0.   , 0.   , 0.   , 0.   , 0.006, 0.01 ,\n",
      "       0.   , 0.002, 0.01 , 0.   , 0.   , 0.   , 0.   , 0.   , 0.01 ,\n",
      "       0.   , 0.   , 0.048, 0.   , 0.   , 0.   , 0.   , 0.012, 0.   ,\n",
      "       0.   , 0.085, 0.   , 0.   , 0.   , 0.016, 0.01 , 0.   ])\n",
      "     fun: -0.026479311313749185\n",
      "     jac: array([0.139, 0.095, 0.114, 0.177, 0.131, 0.211, 0.17 , 0.17 , 0.136,\n",
      "       0.149, 0.262, 0.086, 0.196, 0.142, 0.136, 0.255, 0.246, 0.242,\n",
      "       0.208, 0.102, 0.232, 0.105, 0.175, 0.145, 0.144, 0.094, 0.087,\n",
      "       0.127, 0.16 , 0.228, 0.171, 0.253, 0.15 , 0.075, 0.164, 0.162,\n",
      "       0.214, 0.174, 0.138, 0.202, 0.066, 0.081, 0.098, 0.202, 0.182,\n",
      "       0.12 , 0.119, 0.11 , 0.09 , 0.097, 0.089, 0.199, 0.205, 0.143,\n",
      "       0.097, 0.101, 0.077, 0.119, 0.25 , 0.11 , 0.06 , 0.266, 0.117,\n",
      "       0.087, 0.184, 0.127, 0.059, 0.098, 0.093, 0.105, 0.076, 0.108,\n",
      "       0.263, 0.09 , 0.213, 0.123, 0.246, 0.165, 0.193, 0.073, 0.084,\n",
      "       0.184, 0.082, 0.098, 0.19 , 0.192, 0.099, 0.12 , 0.091, 0.082,\n",
      "       0.198, 0.098, 0.073, 0.205, 0.108, 0.244, 0.167, 0.079, 0.256,\n",
      "       0.122, 0.086, 0.105, 0.254, 0.111, 0.087, 0.089, 0.108])\n",
      " message: 'Optimization terminated successfully'\n",
      "    nfev: 542\n",
      "     nit: 5\n",
      "    njev: 5\n",
      "  status: 0\n",
      " success: True\n",
      "       x: array([0.   , 0.018, 0.   , 0.   , 0.   , 0.   , 0.   , 0.   , 0.   ,\n",
      "       0.   , 0.   , 0.004, 0.   , 0.   , 0.   , 0.   , 0.   , 0.   ,\n",
      "       0.   , 0.   , 0.   , 0.   , 0.   , 0.   , 0.   , 0.   , 0.053,\n",
      "       0.   , 0.   , 0.   , 0.   , 0.   , 0.   , 0.111, 0.   , 0.   ,\n",
      "       0.   , 0.   , 0.   , 0.   , 0.112, 0.03 , 0.   , 0.   , 0.   ,\n",
      "       0.   , 0.   , 0.   , 0.   , 0.08 , 0.017, 0.   , 0.   , 0.   ,\n",
      "       0.   , 0.   , 0.08 , 0.   , 0.   , 0.   , 0.032, 0.   , 0.   ,\n",
      "       0.018, 0.   , 0.   , 0.039, 0.076, 0.054, 0.   , 0.005, 0.   ,\n",
      "       0.   , 0.028, 0.   , 0.   , 0.   , 0.   , 0.   , 0.007, 0.012,\n",
      "       0.   , 0.002, 0.01 , 0.   , 0.   , 0.   , 0.   , 0.   , 0.028,\n",
      "       0.   , 0.   , 0.05 , 0.   , 0.   , 0.   , 0.   , 0.01 , 0.   ,\n",
      "       0.   , 0.086, 0.   , 0.   , 0.   , 0.016, 0.021, 0.   ])\n",
      "     fun: -0.014200690700033852\n",
      "     jac: array([0.15 , 0.107, 0.123, 0.189, 0.148, 0.222, 0.187, 0.187, 0.146,\n",
      "       0.161, 0.279, 0.104, 0.209, 0.149, 0.152, 0.261, 0.261, 0.253,\n",
      "       0.219, 0.114, 0.237, 0.114, 0.189, 0.154, 0.157, 0.107, 0.102,\n",
      "       0.138, 0.17 , 0.241, 0.181, 0.264, 0.163, 0.087, 0.172, 0.17 ,\n",
      "       0.226, 0.184, 0.143, 0.212, 0.077, 0.093, 0.108, 0.218, 0.193,\n",
      "       0.127, 0.132, 0.119, 0.102, 0.103, 0.099, 0.211, 0.217, 0.152,\n",
      "       0.107, 0.109, 0.086, 0.129, 0.264, 0.121, 0.066, 0.276, 0.13 ,\n",
      "       0.098, 0.196, 0.143, 0.086, 0.103, 0.103, 0.12 , 0.083, 0.118,\n",
      "       0.27 , 0.1  , 0.229, 0.131, 0.262, 0.177, 0.205, 0.085, 0.096,\n",
      "       0.197, 0.093, 0.108, 0.198, 0.207, 0.11 , 0.128, 0.1  , 0.091,\n",
      "       0.208, 0.108, 0.084, 0.214, 0.116, 0.263, 0.178, 0.09 , 0.268,\n",
      "       0.129, 0.099, 0.117, 0.266, 0.12 , 0.097, 0.101, 0.119])\n",
      " message: 'Optimization terminated successfully'\n",
      "    nfev: 542\n",
      "     nit: 5\n",
      "    njev: 5\n",
      "  status: 0\n",
      " success: True\n",
      "       x: array([0.   , 0.025, 0.   , 0.   , 0.   , 0.   , 0.   , 0.   , 0.   ,\n",
      "       0.   , 0.   , 0.001, 0.   , 0.   , 0.   , 0.   , 0.   , 0.   ,\n",
      "       0.   , 0.   , 0.   , 0.   , 0.   , 0.   , 0.   , 0.   , 0.045,\n",
      "       0.   , 0.   , 0.   , 0.   , 0.   , 0.   , 0.1  , 0.   , 0.   ,\n",
      "       0.   , 0.   , 0.   , 0.   , 0.114, 0.035, 0.   , 0.   , 0.   ,\n",
      "       0.   , 0.   , 0.   , 0.   , 0.073, 0.029, 0.   , 0.   , 0.   ,\n",
      "       0.   , 0.   , 0.074, 0.   , 0.   , 0.   , 0.027, 0.   , 0.   ,\n",
      "       0.018, 0.   , 0.   , 0.033, 0.071, 0.051, 0.   , 0.006, 0.   ,\n",
      "       0.   , 0.036, 0.   , 0.   , 0.   , 0.   , 0.   , 0.007, 0.013,\n",
      "       0.   , 0.002, 0.01 , 0.   , 0.   , 0.   , 0.   , 0.   , 0.039,\n",
      "       0.   , 0.   , 0.051, 0.   , 0.   , 0.   , 0.   , 0.007, 0.   ,\n",
      "       0.   , 0.084, 0.   , 0.   , 0.   , 0.018, 0.03 , 0.   ])\n",
      "     fun: -0.002913613013082128\n",
      "     jac: array([0.157, 0.11 , 0.13 , 0.196, 0.157, 0.228, 0.19 , 0.187, 0.154,\n",
      "       0.17 , 0.285, 0.104, 0.226, 0.158, 0.171, 0.283, 0.282, 0.281,\n",
      "       0.24 , 0.129, 0.242, 0.132, 0.208, 0.165, 0.179, 0.11 , 0.102,\n",
      "       0.143, 0.182, 0.256, 0.189, 0.276, 0.175, 0.105, 0.176, 0.173,\n",
      "       0.239, 0.193, 0.15 , 0.223, 0.102, 0.105, 0.114, 0.226, 0.199,\n",
      "       0.135, 0.148, 0.124, 0.112, 0.116, 0.108, 0.221, 0.241, 0.162,\n",
      "       0.115, 0.119, 0.1  , 0.138, 0.279, 0.127, 0.108, 0.282, 0.135,\n",
      "       0.108, 0.203, 0.15 , 0.087, 0.116, 0.114, 0.129, 0.112, 0.122,\n",
      "       0.273, 0.108, 0.239, 0.142, 0.271, 0.188, 0.22 , 0.103, 0.105,\n",
      "       0.208, 0.111, 0.111, 0.208, 0.22 , 0.117, 0.139, 0.111, 0.102,\n",
      "       0.227, 0.118, 0.104, 0.221, 0.126, 0.268, 0.183, 0.11 , 0.272,\n",
      "       0.137, 0.108, 0.127, 0.273, 0.13 , 0.107, 0.107, 0.135])\n",
      " message: 'Optimization terminated successfully'\n",
      "    nfev: 649\n",
      "     nit: 6\n",
      "    njev: 6\n",
      "  status: 0\n",
      " success: True\n",
      "       x: array([0.   , 0.031, 0.   , 0.   , 0.   , 0.   , 0.   , 0.   , 0.   ,\n",
      "       0.   , 0.   , 0.   , 0.   , 0.   , 0.   , 0.   , 0.   , 0.   ,\n",
      "       0.   , 0.   , 0.   , 0.   , 0.   , 0.   , 0.   , 0.   , 0.04 ,\n",
      "       0.   , 0.   , 0.   , 0.   , 0.   , 0.   , 0.09 , 0.   , 0.   ,\n",
      "       0.   , 0.   , 0.   , 0.   , 0.115, 0.038, 0.   , 0.   , 0.   ,\n",
      "       0.   , 0.   , 0.   , 0.   , 0.068, 0.039, 0.   , 0.   , 0.   ,\n",
      "       0.   , 0.   , 0.068, 0.   , 0.   , 0.   , 0.02 , 0.   , 0.   ,\n",
      "       0.016, 0.   , 0.   , 0.029, 0.067, 0.048, 0.   , 0.009, 0.   ,\n",
      "       0.   , 0.043, 0.   , 0.   , 0.   , 0.   , 0.   , 0.006, 0.015,\n",
      "       0.   , 0.002, 0.011, 0.   , 0.   , 0.   , 0.   , 0.004, 0.047,\n",
      "       0.   , 0.   , 0.052, 0.   , 0.   , 0.   , 0.   , 0.003, 0.   ,\n",
      "       0.   , 0.083, 0.   , 0.   , 0.   , 0.018, 0.038, 0.   ])\n",
      "     fun: 0.007553794313227849\n",
      "     jac: array([0.165, 0.121, 0.137, 0.204, 0.167, 0.238, 0.195, 0.186, 0.165,\n",
      "       0.18 , 0.291, 0.112, 0.237, 0.166, 0.183, 0.28 , 0.295, 0.29 ,\n",
      "       0.247, 0.138, 0.248, 0.138, 0.219, 0.175, 0.192, 0.12 , 0.115,\n",
      "       0.151, 0.191, 0.267, 0.197, 0.287, 0.188, 0.115, 0.182, 0.179,\n",
      "       0.25 , 0.202, 0.154, 0.232, 0.112, 0.115, 0.12 , 0.238, 0.206,\n",
      "       0.143, 0.158, 0.133, 0.122, 0.126, 0.118, 0.231, 0.25 , 0.169,\n",
      "       0.124, 0.129, 0.113, 0.15 , 0.289, 0.132, 0.116, 0.293, 0.145,\n",
      "       0.118, 0.211, 0.16 , 0.085, 0.126, 0.125, 0.14 , 0.095, 0.131,\n",
      "       0.28 , 0.118, 0.252, 0.15 , 0.278, 0.199, 0.23 , 0.11 , 0.115,\n",
      "       0.219, 0.12 , 0.122, 0.215, 0.233, 0.126, 0.151, 0.121, 0.112,\n",
      "       0.237, 0.127, 0.114, 0.228, 0.136, 0.274, 0.183, 0.119, 0.277,\n",
      "       0.144, 0.119, 0.137, 0.282, 0.138, 0.119, 0.118, 0.146])\n",
      " message: 'Optimization terminated successfully'\n",
      "    nfev: 649\n",
      "     nit: 6\n",
      "    njev: 6\n",
      "  status: 0\n",
      " success: True\n",
      "       x: array([0.   , 0.037, 0.   , 0.   , 0.   , 0.   , 0.   , 0.   , 0.   ,\n",
      "       0.   , 0.   , 0.   , 0.   , 0.   , 0.   , 0.   , 0.   , 0.   ,\n",
      "       0.   , 0.   , 0.   , 0.   , 0.   , 0.   , 0.   , 0.001, 0.038,\n",
      "       0.   , 0.   , 0.   , 0.   , 0.   , 0.   , 0.083, 0.   , 0.   ,\n",
      "       0.   , 0.   , 0.   , 0.   , 0.116, 0.043, 0.   , 0.   , 0.   ,\n",
      "       0.   , 0.   , 0.   , 0.   , 0.061, 0.049, 0.   , 0.   , 0.   ,\n",
      "       0.   , 0.   , 0.065, 0.   , 0.   , 0.   , 0.015, 0.   , 0.   ,\n",
      "       0.014, 0.   , 0.   , 0.024, 0.062, 0.044, 0.   , 0.002, 0.   ,\n",
      "       0.   , 0.047, 0.   , 0.   , 0.   , 0.   , 0.   , 0.005, 0.019,\n",
      "       0.   , 0.003, 0.011, 0.   , 0.   , 0.   , 0.   , 0.011, 0.056,\n",
      "       0.   , 0.   , 0.053, 0.   , 0.   , 0.   , 0.   , 0.   , 0.   ,\n",
      "       0.   , 0.081, 0.   , 0.   , 0.   , 0.019, 0.045, 0.   ])\n",
      "     fun: 0.01915096374374478\n",
      "     jac: array([0.182, 0.125, 0.156, 0.219, 0.197, 0.246, 0.223, 0.22 , 0.171,\n",
      "       0.211, 0.318, 0.14 , 0.254, 0.167, 0.218, 0.342, 0.323, 0.322,\n",
      "       0.28 , 0.155, 0.251, 0.16 , 0.239, 0.195, 0.215, 0.135, 0.133,\n",
      "       0.166, 0.208, 0.281, 0.209, 0.302, 0.19 , 0.13 , 0.199, 0.196,\n",
      "       0.27 , 0.225, 0.161, 0.247, 0.123, 0.126, 0.152, 0.258, 0.229,\n",
      "       0.149, 0.174, 0.143, 0.133, 0.103, 0.126, 0.255, 0.279, 0.183,\n",
      "       0.137, 0.144, 0.146, 0.151, 0.309, 0.15 , 0.174, 0.305, 0.168,\n",
      "       0.134, 0.232, 0.182, 0.128, 0.091, 0.131, 0.147, 0.219, 0.142,\n",
      "       0.288, 0.127, 0.272, 0.168, 0.309, 0.204, 0.25 , 0.155, 0.13 ,\n",
      "       0.241, 0.139, 0.12 , 0.229, 0.249, 0.143, 0.17 , 0.145, 0.135,\n",
      "       0.261, 0.141, 0.133, 0.234, 0.149, 0.308, 0.209, 0.144, 0.301,\n",
      "       0.153, 0.115, 0.162, 0.299, 0.151, 0.141, 0.127, 0.164])\n",
      " message: 'Optimization terminated successfully'\n",
      "    nfev: 434\n",
      "     nit: 4\n",
      "    njev: 4\n",
      "  status: 0\n",
      " success: True\n",
      "       x: array([0.   , 0.046, 0.   , 0.   , 0.   , 0.   , 0.   , 0.   , 0.   ,\n",
      "       0.   , 0.   , 0.008, 0.   , 0.   , 0.   , 0.   , 0.   , 0.   ,\n",
      "       0.   , 0.   , 0.   , 0.   , 0.   , 0.   , 0.   , 0.007, 0.041,\n",
      "       0.   , 0.   , 0.   , 0.   , 0.   , 0.   , 0.072, 0.   , 0.   ,\n",
      "       0.   , 0.   , 0.   , 0.   , 0.104, 0.042, 0.   , 0.   , 0.   ,\n",
      "       0.   , 0.   , 0.   , 0.006, 0.057, 0.054, 0.   , 0.   , 0.   ,\n",
      "       0.009, 0.   , 0.049, 0.   , 0.   , 0.   , 0.   , 0.   , 0.   ,\n",
      "       0.009, 0.   , 0.   , 0.048, 0.06 , 0.042, 0.   , 0.   , 0.   ,\n",
      "       0.   , 0.048, 0.   , 0.   , 0.   , 0.   , 0.   , 0.   , 0.019,\n",
      "       0.   , 0.004, 0.016, 0.   , 0.   , 0.   , 0.   , 0.018, 0.056,\n",
      "       0.   , 0.   , 0.048, 0.   , 0.   , 0.   , 0.   , 0.   , 0.   ,\n",
      "       0.   , 0.08 , 0.   , 0.   , 0.   , 0.008, 0.051, 0.   ])\n",
      "     fun: 0.026663902030536812\n",
      "     jac: array([0.194, 0.142, 0.153, 0.23 , 0.207, 0.259, 0.231, 0.221, 0.189,\n",
      "       0.214, 0.326, 0.149, 0.263, 0.183, 0.213, 0.293, 0.32 , 0.314,\n",
      "       0.265, 0.166, 0.259, 0.153, 0.245, 0.198, 0.214, 0.145, 0.146,\n",
      "       0.173, 0.207, 0.29 , 0.218, 0.312, 0.21 , 0.141, 0.211, 0.207,\n",
      "       0.272, 0.224, 0.164, 0.252, 0.131, 0.135, 0.144, 0.276, 0.229,\n",
      "       0.159, 0.182, 0.148, 0.145, 0.159, 0.138, 0.255, 0.273, 0.19 ,\n",
      "       0.144, 0.144, 0.159, 0.171, 0.315, 0.161, 0.122, 0.312, 0.177,\n",
      "       0.137, 0.235, 0.196, 0.138, 0.163, 0.145, 0.172, 0.115, 0.148,\n",
      "       0.294, 0.137, 0.282, 0.166, 0.307, 0.222, 0.251, 0.136, 0.143,\n",
      "       0.244, 0.139, 0.144, 0.235, 0.266, 0.146, 0.166, 0.141, 0.131,\n",
      "       0.256, 0.146, 0.134, 0.247, 0.152, 0.315, 0.206, 0.138, 0.299,\n",
      "       0.158, 0.14 , 0.159, 0.306, 0.158, 0.136, 0.139, 0.163])\n",
      " message: 'Optimization terminated successfully'\n",
      "    nfev: 650\n",
      "     nit: 6\n",
      "    njev: 6\n",
      "  status: 0\n",
      " success: True\n",
      "       x: array([0.   , 0.044, 0.   , 0.   , 0.   , 0.   , 0.   , 0.   , 0.   ,\n",
      "       0.   , 0.   , 0.   , 0.   , 0.   , 0.   , 0.   , 0.   , 0.   ,\n",
      "       0.   , 0.   , 0.   , 0.   , 0.   , 0.   , 0.   , 0.001, 0.03 ,\n",
      "       0.   , 0.   , 0.   , 0.   , 0.   , 0.   , 0.068, 0.   , 0.   ,\n",
      "       0.   , 0.   , 0.   , 0.   , 0.113, 0.047, 0.   , 0.   , 0.   ,\n",
      "       0.   , 0.   , 0.   , 0.   , 0.055, 0.063, 0.   , 0.   , 0.   ,\n",
      "       0.005, 0.   , 0.062, 0.   , 0.   , 0.   , 0.002, 0.   , 0.   ,\n",
      "       0.007, 0.   , 0.   , 0.024, 0.059, 0.036, 0.   , 0.   , 0.   ,\n",
      "       0.   , 0.052, 0.   , 0.   , 0.   , 0.   , 0.   , 0.005, 0.023,\n",
      "       0.   , 0.001, 0.014, 0.   , 0.   , 0.   , 0.   , 0.022, 0.068,\n",
      "       0.   , 0.   , 0.051, 0.   , 0.   , 0.   , 0.   , 0.   , 0.   ,\n",
      "       0.   , 0.078, 0.   , 0.   , 0.   , 0.015, 0.055, 0.   ])\n",
      "     fun: 0.035128989510609596\n",
      "     jac: array([0.2  , 0.153, 0.162, 0.236, 0.215, 0.267, 0.232, 0.215, 0.201,\n",
      "       0.221, 0.33 , 0.155, 0.273, 0.192, 0.228, 0.303, 0.335, 0.326,\n",
      "       0.276, 0.174, 0.265, 0.162, 0.257, 0.207, 0.229, 0.153, 0.153,\n",
      "       0.18 , 0.218, 0.301, 0.226, 0.321, 0.222, 0.151, 0.214, 0.21 ,\n",
      "       0.282, 0.234, 0.168, 0.26 , 0.142, 0.145, 0.15 , 0.284, 0.236,\n",
      "       0.167, 0.192, 0.157, 0.153, 0.166, 0.149, 0.265, 0.285, 0.196,\n",
      "       0.154, 0.154, 0.168, 0.182, 0.325, 0.164, 0.136, 0.324, 0.185,\n",
      "       0.15 , 0.244, 0.202, 0.129, 0.17 , 0.156, 0.179, 0.127, 0.156,\n",
      "       0.302, 0.147, 0.294, 0.176, 0.314, 0.233, 0.262, 0.149, 0.152,\n",
      "       0.255, 0.149, 0.156, 0.24 , 0.277, 0.153, 0.181, 0.153, 0.143,\n",
      "       0.268, 0.156, 0.143, 0.253, 0.164, 0.32 , 0.205, 0.15 , 0.304,\n",
      "       0.166, 0.15 , 0.17 , 0.314, 0.165, 0.152, 0.148, 0.175])\n",
      " message: 'Optimization terminated successfully'\n",
      "    nfev: 650\n",
      "     nit: 6\n",
      "    njev: 6\n",
      "  status: 0\n",
      " success: True\n",
      "       x: array([0.   , 0.047, 0.   , 0.   , 0.   , 0.   , 0.   , 0.   , 0.   ,\n",
      "       0.   , 0.   , 0.   , 0.   , 0.   , 0.   , 0.   , 0.   , 0.   ,\n",
      "       0.   , 0.   , 0.   , 0.   , 0.   , 0.   , 0.   , 0.   , 0.013,\n",
      "       0.   , 0.   , 0.   , 0.   , 0.   , 0.   , 0.059, 0.   , 0.   ,\n",
      "       0.   , 0.   , 0.   , 0.   , 0.117, 0.051, 0.   , 0.   , 0.   ,\n",
      "       0.   , 0.   , 0.   , 0.   , 0.047, 0.069, 0.   , 0.   , 0.   ,\n",
      "       0.003, 0.   , 0.046, 0.   , 0.   , 0.   , 0.011, 0.   , 0.   ,\n",
      "       0.008, 0.   , 0.   , 0.027, 0.048, 0.032, 0.   , 0.009, 0.   ,\n",
      "       0.   , 0.058, 0.   , 0.   , 0.   , 0.   , 0.   , 0.006, 0.02 ,\n",
      "       0.   , 0.   , 0.013, 0.   , 0.   , 0.   , 0.   , 0.025, 0.082,\n",
      "       0.   , 0.   , 0.055, 0.   , 0.   , 0.   , 0.   , 0.   , 0.   ,\n",
      "       0.   , 0.078, 0.   , 0.   , 0.   , 0.016, 0.06 , 0.   ])\n",
      "     fun: 0.04352803071465128\n",
      "     jac: array([0.207, 0.164, 0.17 , 0.244, 0.226, 0.274, 0.242, 0.22 , 0.211,\n",
      "       0.227, 0.339, 0.166, 0.284, 0.2  , 0.243, 0.311, 0.349, 0.34 ,\n",
      "       0.287, 0.184, 0.271, 0.173, 0.27 , 0.213, 0.243, 0.161, 0.155,\n",
      "       0.188, 0.229, 0.314, 0.234, 0.329, 0.235, 0.161, 0.217, 0.213,\n",
      "       0.292, 0.242, 0.172, 0.268, 0.153, 0.155, 0.152, 0.293, 0.243,\n",
      "       0.176, 0.204, 0.165, 0.163, 0.175, 0.158, 0.275, 0.298, 0.203,\n",
      "       0.163, 0.163, 0.171, 0.193, 0.336, 0.17 , 0.149, 0.332, 0.192,\n",
      "       0.16 , 0.253, 0.211, 0.145, 0.178, 0.168, 0.19 , 0.137, 0.165,\n",
      "       0.309, 0.157, 0.306, 0.185, 0.324, 0.243, 0.272, 0.16 , 0.16 ,\n",
      "       0.266, 0.161, 0.169, 0.246, 0.289, 0.161, 0.189, 0.164, 0.153,\n",
      "       0.279, 0.165, 0.153, 0.259, 0.172, 0.331, 0.21 , 0.163, 0.311,\n",
      "       0.173, 0.161, 0.181, 0.322, 0.173, 0.161, 0.158, 0.186])\n",
      " message: 'Optimization terminated successfully'\n",
      "    nfev: 649\n",
      "     nit: 6\n",
      "    njev: 6\n",
      "  status: 0\n",
      " success: True\n",
      "       x: array([0.   , 0.052, 0.   , 0.   , 0.   , 0.   , 0.   , 0.   , 0.   ,\n",
      "       0.   , 0.   , 0.   , 0.   , 0.   , 0.   , 0.   , 0.   , 0.   ,\n",
      "       0.   , 0.   , 0.   , 0.   , 0.   , 0.   , 0.   , 0.002, 0.017,\n",
      "       0.   , 0.   , 0.   , 0.   , 0.   , 0.   , 0.056, 0.   , 0.   ,\n",
      "       0.   , 0.   , 0.   , 0.   , 0.11 , 0.05 , 0.   , 0.   , 0.   ,\n",
      "       0.   , 0.   , 0.   , 0.   , 0.045, 0.073, 0.   , 0.   , 0.   ,\n",
      "       0.008, 0.003, 0.053, 0.   , 0.   , 0.   , 0.001, 0.   , 0.   ,\n",
      "       0.006, 0.   , 0.   , 0.02 , 0.051, 0.032, 0.   , 0.   , 0.002,\n",
      "       0.   , 0.056, 0.   , 0.   , 0.   , 0.   , 0.   , 0.008, 0.023,\n",
      "       0.   , 0.   , 0.018, 0.   , 0.   , 0.   , 0.   , 0.032, 0.08 ,\n",
      "       0.   , 0.   , 0.05 , 0.   , 0.   , 0.   , 0.   , 0.   , 0.   ,\n",
      "       0.   , 0.075, 0.   , 0.   , 0.   , 0.017, 0.062, 0.   ])\n",
      "     fun: 0.05149734087672998\n",
      "     jac: array([0.213, 0.178, 0.177, 0.25 , 0.237, 0.281, 0.251, 0.225, 0.221,\n",
      "       0.228, 0.347, 0.177, 0.293, 0.206, 0.256, 0.316, 0.361, 0.349,\n",
      "       0.297, 0.192, 0.276, 0.185, 0.283, 0.216, 0.258, 0.17 , 0.158,\n",
      "       0.196, 0.24 , 0.328, 0.241, 0.332, 0.25 , 0.169, 0.216, 0.212,\n",
      "       0.301, 0.25 , 0.173, 0.276, 0.162, 0.166, 0.149, 0.3  , 0.248,\n",
      "       0.184, 0.216, 0.175, 0.173, 0.183, 0.169, 0.282, 0.308, 0.21 ,\n",
      "       0.172, 0.17 , 0.158, 0.204, 0.347, 0.175, 0.157, 0.34 , 0.198,\n",
      "       0.169, 0.262, 0.219, 0.165, 0.185, 0.179, 0.201, 0.145, 0.176,\n",
      "       0.316, 0.166, 0.317, 0.194, 0.334, 0.254, 0.282, 0.168, 0.165,\n",
      "       0.278, 0.172, 0.185, 0.248, 0.299, 0.169, 0.194, 0.172, 0.161,\n",
      "       0.288, 0.174, 0.162, 0.265, 0.18 , 0.339, 0.216, 0.176, 0.317,\n",
      "       0.18 , 0.176, 0.191, 0.329, 0.181, 0.166, 0.169, 0.199])\n",
      " message: 'Optimization terminated successfully'\n",
      "    nfev: 649\n",
      "     nit: 6\n",
      "    njev: 6\n",
      "  status: 0\n",
      " success: True\n",
      "       x: array([0.   , 0.055, 0.   , 0.   , 0.   , 0.   , 0.   , 0.   , 0.   ,\n",
      "       0.   , 0.   , 0.   , 0.   , 0.   , 0.   , 0.   , 0.   , 0.   ,\n",
      "       0.   , 0.   , 0.   , 0.   , 0.   , 0.   , 0.   , 0.003, 0.011,\n",
      "       0.   , 0.   , 0.   , 0.   , 0.   , 0.   , 0.051, 0.   , 0.   ,\n",
      "       0.   , 0.   , 0.   , 0.   , 0.108, 0.052, 0.   , 0.   , 0.   ,\n",
      "       0.   , 0.   , 0.004, 0.   , 0.041, 0.078, 0.   , 0.   , 0.   ,\n",
      "       0.009, 0.005, 0.044, 0.   , 0.   , 0.   , 0.   , 0.   , 0.   ,\n",
      "       0.003, 0.   , 0.   , 0.023, 0.046, 0.029, 0.   , 0.   , 0.006,\n",
      "       0.   , 0.057, 0.   , 0.   , 0.   , 0.   , 0.   , 0.008, 0.023,\n",
      "       0.   , 0.   , 0.021, 0.   , 0.   , 0.   , 0.   , 0.034, 0.084,\n",
      "       0.   , 0.   , 0.049, 0.   , 0.   , 0.   , 0.   , 0.   , 0.   ,\n",
      "       0.   , 0.076, 0.   , 0.   , 0.   , 0.015, 0.066, 0.   ])\n",
      "     fun: 0.0591406917429048\n",
      "     jac: array([0.22 , 0.19 , 0.183, 0.257, 0.249, 0.287, 0.262, 0.235, 0.23 ,\n",
      "       0.229, 0.359, 0.191, 0.304, 0.211, 0.271, 0.324, 0.375, 0.361,\n",
      "       0.31 , 0.201, 0.279, 0.198, 0.297, 0.219, 0.275, 0.179, 0.163,\n",
      "       0.204, 0.251, 0.344, 0.249, 0.337, 0.264, 0.179, 0.214, 0.21 ,\n",
      "       0.311, 0.258, 0.175, 0.284, 0.172, 0.177, 0.147, 0.308, 0.252,\n",
      "       0.191, 0.229, 0.185, 0.183, 0.19 , 0.179, 0.289, 0.321, 0.217,\n",
      "       0.182, 0.174, 0.144, 0.215, 0.359, 0.181, 0.168, 0.347, 0.204,\n",
      "       0.178, 0.272, 0.229, 0.193, 0.192, 0.189, 0.213, 0.156, 0.185,\n",
      "       0.322, 0.175, 0.328, 0.202, 0.347, 0.266, 0.292, 0.181, 0.17 ,\n",
      "       0.289, 0.185, 0.199, 0.252, 0.31 , 0.175, 0.199, 0.182, 0.17 ,\n",
      "       0.298, 0.184, 0.171, 0.271, 0.188, 0.352, 0.226, 0.19 , 0.325,\n",
      "       0.187, 0.19 , 0.203, 0.337, 0.189, 0.172, 0.178, 0.211])\n",
      " message: 'Optimization terminated successfully'\n",
      "    nfev: 650\n",
      "     nit: 6\n",
      "    njev: 6\n",
      "  status: 0\n",
      " success: True\n",
      "       x: array([0.   , 0.052, 0.   , 0.   , 0.   , 0.   , 0.   , 0.   , 0.   ,\n",
      "       0.   , 0.   , 0.   , 0.   , 0.   , 0.   , 0.   , 0.   , 0.   ,\n",
      "       0.   , 0.   , 0.   , 0.   , 0.   , 0.   , 0.   , 0.   , 0.006,\n",
      "       0.   , 0.   , 0.   , 0.   , 0.   , 0.   , 0.041, 0.   , 0.   ,\n",
      "       0.   , 0.   , 0.   , 0.   , 0.109, 0.056, 0.006, 0.   , 0.   ,\n",
      "       0.   , 0.   , 0.003, 0.   , 0.039, 0.083, 0.   , 0.   , 0.   ,\n",
      "       0.009, 0.003, 0.052, 0.   , 0.   , 0.   , 0.002, 0.   , 0.   ,\n",
      "       0.   , 0.   , 0.   , 0.017, 0.04 , 0.023, 0.   , 0.   , 0.006,\n",
      "       0.   , 0.063, 0.   , 0.   , 0.   , 0.   , 0.   , 0.004, 0.024,\n",
      "       0.   , 0.   , 0.012, 0.   , 0.   , 0.   , 0.   , 0.036, 0.098,\n",
      "       0.   , 0.   , 0.053, 0.   , 0.   , 0.   , 0.   , 0.   , 0.   ,\n",
      "       0.   , 0.074, 0.   , 0.   , 0.   , 0.018, 0.071, 0.   ])\n",
      "     fun: 0.0666356754862727\n",
      "     jac: array([0.225, 0.202, 0.189, 0.264, 0.26 , 0.294, 0.272, 0.242, 0.239,\n",
      "       0.228, 0.37 , 0.203, 0.314, 0.219, 0.286, 0.332, 0.387, 0.376,\n",
      "       0.324, 0.212, 0.283, 0.213, 0.312, 0.22 , 0.292, 0.186, 0.168,\n",
      "       0.211, 0.263, 0.361, 0.257, 0.342, 0.277, 0.188, 0.211, 0.207,\n",
      "       0.322, 0.264, 0.183, 0.292, 0.185, 0.187, 0.145, 0.315, 0.256,\n",
      "       0.197, 0.242, 0.193, 0.194, 0.198, 0.189, 0.295, 0.335, 0.224,\n",
      "       0.19 , 0.177, 0.127, 0.225, 0.371, 0.185, 0.179, 0.355, 0.209,\n",
      "       0.189, 0.281, 0.239, 0.219, 0.203, 0.199, 0.225, 0.167, 0.194,\n",
      "       0.327, 0.183, 0.34 , 0.211, 0.359, 0.276, 0.304, 0.195, 0.177,\n",
      "       0.3  , 0.199, 0.215, 0.255, 0.321, 0.181, 0.203, 0.191, 0.179,\n",
      "       0.309, 0.193, 0.18 , 0.277, 0.195, 0.362, 0.237, 0.205, 0.332,\n",
      "       0.195, 0.204, 0.214, 0.344, 0.197, 0.176, 0.187, 0.224])\n",
      " message: 'Optimization terminated successfully'\n",
      "    nfev: 650\n",
      "     nit: 6\n",
      "    njev: 6\n",
      "  status: 0\n",
      " success: True\n",
      "       x: array([0.   , 0.053, 0.   , 0.   , 0.   , 0.   , 0.   , 0.   , 0.   ,\n",
      "       0.   , 0.   , 0.   , 0.   , 0.   , 0.   , 0.   , 0.   , 0.   ,\n",
      "       0.   , 0.   , 0.   , 0.   , 0.   , 0.   , 0.   , 0.   , 0.002,\n",
      "       0.   , 0.   , 0.   , 0.   , 0.   , 0.   , 0.036, 0.   , 0.   ,\n",
      "       0.   , 0.   , 0.   , 0.   , 0.106, 0.057, 0.002, 0.   , 0.   ,\n",
      "       0.   , 0.   , 0.007, 0.   , 0.038, 0.087, 0.   , 0.   , 0.   ,\n",
      "       0.01 , 0.004, 0.05 , 0.   , 0.   , 0.   , 0.   , 0.   , 0.   ,\n",
      "       0.   , 0.   , 0.   , 0.017, 0.038, 0.021, 0.   , 0.   , 0.009,\n",
      "       0.   , 0.062, 0.   , 0.   , 0.   , 0.   , 0.   , 0.006, 0.024,\n",
      "       0.   , 0.   , 0.012, 0.   , 0.   , 0.   , 0.   , 0.04 , 0.103,\n",
      "       0.   , 0.   , 0.053, 0.   , 0.   , 0.   , 0.   , 0.   , 0.   ,\n",
      "       0.001, 0.073, 0.   , 0.   , 0.   , 0.019, 0.073, 0.   ])\n",
      "     fun: 0.07547112280225758\n",
      "     jac: array([0.251, 0.216, 0.224, 0.288, 0.282, 0.33 , 0.282, 0.236, 0.257,\n",
      "       0.278, 0.38 , 0.216, 0.329, 0.232, 0.313, 0.362, 0.407, 0.394,\n",
      "       0.348, 0.235, 0.294, 0.222, 0.328, 0.263, 0.314, 0.213, 0.229,\n",
      "       0.226, 0.28 , 0.362, 0.277, 0.365, 0.271, 0.211, 0.255, 0.251,\n",
      "       0.345, 0.291, 0.227, 0.32 , 0.195, 0.195, 0.27 , 0.361, 0.303,\n",
      "       0.213, 0.256, 0.209, 0.221, 0.205, 0.204, 0.321, 0.351, 0.247,\n",
      "       0.206, 0.22 , 0.223, 0.23 , 0.376, 0.205, 0.191, 0.389, 0.245,\n",
      "       0.211, 0.314, 0.26 , 0.121, 0.214, 0.207, 0.226, 0.231, 0.209,\n",
      "       0.337, 0.203, 0.374, 0.23 , 0.38 , 0.283, 0.325, 0.176, 0.206,\n",
      "       0.32 , 0.22 , 0.206, 0.274, 0.346, 0.214, 0.229, 0.189, 0.176,\n",
      "       0.333, 0.205, 0.181, 0.294, 0.211, 0.362, 0.218, 0.226, 0.356,\n",
      "       0.212, 0.193, 0.236, 0.37 , 0.213, 0.2  , 0.201, 0.249])\n",
      " message: 'Optimization terminated successfully'\n",
      "    nfev: 542\n",
      "     nit: 5\n",
      "    njev: 5\n",
      "  status: 0\n",
      " success: True\n",
      "       x: array([0.   , 0.064, 0.   , 0.   , 0.   , 0.   , 0.   , 0.   , 0.   ,\n",
      "       0.   , 0.   , 0.   , 0.   , 0.   , 0.   , 0.   , 0.   , 0.   ,\n",
      "       0.   , 0.   , 0.   , 0.   , 0.   , 0.   , 0.   , 0.002, 0.001,\n",
      "       0.   , 0.   , 0.   , 0.   , 0.   , 0.   , 0.04 , 0.   , 0.   ,\n",
      "       0.   , 0.   , 0.008, 0.   , 0.104, 0.058, 0.   , 0.   , 0.   ,\n",
      "       0.   , 0.   , 0.011, 0.   , 0.031, 0.09 , 0.   , 0.   , 0.   ,\n",
      "       0.01 , 0.001, 0.014, 0.   , 0.   , 0.   , 0.   , 0.   , 0.   ,\n",
      "       0.   , 0.   , 0.   , 0.033, 0.039, 0.02 , 0.   , 0.   , 0.012,\n",
      "       0.   , 0.055, 0.   , 0.   , 0.   , 0.   , 0.   , 0.012, 0.022,\n",
      "       0.   , 0.   , 0.027, 0.   , 0.   , 0.   , 0.   , 0.04 , 0.094,\n",
      "       0.   , 0.   , 0.046, 0.   , 0.   , 0.   , 0.   , 0.   , 0.   ,\n",
      "       0.011, 0.075, 0.   , 0.   , 0.   , 0.008, 0.072, 0.   ])\n",
      "     fun: 0.08091823436142884\n",
      "     jac: array([0.248, 0.228, 0.217, 0.289, 0.289, 0.325, 0.291, 0.247, 0.263,\n",
      "       0.257, 0.391, 0.226, 0.338, 0.237, 0.32 , 0.353, 0.416, 0.405,\n",
      "       0.353, 0.241, 0.296, 0.234, 0.341, 0.247, 0.325, 0.212, 0.209,\n",
      "       0.229, 0.287, 0.384, 0.279, 0.362, 0.294, 0.218, 0.235, 0.23 ,\n",
      "       0.349, 0.289, 0.218, 0.319, 0.207, 0.207, 0.211, 0.352, 0.29 ,\n",
      "       0.217, 0.269, 0.214, 0.225, 0.217, 0.211, 0.319, 0.362, 0.247,\n",
      "       0.212, 0.208, 0.166, 0.244, 0.391, 0.204, 0.201, 0.385, 0.236,\n",
      "       0.217, 0.312, 0.264, 0.196, 0.226, 0.219, 0.243, 0.203, 0.214,\n",
      "       0.34 , 0.206, 0.377, 0.233, 0.386, 0.294, 0.331, 0.203, 0.204,\n",
      "       0.327, 0.227, 0.234, 0.271, 0.351, 0.209, 0.222, 0.202, 0.188,\n",
      "       0.336, 0.213, 0.192, 0.295, 0.214, 0.375, 0.239, 0.234, 0.354,\n",
      "       0.217, 0.219, 0.241, 0.369, 0.218, 0.193, 0.207, 0.254])\n",
      " message: 'Optimization terminated successfully'\n",
      "    nfev: 651\n",
      "     nit: 6\n",
      "    njev: 6\n",
      "  status: 0\n",
      " success: True\n",
      "       x: array([0.   , 0.054, 0.   , 0.   , 0.   , 0.   , 0.   , 0.   , 0.   ,\n",
      "       0.   , 0.   , 0.   , 0.   , 0.   , 0.   , 0.   , 0.   , 0.   ,\n",
      "       0.   , 0.   , 0.   , 0.   , 0.   , 0.   , 0.   , 0.   , 0.   ,\n",
      "       0.   , 0.   , 0.   , 0.   , 0.   , 0.   , 0.025, 0.   , 0.   ,\n",
      "       0.   , 0.   , 0.004, 0.   , 0.099, 0.057, 0.   , 0.   , 0.   ,\n",
      "       0.   , 0.   , 0.012, 0.   , 0.034, 0.091, 0.   , 0.   , 0.   ,\n",
      "       0.01 , 0.003, 0.042, 0.   , 0.   , 0.   , 0.   , 0.   , 0.   ,\n",
      "       0.   , 0.   , 0.   , 0.017, 0.035, 0.016, 0.   , 0.   , 0.014,\n",
      "       0.   , 0.059, 0.   , 0.   , 0.   , 0.   , 0.   , 0.006, 0.022,\n",
      "       0.   , 0.   , 0.01 , 0.   , 0.   , 0.   , 0.   , 0.048, 0.111,\n",
      "       0.   , 0.   , 0.054, 0.   , 0.   , 0.   , 0.   , 0.   , 0.   ,\n",
      "       0.014, 0.067, 0.   , 0.   , 0.   , 0.021, 0.075, 0.   ])\n",
      "     fun: 0.08711025215637189\n",
      "     jac: array([0.266, 0.206, 0.218, 0.296, 0.306, 0.324, 0.299, 0.263, 0.268,\n",
      "       0.304, 0.399, 0.241, 0.344, 0.234, 0.329, 0.37 , 0.434, 0.415,\n",
      "       0.356, 0.239, 0.298, 0.228, 0.341, 0.276, 0.322, 0.22 , 0.214,\n",
      "       0.246, 0.282, 0.376, 0.286, 0.386, 0.298, 0.202, 0.265, 0.26 ,\n",
      "       0.356, 0.307, 0.201, 0.326, 0.206, 0.214, 0.208, 0.367, 0.292,\n",
      "       0.218, 0.262, 0.217, 0.219, 0.227, 0.218, 0.344, 0.369, 0.251,\n",
      "       0.217, 0.21 , 0.258, 0.246, 0.403, 0.23 , 0.232, 0.391, 0.258,\n",
      "       0.224, 0.309, 0.283, 0.216, 0.22 , 0.216, 0.26 , 0.23 , 0.222,\n",
      "       0.347, 0.215, 0.384, 0.24 , 0.391, 0.307, 0.335, 0.223, 0.218,\n",
      "       0.335, 0.225, 0.194, 0.289, 0.371, 0.213, 0.256, 0.238, 0.226,\n",
      "       0.343, 0.22 , 0.23 , 0.299, 0.226, 0.403, 0.248, 0.232, 0.355,\n",
      "       0.216, 0.215, 0.249, 0.382, 0.221, 0.238, 0.217, 0.25 ])\n",
      " message: 'Optimization terminated successfully'\n",
      "    nfev: 758\n",
      "     nit: 7\n",
      "    njev: 7\n",
      "  status: 0\n",
      " success: True\n",
      "       x: array([0.   , 0.058, 0.   , 0.   , 0.   , 0.   , 0.   , 0.   , 0.   ,\n",
      "       0.   , 0.   , 0.   , 0.   , 0.   , 0.   , 0.   , 0.   , 0.   ,\n",
      "       0.   , 0.   , 0.   , 0.   , 0.   , 0.   , 0.   , 0.   , 0.003,\n",
      "       0.   , 0.   , 0.   , 0.   , 0.   , 0.   , 0.028, 0.   , 0.   ,\n",
      "       0.   , 0.   , 0.018, 0.   , 0.103, 0.06 , 0.009, 0.   , 0.   ,\n",
      "       0.   , 0.   , 0.013, 0.   , 0.027, 0.091, 0.   , 0.   , 0.   ,\n",
      "       0.011, 0.01 , 0.03 , 0.   , 0.   , 0.   , 0.   , 0.   , 0.   ,\n",
      "       0.   , 0.   , 0.   , 0.017, 0.032, 0.011, 0.   , 0.   , 0.012,\n",
      "       0.   , 0.061, 0.   , 0.   , 0.   , 0.   , 0.   , 0.   , 0.022,\n",
      "       0.   , 0.   , 0.019, 0.   , 0.   , 0.003, 0.   , 0.038, 0.111,\n",
      "       0.   , 0.   , 0.047, 0.   , 0.   , 0.   , 0.   , 0.   , 0.   ,\n",
      "       0.018, 0.062, 0.   , 0.   , 0.   , 0.01 , 0.077, 0.   ])\n",
      "     fun: 0.0936827902405653\n",
      "     jac: array([0.273, 0.228, 0.24 , 0.311, 0.321, 0.343, 0.319, 0.275, 0.276,\n",
      "       0.301, 0.417, 0.255, 0.36 , 0.242, 0.349, 0.382, 0.45 , 0.441,\n",
      "       0.378, 0.259, 0.304, 0.246, 0.362, 0.279, 0.343, 0.232, 0.229,\n",
      "       0.252, 0.3  , 0.399, 0.302, 0.388, 0.303, 0.23 , 0.266, 0.261,\n",
      "       0.376, 0.315, 0.236, 0.34 , 0.232, 0.227, 0.241, 0.384, 0.316,\n",
      "       0.23 , 0.287, 0.227, 0.244, 0.221, 0.225, 0.35 , 0.393, 0.264,\n",
      "       0.228, 0.235, 0.235, 0.254, 0.418, 0.234, 0.244, 0.405, 0.267,\n",
      "       0.238, 0.33 , 0.297, 0.228, 0.221, 0.227, 0.27 , 0.245, 0.229,\n",
      "       0.352, 0.225, 0.407, 0.25 , 0.414, 0.311, 0.354, 0.221, 0.23 ,\n",
      "       0.351, 0.243, 0.228, 0.296, 0.385, 0.235, 0.249, 0.231, 0.219,\n",
      "       0.361, 0.229, 0.228, 0.313, 0.23 , 0.409, 0.258, 0.253, 0.372,\n",
      "       0.23 , 0.222, 0.266, 0.395, 0.233, 0.224, 0.228, 0.27 ])\n",
      " message: 'Optimization terminated successfully'\n",
      "    nfev: 865\n",
      "     nit: 8\n",
      "    njev: 8\n",
      "  status: 0\n",
      " success: True\n",
      "       x: array([0.   , 0.058, 0.   , 0.   , 0.   , 0.   , 0.   , 0.   , 0.   ,\n",
      "       0.   , 0.   , 0.   , 0.   , 0.   , 0.   , 0.   , 0.   , 0.   ,\n",
      "       0.   , 0.   , 0.   , 0.   , 0.   , 0.   , 0.   , 0.   , 0.   ,\n",
      "       0.   , 0.   , 0.   , 0.   , 0.   , 0.   , 0.025, 0.   , 0.   ,\n",
      "       0.   , 0.   , 0.022, 0.   , 0.1  , 0.06 , 0.008, 0.   , 0.   ,\n",
      "       0.003, 0.   , 0.015, 0.   , 0.025, 0.093, 0.   , 0.   , 0.   ,\n",
      "       0.011, 0.011, 0.028, 0.   , 0.   , 0.   , 0.   , 0.   , 0.   ,\n",
      "       0.   , 0.   , 0.   , 0.016, 0.03 , 0.009, 0.   , 0.   , 0.013,\n",
      "       0.   , 0.059, 0.   , 0.   , 0.   , 0.   , 0.   , 0.   , 0.021,\n",
      "       0.   , 0.   , 0.018, 0.   , 0.   , 0.004, 0.   , 0.039, 0.113,\n",
      "       0.   , 0.   , 0.045, 0.   , 0.   , 0.   , 0.   , 0.   , 0.   ,\n",
      "       0.024, 0.06 , 0.   , 0.   , 0.   , 0.009, 0.078, 0.   ])\n",
      "     fun: 0.10010078971542585\n",
      "     jac: array([0.283, 0.238, 0.25 , 0.32 , 0.334, 0.352, 0.327, 0.28 , 0.286,\n",
      "       0.311, 0.427, 0.266, 0.371, 0.248, 0.364, 0.39 , 0.464, 0.455,\n",
      "       0.39 , 0.271, 0.31 , 0.256, 0.375, 0.289, 0.356, 0.243, 0.242,\n",
      "       0.261, 0.31 , 0.41 , 0.311, 0.396, 0.314, 0.241, 0.274, 0.269,\n",
      "       0.388, 0.325, 0.246, 0.35 , 0.242, 0.237, 0.248, 0.397, 0.328,\n",
      "       0.24 , 0.299, 0.237, 0.255, 0.23 , 0.235, 0.361, 0.406, 0.273,\n",
      "       0.237, 0.246, 0.247, 0.264, 0.429, 0.242, 0.257, 0.417, 0.276,\n",
      "       0.249, 0.341, 0.309, 0.239, 0.23 , 0.237, 0.281, 0.258, 0.239,\n",
      "       0.358, 0.235, 0.422, 0.26 , 0.424, 0.32 , 0.365, 0.232, 0.238,\n",
      "       0.363, 0.254, 0.236, 0.302, 0.399, 0.246, 0.257, 0.24 , 0.228,\n",
      "       0.371, 0.238, 0.236, 0.321, 0.239, 0.42 , 0.263, 0.265, 0.378,\n",
      "       0.239, 0.231, 0.279, 0.406, 0.242, 0.233, 0.237, 0.282])\n",
      " message: 'Optimization terminated successfully'\n",
      "    nfev: 865\n",
      "     nit: 8\n",
      "    njev: 8\n",
      "  status: 0\n",
      " success: True\n",
      "       x: array([0.   , 0.059, 0.   , 0.   , 0.   , 0.   , 0.   , 0.   , 0.   ,\n",
      "       0.   , 0.   , 0.   , 0.   , 0.   , 0.   , 0.   , 0.   , 0.   ,\n",
      "       0.   , 0.   , 0.   , 0.   , 0.   , 0.   , 0.   , 0.   , 0.   ,\n",
      "       0.   , 0.   , 0.   , 0.   , 0.   , 0.   , 0.023, 0.   , 0.   ,\n",
      "       0.   , 0.   , 0.025, 0.   , 0.098, 0.061, 0.007, 0.   , 0.   ,\n",
      "       0.006, 0.   , 0.016, 0.   , 0.024, 0.095, 0.   , 0.   , 0.   ,\n",
      "       0.012, 0.012, 0.027, 0.   , 0.   , 0.   , 0.   , 0.   , 0.   ,\n",
      "       0.   , 0.   , 0.   , 0.016, 0.029, 0.007, 0.   , 0.   , 0.015,\n",
      "       0.   , 0.058, 0.   , 0.   , 0.   , 0.   , 0.   , 0.   , 0.02 ,\n",
      "       0.   , 0.   , 0.017, 0.   , 0.   , 0.004, 0.   , 0.04 , 0.114,\n",
      "       0.   , 0.   , 0.044, 0.   , 0.   , 0.   , 0.   , 0.   , 0.   ,\n",
      "       0.029, 0.058, 0.   , 0.   , 0.   , 0.008, 0.079, 0.   ])\n",
      "     fun: 0.10638033444655022\n",
      "     jac: array([0.285, 0.244, 0.241, 0.32 , 0.344, 0.347, 0.322, 0.276, 0.299,\n",
      "       0.311, 0.429, 0.273, 0.375, 0.26 , 0.371, 0.392, 0.47 , 0.458,\n",
      "       0.395, 0.273, 0.312, 0.265, 0.382, 0.286, 0.369, 0.245, 0.249,\n",
      "       0.267, 0.316, 0.42 , 0.31 , 0.403, 0.337, 0.233, 0.266, 0.26 ,\n",
      "       0.39 , 0.329, 0.228, 0.351, 0.238, 0.243, 0.215, 0.395, 0.312,\n",
      "       0.242, 0.299, 0.245, 0.252, 0.255, 0.245, 0.365, 0.41 , 0.274,\n",
      "       0.244, 0.228, 0.227, 0.278, 0.438, 0.248, 0.263, 0.42 , 0.278,\n",
      "       0.26 , 0.34 , 0.316, 0.262, 0.256, 0.25 , 0.293, 0.261, 0.248,\n",
      "       0.364, 0.242, 0.425, 0.267, 0.424, 0.331, 0.37 , 0.259, 0.243,\n",
      "       0.369, 0.262, 0.253, 0.302, 0.408, 0.235, 0.272, 0.265, 0.252,\n",
      "       0.374, 0.249, 0.256, 0.318, 0.252, 0.43 , 0.271, 0.271, 0.374,\n",
      "       0.246, 0.253, 0.284, 0.405, 0.246, 0.254, 0.242, 0.286])\n",
      " message: 'Optimization terminated successfully'\n",
      "    nfev: 759\n",
      "     nit: 7\n",
      "    njev: 7\n",
      "  status: 0\n",
      " success: True\n",
      "       x: array([0.   , 0.059, 0.   , 0.   , 0.   , 0.   , 0.   , 0.   , 0.   ,\n",
      "       0.   , 0.   , 0.   , 0.   , 0.   , 0.   , 0.   , 0.   , 0.   ,\n",
      "       0.   , 0.   , 0.   , 0.   , 0.   , 0.   , 0.   , 0.   , 0.   ,\n",
      "       0.   , 0.   , 0.   , 0.   , 0.   , 0.   , 0.02 , 0.   , 0.   ,\n",
      "       0.   , 0.   , 0.027, 0.   , 0.095, 0.061, 0.006, 0.   , 0.   ,\n",
      "       0.009, 0.   , 0.018, 0.   , 0.022, 0.096, 0.   , 0.   , 0.   ,\n",
      "       0.012, 0.012, 0.025, 0.   , 0.   , 0.   , 0.   , 0.   , 0.   ,\n",
      "       0.   , 0.   , 0.   , 0.016, 0.027, 0.005, 0.   , 0.   , 0.016,\n",
      "       0.   , 0.057, 0.   , 0.   , 0.   , 0.   , 0.   , 0.   , 0.019,\n",
      "       0.   , 0.   , 0.016, 0.   , 0.   , 0.004, 0.   , 0.041, 0.116,\n",
      "       0.   , 0.   , 0.042, 0.   , 0.   , 0.   , 0.   , 0.   , 0.   ,\n",
      "       0.034, 0.056, 0.   , 0.   , 0.   , 0.007, 0.081, 0.   ])\n",
      "     fun: 0.1125369844993676\n",
      "     jac: array([0.294, 0.253, 0.251, 0.33 , 0.357, 0.356, 0.329, 0.281, 0.31 ,\n",
      "       0.321, 0.438, 0.284, 0.386, 0.268, 0.386, 0.402, 0.484, 0.473,\n",
      "       0.408, 0.285, 0.318, 0.275, 0.395, 0.294, 0.382, 0.254, 0.262,\n",
      "       0.275, 0.326, 0.431, 0.319, 0.412, 0.347, 0.244, 0.272, 0.267,\n",
      "       0.401, 0.339, 0.238, 0.361, 0.249, 0.252, 0.224, 0.408, 0.322,\n",
      "       0.251, 0.31 , 0.253, 0.263, 0.265, 0.254, 0.375, 0.425, 0.283,\n",
      "       0.253, 0.238, 0.237, 0.288, 0.45 , 0.257, 0.277, 0.431, 0.287,\n",
      "       0.272, 0.35 , 0.328, 0.269, 0.267, 0.261, 0.304, 0.275, 0.257,\n",
      "       0.37 , 0.251, 0.44 , 0.277, 0.435, 0.339, 0.382, 0.273, 0.253,\n",
      "       0.38 , 0.273, 0.265, 0.309, 0.422, 0.243, 0.281, 0.276, 0.263,\n",
      "       0.386, 0.259, 0.267, 0.325, 0.26 , 0.441, 0.277, 0.283, 0.381,\n",
      "       0.255, 0.262, 0.296, 0.415, 0.254, 0.263, 0.251, 0.297])\n",
      " message: 'Optimization terminated successfully'\n",
      "    nfev: 759\n",
      "     nit: 7\n",
      "    njev: 7\n",
      "  status: 0\n",
      " success: True\n",
      "       x: array([0.   , 0.06 , 0.   , 0.   , 0.   , 0.   , 0.   , 0.   , 0.   ,\n",
      "       0.   , 0.   , 0.   , 0.   , 0.   , 0.   , 0.   , 0.   , 0.   ,\n",
      "       0.   , 0.   , 0.   , 0.   , 0.   , 0.   , 0.   , 0.   , 0.   ,\n",
      "       0.   , 0.   , 0.   , 0.   , 0.   , 0.   , 0.017, 0.   , 0.   ,\n",
      "       0.   , 0.   , 0.029, 0.   , 0.092, 0.061, 0.006, 0.   , 0.   ,\n",
      "       0.011, 0.   , 0.02 , 0.   , 0.021, 0.098, 0.   , 0.   , 0.   ,\n",
      "       0.013, 0.012, 0.022, 0.   , 0.   , 0.   , 0.   , 0.   , 0.   ,\n",
      "       0.   , 0.   , 0.   , 0.016, 0.025, 0.003, 0.   , 0.   , 0.018,\n",
      "       0.   , 0.056, 0.   , 0.   , 0.   , 0.   , 0.   , 0.   , 0.017,\n",
      "       0.   , 0.   , 0.015, 0.   , 0.   , 0.004, 0.   , 0.043, 0.118,\n",
      "       0.   , 0.   , 0.041, 0.   , 0.   , 0.   , 0.   , 0.   , 0.   ,\n",
      "       0.038, 0.055, 0.   , 0.   , 0.001, 0.006, 0.082, 0.   ])\n",
      "     fun: 0.11864654731748571\n",
      "     jac: array([0.303, 0.262, 0.26 , 0.339, 0.371, 0.365, 0.337, 0.285, 0.321,\n",
      "       0.333, 0.448, 0.295, 0.397, 0.277, 0.401, 0.412, 0.498, 0.49 ,\n",
      "       0.421, 0.299, 0.324, 0.285, 0.409, 0.304, 0.396, 0.264, 0.276,\n",
      "       0.283, 0.336, 0.443, 0.328, 0.422, 0.357, 0.257, 0.28 , 0.274,\n",
      "       0.414, 0.349, 0.249, 0.371, 0.26 , 0.261, 0.234, 0.422, 0.333,\n",
      "       0.26 , 0.321, 0.261, 0.274, 0.277, 0.262, 0.386, 0.44 , 0.292,\n",
      "       0.262, 0.247, 0.249, 0.298, 0.462, 0.265, 0.291, 0.443, 0.297,\n",
      "       0.285, 0.362, 0.341, 0.274, 0.281, 0.272, 0.315, 0.289, 0.265,\n",
      "       0.375, 0.26 , 0.455, 0.286, 0.445, 0.347, 0.394, 0.289, 0.264,\n",
      "       0.392, 0.285, 0.277, 0.316, 0.437, 0.252, 0.29 , 0.287, 0.273,\n",
      "       0.398, 0.269, 0.278, 0.332, 0.269, 0.451, 0.283, 0.296, 0.388,\n",
      "       0.265, 0.27 , 0.308, 0.425, 0.264, 0.273, 0.26 , 0.308])\n",
      " message: 'Optimization terminated successfully'\n",
      "    nfev: 759\n",
      "     nit: 7\n",
      "    njev: 7\n",
      "  status: 0\n",
      " success: True\n",
      "       x: array([0.   , 0.06 , 0.   , 0.   , 0.   , 0.   , 0.   , 0.   , 0.   ,\n",
      "       0.   , 0.   , 0.   , 0.   , 0.   , 0.   , 0.   , 0.   , 0.   ,\n",
      "       0.   , 0.   , 0.   , 0.   , 0.   , 0.   , 0.   , 0.   , 0.   ,\n",
      "       0.   , 0.   , 0.   , 0.   , 0.   , 0.   , 0.013, 0.   , 0.   ,\n",
      "       0.   , 0.   , 0.03 , 0.   , 0.088, 0.062, 0.005, 0.   , 0.   ,\n",
      "       0.014, 0.   , 0.022, 0.   , 0.019, 0.099, 0.   , 0.   , 0.   ,\n",
      "       0.013, 0.012, 0.019, 0.   , 0.   , 0.002, 0.   , 0.   , 0.   ,\n",
      "       0.   , 0.   , 0.   , 0.016, 0.022, 0.001, 0.   , 0.   , 0.02 ,\n",
      "       0.   , 0.056, 0.   , 0.   , 0.   , 0.   , 0.   , 0.   , 0.015,\n",
      "       0.   , 0.   , 0.013, 0.   , 0.   , 0.005, 0.   , 0.045, 0.121,\n",
      "       0.   , 0.   , 0.04 , 0.   , 0.   , 0.   , 0.   , 0.   , 0.   ,\n",
      "       0.042, 0.054, 0.   , 0.   , 0.002, 0.006, 0.084, 0.   ])\n",
      "     fun: 0.12479597672111775\n",
      "     jac: array([0.319, 0.283, 0.288, 0.357, 0.395, 0.389, 0.365, 0.315, 0.328,\n",
      "       0.341, 0.472, 0.317, 0.419, 0.285, 0.431, 0.433, 0.521, 0.518,\n",
      "       0.453, 0.323, 0.331, 0.305, 0.432, 0.319, 0.422, 0.282, 0.3  ,\n",
      "       0.292, 0.355, 0.467, 0.345, 0.433, 0.367, 0.286, 0.29 , 0.284,\n",
      "       0.437, 0.363, 0.285, 0.392, 0.286, 0.276, 0.284, 0.445, 0.367,\n",
      "       0.274, 0.35 , 0.275, 0.299, 0.265, 0.276, 0.397, 0.465, 0.313,\n",
      "       0.277, 0.277, 0.248, 0.305, 0.48 , 0.273, 0.322, 0.458, 0.316,\n",
      "       0.301, 0.39 , 0.361, 0.295, 0.276, 0.282, 0.326, 0.321, 0.277,\n",
      "       0.383, 0.271, 0.481, 0.303, 0.478, 0.355, 0.416, 0.3  , 0.277,\n",
      "       0.414, 0.308, 0.289, 0.325, 0.453, 0.281, 0.297, 0.275, 0.259,\n",
      "       0.421, 0.283, 0.276, 0.35 , 0.282, 0.472, 0.301, 0.32 , 0.414,\n",
      "       0.279, 0.28 , 0.33 , 0.443, 0.283, 0.274, 0.271, 0.333])\n",
      " message: 'Optimization terminated successfully'\n",
      "    nfev: 653\n",
      "     nit: 6\n",
      "    njev: 6\n",
      "  status: 0\n",
      " success: True\n",
      "       x: array([0.   , 0.063, 0.001, 0.   , 0.   , 0.   , 0.   , 0.001, 0.   ,\n",
      "       0.   , 0.   , 0.   , 0.   , 0.   , 0.   , 0.   , 0.   , 0.   ,\n",
      "       0.   , 0.   , 0.   , 0.   , 0.   , 0.   , 0.   , 0.001, 0.   ,\n",
      "       0.   , 0.   , 0.   , 0.   , 0.   , 0.   , 0.008, 0.   , 0.   ,\n",
      "       0.   , 0.   , 0.028, 0.   , 0.083, 0.06 , 0.004, 0.   , 0.   ,\n",
      "       0.013, 0.   , 0.018, 0.   , 0.021, 0.099, 0.   , 0.   , 0.   ,\n",
      "       0.011, 0.004, 0.021, 0.   , 0.   , 0.004, 0.003, 0.   , 0.   ,\n",
      "       0.   , 0.   , 0.   , 0.009, 0.029, 0.005, 0.   , 0.   , 0.02 ,\n",
      "       0.   , 0.05 , 0.   , 0.   , 0.   , 0.   , 0.   , 0.005, 0.018,\n",
      "       0.   , 0.   , 0.015, 0.   , 0.   , 0.001, 0.001, 0.053, 0.112,\n",
      "       0.   , 0.001, 0.045, 0.   , 0.002, 0.   , 0.001, 0.   , 0.   ,\n",
      "       0.045, 0.056, 0.   , 0.   , 0.001, 0.008, 0.079, 0.   ])\n",
      "     fun: 0.13066443223830734\n",
      "     jac: array([0.33 , 0.291, 0.297, 0.367, 0.41 , 0.399, 0.375, 0.323, 0.338,\n",
      "       0.353, 0.485, 0.33 , 0.432, 0.293, 0.446, 0.444, 0.536, 0.535,\n",
      "       0.468, 0.336, 0.336, 0.317, 0.447, 0.329, 0.437, 0.292, 0.314,\n",
      "       0.302, 0.366, 0.479, 0.355, 0.444, 0.376, 0.296, 0.299, 0.293,\n",
      "       0.45 , 0.373, 0.295, 0.403, 0.297, 0.286, 0.293, 0.46 , 0.377,\n",
      "       0.281, 0.361, 0.283, 0.31 , 0.278, 0.285, 0.407, 0.479, 0.323,\n",
      "       0.286, 0.285, 0.26 , 0.314, 0.494, 0.283, 0.335, 0.469, 0.327,\n",
      "       0.312, 0.401, 0.376, 0.307, 0.291, 0.291, 0.339, 0.337, 0.285,\n",
      "       0.388, 0.28 , 0.496, 0.313, 0.491, 0.365, 0.428, 0.313, 0.288,\n",
      "       0.426, 0.321, 0.298, 0.334, 0.468, 0.291, 0.307, 0.285, 0.269,\n",
      "       0.432, 0.293, 0.289, 0.359, 0.291, 0.485, 0.312, 0.333, 0.422,\n",
      "       0.288, 0.288, 0.341, 0.454, 0.293, 0.285, 0.28 , 0.345])\n",
      " message: 'Optimization terminated successfully'\n",
      "    nfev: 653\n",
      "     nit: 6\n",
      "    njev: 6\n",
      "  status: 0\n",
      " success: True\n",
      "       x: array([0.   , 0.063, 0.001, 0.   , 0.   , 0.   , 0.   , 0.001, 0.   ,\n",
      "       0.   , 0.   , 0.   , 0.   , 0.   , 0.   , 0.   , 0.   , 0.   ,\n",
      "       0.   , 0.   , 0.   , 0.   , 0.   , 0.   , 0.   , 0.001, 0.   ,\n",
      "       0.   , 0.   , 0.   , 0.   , 0.   , 0.   , 0.006, 0.   , 0.   ,\n",
      "       0.   , 0.   , 0.03 , 0.   , 0.081, 0.06 , 0.003, 0.   , 0.   ,\n",
      "       0.014, 0.   , 0.018, 0.   , 0.02 , 0.099, 0.   , 0.   , 0.   ,\n",
      "       0.011, 0.005, 0.02 , 0.   , 0.   , 0.005, 0.002, 0.   , 0.   ,\n",
      "       0.   , 0.   , 0.   , 0.008, 0.028, 0.004, 0.   , 0.   , 0.021,\n",
      "       0.   , 0.05 , 0.   , 0.   , 0.   , 0.   , 0.   , 0.005, 0.017,\n",
      "       0.   , 0.   , 0.014, 0.   , 0.   , 0.001, 0.001, 0.053, 0.113,\n",
      "       0.   , 0.001, 0.044, 0.   , 0.002, 0.   , 0.002, 0.   , 0.   ,\n",
      "       0.048, 0.054, 0.   , 0.   , 0.002, 0.007, 0.08 , 0.   ])\n",
      "     fun: 0.13642952966455493\n",
      "     jac: array([0.339, 0.298, 0.306, 0.377, 0.425, 0.408, 0.383, 0.33 , 0.348,\n",
      "       0.364, 0.496, 0.343, 0.443, 0.305, 0.461, 0.455, 0.55 , 0.551,\n",
      "       0.482, 0.348, 0.342, 0.328, 0.461, 0.338, 0.452, 0.301, 0.328,\n",
      "       0.311, 0.376, 0.491, 0.364, 0.454, 0.385, 0.306, 0.307, 0.301,\n",
      "       0.463, 0.383, 0.306, 0.414, 0.308, 0.295, 0.303, 0.474, 0.387,\n",
      "       0.289, 0.372, 0.291, 0.321, 0.291, 0.293, 0.417, 0.494, 0.333,\n",
      "       0.294, 0.294, 0.271, 0.324, 0.506, 0.292, 0.347, 0.48 , 0.338,\n",
      "       0.325, 0.412, 0.39 , 0.315, 0.307, 0.301, 0.351, 0.352, 0.293,\n",
      "       0.394, 0.289, 0.511, 0.322, 0.503, 0.374, 0.44 , 0.325, 0.3  ,\n",
      "       0.437, 0.334, 0.307, 0.342, 0.483, 0.3  , 0.319, 0.296, 0.279,\n",
      "       0.444, 0.303, 0.301, 0.368, 0.3  , 0.496, 0.321, 0.346, 0.43 ,\n",
      "       0.297, 0.295, 0.353, 0.465, 0.302, 0.297, 0.289, 0.357])\n",
      " message: 'Optimization terminated successfully'\n",
      "    nfev: 653\n",
      "     nit: 6\n",
      "    njev: 6\n",
      "  status: 0\n",
      " success: True\n",
      "       x: array([0.   , 0.063, 0.001, 0.   , 0.   , 0.   , 0.   , 0.001, 0.   ,\n",
      "       0.   , 0.   , 0.   , 0.   , 0.001, 0.   , 0.   , 0.   , 0.   ,\n",
      "       0.   , 0.   , 0.   , 0.   , 0.   , 0.   , 0.   , 0.001, 0.   ,\n",
      "       0.   , 0.   , 0.   , 0.   , 0.   , 0.   , 0.004, 0.   , 0.   ,\n",
      "       0.   , 0.   , 0.032, 0.   , 0.079, 0.06 , 0.003, 0.   , 0.   ,\n",
      "       0.016, 0.   , 0.019, 0.   , 0.02 , 0.1  , 0.   , 0.   , 0.   ,\n",
      "       0.012, 0.005, 0.019, 0.   , 0.   , 0.005, 0.002, 0.   , 0.   ,\n",
      "       0.   , 0.   , 0.   , 0.007, 0.027, 0.003, 0.   , 0.   , 0.021,\n",
      "       0.   , 0.05 , 0.   , 0.   , 0.   , 0.   , 0.   , 0.005, 0.016,\n",
      "       0.   , 0.   , 0.014, 0.   , 0.   , 0.001, 0.002, 0.055, 0.114,\n",
      "       0.   , 0.002, 0.043, 0.   , 0.003, 0.   , 0.003, 0.   , 0.   ,\n",
      "       0.051, 0.053, 0.   , 0.   , 0.002, 0.006, 0.08 , 0.   ])\n",
      "     fun: 0.1420516424725442\n",
      "     jac: array([0.35 , 0.306, 0.315, 0.387, 0.439, 0.418, 0.391, 0.335, 0.36 ,\n",
      "       0.378, 0.506, 0.354, 0.455, 0.316, 0.475, 0.465, 0.563, 0.567,\n",
      "       0.495, 0.361, 0.348, 0.338, 0.473, 0.35 , 0.465, 0.311, 0.342,\n",
      "       0.32 , 0.385, 0.501, 0.374, 0.465, 0.394, 0.315, 0.318, 0.312,\n",
      "       0.475, 0.393, 0.316, 0.424, 0.319, 0.304, 0.316, 0.489, 0.398,\n",
      "       0.298, 0.382, 0.299, 0.331, 0.307, 0.302, 0.428, 0.507, 0.343,\n",
      "       0.303, 0.304, 0.291, 0.334, 0.518, 0.302, 0.359, 0.493, 0.349,\n",
      "       0.338, 0.423, 0.404, 0.319, 0.325, 0.311, 0.363, 0.367, 0.301,\n",
      "       0.401, 0.299, 0.527, 0.331, 0.514, 0.383, 0.451, 0.335, 0.313,\n",
      "       0.448, 0.345, 0.315, 0.351, 0.499, 0.31 , 0.33 , 0.307, 0.29 ,\n",
      "       0.455, 0.313, 0.314, 0.377, 0.31 , 0.507, 0.328, 0.357, 0.438,\n",
      "       0.306, 0.302, 0.364, 0.475, 0.311, 0.309, 0.298, 0.368])\n",
      " message: 'Optimization terminated successfully'\n",
      "    nfev: 653\n",
      "     nit: 6\n",
      "    njev: 6\n",
      "  status: 0\n",
      " success: True\n",
      "       x: array([0.   , 0.063, 0.001, 0.   , 0.   , 0.   , 0.   , 0.001, 0.   ,\n",
      "       0.   , 0.   , 0.   , 0.   , 0.002, 0.   , 0.   , 0.   , 0.   ,\n",
      "       0.   , 0.   , 0.   , 0.001, 0.   , 0.   , 0.   , 0.001, 0.   ,\n",
      "       0.   , 0.   , 0.   , 0.   , 0.   , 0.   , 0.002, 0.   , 0.   ,\n",
      "       0.   , 0.   , 0.033, 0.   , 0.076, 0.061, 0.002, 0.   , 0.   ,\n",
      "       0.019, 0.   , 0.02 , 0.   , 0.018, 0.101, 0.   , 0.   , 0.   ,\n",
      "       0.012, 0.005, 0.018, 0.   , 0.   , 0.006, 0.001, 0.   , 0.   ,\n",
      "       0.   , 0.   , 0.   , 0.007, 0.024, 0.002, 0.   , 0.   , 0.022,\n",
      "       0.   , 0.051, 0.   , 0.   , 0.   , 0.   , 0.   , 0.004, 0.015,\n",
      "       0.   , 0.   , 0.013, 0.   , 0.   , 0.001, 0.002, 0.057, 0.115,\n",
      "       0.   , 0.001, 0.043, 0.   , 0.002, 0.   , 0.003, 0.   , 0.   ,\n",
      "       0.053, 0.052, 0.   , 0.   , 0.002, 0.004, 0.082, 0.   ])\n",
      "     fun: 0.1480144443032489\n",
      "     jac: array([0.362, 0.313, 0.326, 0.398, 0.455, 0.429, 0.401, 0.344, 0.371,\n",
      "       0.395, 0.518, 0.368, 0.466, 0.327, 0.49 , 0.475, 0.577, 0.582,\n",
      "       0.508, 0.373, 0.354, 0.347, 0.486, 0.363, 0.478, 0.321, 0.357,\n",
      "       0.329, 0.394, 0.511, 0.385, 0.477, 0.402, 0.326, 0.332, 0.325,\n",
      "       0.487, 0.404, 0.328, 0.436, 0.329, 0.313, 0.332, 0.506, 0.412,\n",
      "       0.307, 0.393, 0.307, 0.342, 0.322, 0.311, 0.44 , 0.521, 0.353,\n",
      "       0.312, 0.316, 0.314, 0.343, 0.53 , 0.314, 0.37 , 0.505, 0.362,\n",
      "       0.35 , 0.435, 0.419, 0.325, 0.34 , 0.321, 0.376, 0.383, 0.31 ,\n",
      "       0.407, 0.309, 0.543, 0.341, 0.526, 0.393, 0.462, 0.344, 0.325,\n",
      "       0.459, 0.357, 0.322, 0.361, 0.516, 0.321, 0.342, 0.317, 0.299,\n",
      "       0.466, 0.322, 0.326, 0.387, 0.32 , 0.519, 0.335, 0.368, 0.446,\n",
      "       0.315, 0.308, 0.376, 0.487, 0.32 , 0.321, 0.307, 0.378])\n",
      " message: 'Optimization terminated successfully'\n",
      "    nfev: 652\n",
      "     nit: 6\n",
      "    njev: 6\n",
      "  status: 0\n",
      " success: True\n",
      "       x: array([0.   , 0.065, 0.   , 0.   , 0.   , 0.   , 0.   , 0.   , 0.   ,\n",
      "       0.   , 0.   , 0.   , 0.   , 0.   , 0.   , 0.   , 0.   , 0.   ,\n",
      "       0.   , 0.   , 0.   , 0.   , 0.   , 0.   , 0.   , 0.   , 0.   ,\n",
      "       0.   , 0.   , 0.   , 0.   , 0.   , 0.   , 0.   , 0.   , 0.   ,\n",
      "       0.   , 0.   , 0.029, 0.   , 0.07 , 0.065, 0.   , 0.   , 0.   ,\n",
      "       0.024, 0.   , 0.024, 0.   , 0.017, 0.103, 0.   , 0.   , 0.   ,\n",
      "       0.014, 0.003, 0.019, 0.   , 0.   , 0.009, 0.   , 0.   , 0.   ,\n",
      "       0.   , 0.   , 0.   , 0.009, 0.015, 0.   , 0.   , 0.   , 0.024,\n",
      "       0.   , 0.054, 0.   , 0.   , 0.   , 0.   , 0.   , 0.   , 0.013,\n",
      "       0.   , 0.   , 0.013, 0.   , 0.   , 0.   , 0.   , 0.061, 0.126,\n",
      "       0.   , 0.   , 0.042, 0.   , 0.   , 0.   , 0.   , 0.   , 0.   ,\n",
      "       0.057, 0.057, 0.   , 0.   , 0.001, 0.   , 0.086, 0.   ])\n",
      "     fun: 0.15313579532565078\n",
      "     jac: array([0.374, 0.321, 0.337, 0.409, 0.471, 0.439, 0.413, 0.355, 0.382,\n",
      "       0.409, 0.53 , 0.382, 0.477, 0.337, 0.504, 0.484, 0.59 , 0.595,\n",
      "       0.52 , 0.384, 0.361, 0.356, 0.498, 0.374, 0.491, 0.332, 0.372,\n",
      "       0.339, 0.403, 0.522, 0.395, 0.486, 0.411, 0.336, 0.344, 0.337,\n",
      "       0.5  , 0.415, 0.338, 0.447, 0.339, 0.323, 0.345, 0.522, 0.426,\n",
      "       0.317, 0.404, 0.316, 0.354, 0.336, 0.32 , 0.452, 0.534, 0.363,\n",
      "       0.321, 0.328, 0.332, 0.353, 0.542, 0.326, 0.38 , 0.518, 0.374,\n",
      "       0.363, 0.447, 0.434, 0.34 , 0.354, 0.331, 0.389, 0.398, 0.319,\n",
      "       0.414, 0.319, 0.559, 0.35 , 0.538, 0.403, 0.474, 0.351, 0.336,\n",
      "       0.471, 0.367, 0.331, 0.369, 0.532, 0.333, 0.353, 0.326, 0.308,\n",
      "       0.476, 0.331, 0.337, 0.397, 0.329, 0.533, 0.342, 0.38 , 0.455,\n",
      "       0.323, 0.315, 0.388, 0.499, 0.33 , 0.332, 0.317, 0.388])\n",
      " message: 'Optimization terminated successfully'\n",
      "    nfev: 653\n",
      "     nit: 6\n",
      "    njev: 6\n",
      "  status: 0\n",
      " success: True\n",
      "       x: array([0.   , 0.064, 0.002, 0.   , 0.   , 0.   , 0.   , 0.002, 0.   ,\n",
      "       0.   , 0.   , 0.   , 0.   , 0.003, 0.   , 0.   , 0.   , 0.   ,\n",
      "       0.   , 0.   , 0.   , 0.001, 0.   , 0.   , 0.   , 0.   , 0.   ,\n",
      "       0.001, 0.   , 0.   , 0.   , 0.   , 0.   , 0.001, 0.   , 0.   ,\n",
      "       0.   , 0.   , 0.036, 0.   , 0.073, 0.062, 0.002, 0.   , 0.   ,\n",
      "       0.021, 0.   , 0.021, 0.   , 0.016, 0.103, 0.   , 0.   , 0.   ,\n",
      "       0.013, 0.005, 0.012, 0.   , 0.   , 0.006, 0.001, 0.   , 0.   ,\n",
      "       0.   , 0.   , 0.   , 0.008, 0.02 , 0.   , 0.   , 0.   , 0.022,\n",
      "       0.   , 0.051, 0.   , 0.   , 0.   , 0.   , 0.   , 0.003, 0.012,\n",
      "       0.   , 0.   , 0.013, 0.   , 0.   , 0.001, 0.002, 0.061, 0.115,\n",
      "       0.   , 0.001, 0.041, 0.   , 0.003, 0.   , 0.005, 0.   , 0.   ,\n",
      "       0.058, 0.052, 0.   , 0.   , 0.003, 0.004, 0.083, 0.   ])\n",
      "     fun: 0.15860434500204024\n",
      "     jac: array([0.386, 0.33 , 0.349, 0.42 , 0.487, 0.45 , 0.425, 0.367, 0.393,\n",
      "       0.424, 0.543, 0.396, 0.488, 0.348, 0.519, 0.493, 0.603, 0.609,\n",
      "       0.532, 0.396, 0.367, 0.365, 0.511, 0.387, 0.503, 0.343, 0.387,\n",
      "       0.35 , 0.413, 0.533, 0.407, 0.496, 0.42 , 0.349, 0.357, 0.349,\n",
      "       0.513, 0.426, 0.349, 0.458, 0.349, 0.332, 0.359, 0.539, 0.44 ,\n",
      "       0.327, 0.416, 0.326, 0.366, 0.349, 0.329, 0.464, 0.547, 0.374,\n",
      "       0.331, 0.34 , 0.351, 0.363, 0.554, 0.338, 0.39 , 0.531, 0.386,\n",
      "       0.376, 0.459, 0.449, 0.357, 0.366, 0.342, 0.402, 0.415, 0.329,\n",
      "       0.421, 0.33 , 0.576, 0.36 , 0.551, 0.413, 0.485, 0.358, 0.347,\n",
      "       0.483, 0.378, 0.338, 0.377, 0.548, 0.346, 0.364, 0.335, 0.316,\n",
      "       0.487, 0.341, 0.348, 0.407, 0.339, 0.547, 0.35 , 0.391, 0.464,\n",
      "       0.332, 0.322, 0.401, 0.511, 0.339, 0.344, 0.328, 0.398])\n",
      " message: 'Optimization terminated successfully'\n",
      "    nfev: 653\n",
      "     nit: 6\n",
      "    njev: 6\n",
      "  status: 0\n",
      " success: True\n",
      "       x: array([0.   , 0.063, 0.002, 0.   , 0.   , 0.   , 0.   , 0.002, 0.   ,\n",
      "       0.   , 0.   , 0.   , 0.   , 0.004, 0.   , 0.   , 0.   , 0.   ,\n",
      "       0.   , 0.   , 0.   , 0.001, 0.   , 0.   , 0.   , 0.   , 0.   ,\n",
      "       0.001, 0.   , 0.   , 0.   , 0.   , 0.   , 0.   , 0.   , 0.   ,\n",
      "       0.   , 0.   , 0.038, 0.   , 0.072, 0.063, 0.002, 0.   , 0.   ,\n",
      "       0.022, 0.   , 0.021, 0.   , 0.015, 0.103, 0.   , 0.   , 0.   ,\n",
      "       0.012, 0.005, 0.01 , 0.   , 0.   , 0.005, 0.   , 0.   , 0.   ,\n",
      "       0.   , 0.   , 0.   , 0.008, 0.019, 0.   , 0.   , 0.   , 0.021,\n",
      "       0.   , 0.051, 0.   , 0.   , 0.   , 0.   , 0.   , 0.002, 0.011,\n",
      "       0.   , 0.   , 0.013, 0.   , 0.   , 0.   , 0.002, 0.062, 0.114,\n",
      "       0.   , 0.001, 0.041, 0.   , 0.003, 0.   , 0.006, 0.   , 0.   ,\n",
      "       0.06 , 0.051, 0.   , 0.   , 0.003, 0.004, 0.083, 0.   ])\n",
      "     fun: 0.164035780854879\n",
      "     jac: array([0.398, 0.339, 0.361, 0.431, 0.504, 0.461, 0.438, 0.381, 0.403,\n",
      "       0.439, 0.556, 0.411, 0.499, 0.358, 0.535, 0.502, 0.617, 0.623,\n",
      "       0.546, 0.409, 0.373, 0.375, 0.524, 0.398, 0.516, 0.354, 0.401,\n",
      "       0.36 , 0.422, 0.544, 0.417, 0.505, 0.429, 0.362, 0.368, 0.361,\n",
      "       0.526, 0.437, 0.36 , 0.47 , 0.359, 0.342, 0.371, 0.556, 0.455,\n",
      "       0.337, 0.427, 0.335, 0.378, 0.362, 0.339, 0.475, 0.56 , 0.384,\n",
      "       0.341, 0.352, 0.366, 0.373, 0.567, 0.351, 0.403, 0.543, 0.399,\n",
      "       0.388, 0.471, 0.464, 0.376, 0.379, 0.352, 0.415, 0.431, 0.339,\n",
      "       0.427, 0.34 , 0.592, 0.37 , 0.565, 0.422, 0.497, 0.366, 0.358,\n",
      "       0.495, 0.389, 0.346, 0.386, 0.564, 0.358, 0.374, 0.344, 0.325,\n",
      "       0.497, 0.35 , 0.358, 0.417, 0.348, 0.56 , 0.359, 0.402, 0.473,\n",
      "       0.341, 0.329, 0.413, 0.523, 0.349, 0.355, 0.338, 0.409])\n",
      " message: 'Optimization terminated successfully'\n",
      "    nfev: 653\n",
      "     nit: 6\n",
      "    njev: 6\n",
      "  status: 0\n",
      " success: True\n",
      "       x: array([0.   , 0.063, 0.002, 0.   , 0.   , 0.   , 0.   , 0.003, 0.   ,\n",
      "       0.   , 0.   , 0.   , 0.   , 0.005, 0.   , 0.   , 0.   , 0.   ,\n",
      "       0.   , 0.   , 0.   , 0.001, 0.   , 0.   , 0.   , 0.   , 0.   ,\n",
      "       0.001, 0.   , 0.   , 0.   , 0.   , 0.   , 0.   , 0.   , 0.   ,\n",
      "       0.   , 0.   , 0.039, 0.   , 0.07 , 0.063, 0.002, 0.   , 0.   ,\n",
      "       0.023, 0.   , 0.022, 0.   , 0.014, 0.104, 0.   , 0.   , 0.   ,\n",
      "       0.012, 0.006, 0.008, 0.   , 0.   , 0.005, 0.   , 0.   , 0.   ,\n",
      "       0.   , 0.   , 0.   , 0.007, 0.018, 0.   , 0.   , 0.   , 0.021,\n",
      "       0.   , 0.05 , 0.   , 0.   , 0.   , 0.   , 0.   , 0.001, 0.01 ,\n",
      "       0.   , 0.   , 0.013, 0.   , 0.   , 0.   , 0.002, 0.063, 0.115,\n",
      "       0.   , 0.001, 0.04 , 0.   , 0.003, 0.   , 0.008, 0.   , 0.   ,\n",
      "       0.062, 0.05 , 0.   , 0.   , 0.003, 0.005, 0.083, 0.   ])\n",
      "     fun: 0.1694002496585802\n",
      "     jac: array([0.409, 0.349, 0.372, 0.441, 0.52 , 0.471, 0.45 , 0.395, 0.414,\n",
      "       0.451, 0.569, 0.426, 0.51 , 0.368, 0.55 , 0.511, 0.63 , 0.636,\n",
      "       0.559, 0.421, 0.379, 0.384, 0.537, 0.409, 0.53 , 0.365, 0.415,\n",
      "       0.369, 0.431, 0.557, 0.428, 0.514, 0.438, 0.375, 0.378, 0.371,\n",
      "       0.539, 0.448, 0.37 , 0.481, 0.369, 0.352, 0.382, 0.571, 0.468,\n",
      "       0.346, 0.439, 0.345, 0.39 , 0.375, 0.348, 0.486, 0.573, 0.394,\n",
      "       0.351, 0.363, 0.377, 0.383, 0.579, 0.362, 0.415, 0.556, 0.409,\n",
      "       0.4  , 0.483, 0.479, 0.394, 0.392, 0.362, 0.429, 0.447, 0.348,\n",
      "       0.433, 0.35 , 0.608, 0.379, 0.579, 0.432, 0.508, 0.374, 0.368,\n",
      "       0.507, 0.4  , 0.354, 0.393, 0.58 , 0.369, 0.384, 0.353, 0.333,\n",
      "       0.507, 0.36 , 0.369, 0.427, 0.357, 0.573, 0.369, 0.413, 0.482,\n",
      "       0.35 , 0.336, 0.425, 0.534, 0.358, 0.364, 0.348, 0.42 ])\n",
      " message: 'Optimization terminated successfully'\n",
      "    nfev: 653\n",
      "     nit: 6\n",
      "    njev: 6\n",
      "  status: 0\n",
      " success: True\n",
      "       x: array([0.   , 0.063, 0.003, 0.   , 0.   , 0.   , 0.   , 0.003, 0.   ,\n",
      "       0.   , 0.   , 0.   , 0.   , 0.006, 0.   , 0.   , 0.   , 0.   ,\n",
      "       0.   , 0.   , 0.   , 0.001, 0.   , 0.   , 0.   , 0.   , 0.   ,\n",
      "       0.001, 0.   , 0.   , 0.   , 0.   , 0.   , 0.   , 0.   , 0.001,\n",
      "       0.   , 0.   , 0.04 , 0.   , 0.068, 0.063, 0.002, 0.   , 0.   ,\n",
      "       0.025, 0.   , 0.022, 0.   , 0.014, 0.105, 0.   , 0.   , 0.   ,\n",
      "       0.011, 0.007, 0.007, 0.   , 0.   , 0.006, 0.   , 0.   , 0.   ,\n",
      "       0.   , 0.   , 0.   , 0.007, 0.018, 0.   , 0.   , 0.   , 0.021,\n",
      "       0.   , 0.05 , 0.   , 0.001, 0.   , 0.   , 0.   , 0.001, 0.009,\n",
      "       0.   , 0.   , 0.012, 0.   , 0.   , 0.   , 0.003, 0.063, 0.115,\n",
      "       0.   , 0.001, 0.039, 0.   , 0.003, 0.   , 0.01 , 0.   , 0.   ,\n",
      "       0.064, 0.049, 0.   , 0.   , 0.002, 0.004, 0.083, 0.   ])\n",
      "     fun: 0.17471053324305383\n",
      "     jac: array([0.419, 0.358, 0.382, 0.451, 0.535, 0.48 , 0.46 , 0.405, 0.424,\n",
      "       0.461, 0.58 , 0.438, 0.521, 0.378, 0.564, 0.519, 0.643, 0.65 ,\n",
      "       0.572, 0.432, 0.385, 0.394, 0.55 , 0.418, 0.544, 0.376, 0.428,\n",
      "       0.379, 0.44 , 0.57 , 0.437, 0.521, 0.448, 0.387, 0.385, 0.378,\n",
      "       0.551, 0.457, 0.38 , 0.492, 0.379, 0.362, 0.389, 0.584, 0.478,\n",
      "       0.355, 0.45 , 0.354, 0.401, 0.388, 0.357, 0.496, 0.586, 0.404,\n",
      "       0.36 , 0.372, 0.383, 0.393, 0.591, 0.371, 0.426, 0.567, 0.419,\n",
      "       0.413, 0.494, 0.492, 0.409, 0.405, 0.373, 0.441, 0.461, 0.358,\n",
      "       0.438, 0.359, 0.624, 0.388, 0.592, 0.442, 0.519, 0.382, 0.377,\n",
      "       0.518, 0.411, 0.363, 0.4  , 0.594, 0.378, 0.395, 0.362, 0.342,\n",
      "       0.517, 0.37 , 0.379, 0.437, 0.366, 0.583, 0.378, 0.425, 0.49 ,\n",
      "       0.358, 0.345, 0.437, 0.545, 0.367, 0.374, 0.358, 0.431])\n",
      " message: 'Optimization terminated successfully'\n",
      "    nfev: 653\n",
      "     nit: 6\n",
      "    njev: 6\n",
      "  status: 0\n",
      " success: True\n",
      "       x: array([0.   , 0.063, 0.003, 0.   , 0.   , 0.   , 0.   , 0.004, 0.   ,\n",
      "       0.   , 0.   , 0.   , 0.   , 0.007, 0.   , 0.   , 0.   , 0.   ,\n",
      "       0.   , 0.   , 0.   , 0.001, 0.   , 0.   , 0.   , 0.   , 0.   ,\n",
      "       0.001, 0.   , 0.   , 0.   , 0.   , 0.   , 0.   , 0.   , 0.002,\n",
      "       0.   , 0.   , 0.042, 0.   , 0.066, 0.062, 0.001, 0.   , 0.   ,\n",
      "       0.026, 0.   , 0.023, 0.   , 0.013, 0.105, 0.   , 0.   , 0.   ,\n",
      "       0.011, 0.007, 0.006, 0.   , 0.   , 0.006, 0.   , 0.   , 0.   ,\n",
      "       0.   , 0.   , 0.   , 0.005, 0.017, 0.   , 0.   , 0.   , 0.02 ,\n",
      "       0.   , 0.05 , 0.   , 0.001, 0.   , 0.   , 0.   , 0.   , 0.008,\n",
      "       0.   , 0.   , 0.011, 0.   , 0.   , 0.   , 0.003, 0.064, 0.115,\n",
      "       0.   , 0.001, 0.039, 0.   , 0.004, 0.   , 0.012, 0.   , 0.   ,\n",
      "       0.066, 0.049, 0.   , 0.   , 0.002, 0.004, 0.083, 0.   ])\n",
      "     fun: 0.17999675698550766\n",
      "     jac: array([0.419, 0.374, 0.379, 0.452, 0.539, 0.485, 0.458, 0.388, 0.435,\n",
      "       0.462, 0.573, 0.433, 0.517, 0.367, 0.567, 0.506, 0.647, 0.635,\n",
      "       0.56 , 0.424, 0.389, 0.393, 0.548, 0.419, 0.554, 0.384, 0.433,\n",
      "       0.385, 0.449, 0.571, 0.439, 0.517, 0.487, 0.387, 0.386, 0.378,\n",
      "       0.551, 0.468, 0.366, 0.496, 0.364, 0.372, 0.373, 0.584, 0.467,\n",
      "       0.367, 0.45 , 0.365, 0.401, 0.377, 0.375, 0.507, 0.58 , 0.4  ,\n",
      "       0.368, 0.364, 0.38 , 0.403, 0.587, 0.381, 0.426, 0.572, 0.419,\n",
      "       0.416, 0.491, 0.49 , 0.388, 0.369, 0.379, 0.44 , 0.462, 0.371,\n",
      "       0.446, 0.368, 0.623, 0.391, 0.585, 0.448, 0.521, 0.378, 0.371,\n",
      "       0.525, 0.409, 0.372, 0.393, 0.597, 0.37 , 0.388, 0.379, 0.359,\n",
      "       0.517, 0.375, 0.375, 0.432, 0.37 , 0.57 , 0.376, 0.428, 0.483,\n",
      "       0.366, 0.384, 0.447, 0.549, 0.367, 0.38 , 0.367, 0.436])\n",
      " message: 'Optimization terminated successfully'\n",
      "    nfev: 760\n",
      "     nit: 7\n",
      "    njev: 7\n",
      "  status: 0\n",
      " success: True\n",
      "       x: array([0.   , 0.062, 0.003, 0.   , 0.   , 0.   , 0.   , 0.004, 0.   ,\n",
      "       0.   , 0.   , 0.   , 0.   , 0.008, 0.   , 0.   , 0.   , 0.   ,\n",
      "       0.   , 0.   , 0.001, 0.   , 0.   , 0.   , 0.   , 0.   , 0.   ,\n",
      "       0.001, 0.   , 0.   , 0.   , 0.   , 0.   , 0.   , 0.   , 0.003,\n",
      "       0.   , 0.   , 0.043, 0.   , 0.064, 0.062, 0.001, 0.   , 0.   ,\n",
      "       0.026, 0.   , 0.023, 0.   , 0.013, 0.106, 0.   , 0.   , 0.   ,\n",
      "       0.01 , 0.007, 0.005, 0.   , 0.   , 0.007, 0.   , 0.   , 0.   ,\n",
      "       0.   , 0.   , 0.   , 0.004, 0.016, 0.   , 0.   , 0.   , 0.02 ,\n",
      "       0.   , 0.05 , 0.   , 0.001, 0.   , 0.   , 0.   , 0.   , 0.006,\n",
      "       0.   , 0.   , 0.01 , 0.   , 0.   , 0.   , 0.004, 0.064, 0.115,\n",
      "       0.   , 0.001, 0.038, 0.   , 0.004, 0.   , 0.013, 0.   , 0.   ,\n",
      "       0.068, 0.049, 0.   , 0.   , 0.001, 0.004, 0.083, 0.   ])\n",
      "     fun: 0.18473294699054166\n",
      "     jac: array([0.428, 0.384, 0.388, 0.461, 0.553, 0.495, 0.468, 0.397, 0.445,\n",
      "       0.469, 0.584, 0.445, 0.528, 0.375, 0.582, 0.514, 0.661, 0.649,\n",
      "       0.574, 0.436, 0.395, 0.404, 0.561, 0.427, 0.569, 0.394, 0.446,\n",
      "       0.393, 0.46 , 0.585, 0.449, 0.526, 0.5  , 0.399, 0.392, 0.383,\n",
      "       0.563, 0.478, 0.375, 0.507, 0.374, 0.382, 0.382, 0.597, 0.476,\n",
      "       0.376, 0.462, 0.375, 0.411, 0.385, 0.384, 0.516, 0.593, 0.409,\n",
      "       0.377, 0.372, 0.382, 0.412, 0.6  , 0.388, 0.438, 0.583, 0.429,\n",
      "       0.428, 0.502, 0.502, 0.401, 0.377, 0.389, 0.45 , 0.478, 0.38 ,\n",
      "       0.452, 0.377, 0.638, 0.401, 0.598, 0.457, 0.533, 0.389, 0.378,\n",
      "       0.537, 0.421, 0.381, 0.399, 0.611, 0.38 , 0.398, 0.388, 0.368,\n",
      "       0.528, 0.384, 0.384, 0.442, 0.379, 0.581, 0.386, 0.44 , 0.491,\n",
      "       0.375, 0.396, 0.459, 0.559, 0.376, 0.39 , 0.376, 0.448])\n",
      " message: 'Optimization terminated successfully'\n",
      "    nfev: 761\n",
      "     nit: 7\n",
      "    njev: 7\n",
      "  status: 0\n",
      " success: True\n",
      "       x: array([0.   , 0.056, 0.   , 0.   , 0.   , 0.   , 0.   , 0.   , 0.   ,\n",
      "       0.   , 0.   , 0.   , 0.   , 0.01 , 0.   , 0.   , 0.   , 0.   ,\n",
      "       0.   , 0.   , 0.   , 0.   , 0.   , 0.   , 0.   , 0.   , 0.   ,\n",
      "       0.   , 0.   , 0.   , 0.   , 0.   , 0.   , 0.   , 0.   , 0.006,\n",
      "       0.   , 0.   , 0.045, 0.   , 0.066, 0.06 , 0.   , 0.   , 0.   ,\n",
      "       0.031, 0.   , 0.03 , 0.   , 0.007, 0.103, 0.   , 0.   , 0.   ,\n",
      "       0.015, 0.01 , 0.005, 0.   , 0.   , 0.005, 0.   , 0.   , 0.   ,\n",
      "       0.   , 0.   , 0.   , 0.   , 0.019, 0.   , 0.   , 0.   , 0.021,\n",
      "       0.   , 0.052, 0.   , 0.   , 0.   , 0.   , 0.   , 0.   , 0.006,\n",
      "       0.   , 0.   , 0.008, 0.   , 0.   , 0.002, 0.   , 0.056, 0.131,\n",
      "       0.   , 0.   , 0.031, 0.   , 0.003, 0.   , 0.016, 0.   , 0.   ,\n",
      "       0.076, 0.037, 0.   , 0.   , 0.007, 0.   , 0.089, 0.   ])\n",
      "     fun: 0.19013547213047327\n",
      "     jac: array([0.436, 0.394, 0.397, 0.469, 0.565, 0.504, 0.477, 0.406, 0.454,\n",
      "       0.475, 0.594, 0.457, 0.54 , 0.384, 0.597, 0.524, 0.676, 0.664,\n",
      "       0.59 , 0.447, 0.401, 0.416, 0.576, 0.434, 0.586, 0.403, 0.459,\n",
      "       0.402, 0.471, 0.599, 0.459, 0.534, 0.512, 0.412, 0.394, 0.386,\n",
      "       0.576, 0.487, 0.386, 0.518, 0.385, 0.392, 0.391, 0.608, 0.485,\n",
      "       0.384, 0.475, 0.384, 0.422, 0.393, 0.394, 0.525, 0.607, 0.419,\n",
      "       0.385, 0.381, 0.379, 0.422, 0.613, 0.394, 0.451, 0.594, 0.438,\n",
      "       0.44 , 0.514, 0.514, 0.414, 0.385, 0.399, 0.461, 0.493, 0.389,\n",
      "       0.458, 0.385, 0.654, 0.41 , 0.613, 0.467, 0.545, 0.401, 0.386,\n",
      "       0.549, 0.434, 0.391, 0.405, 0.624, 0.389, 0.409, 0.397, 0.377,\n",
      "       0.539, 0.394, 0.395, 0.451, 0.388, 0.592, 0.398, 0.453, 0.499,\n",
      "       0.383, 0.407, 0.472, 0.57 , 0.385, 0.401, 0.385, 0.461])\n",
      " message: 'Optimization terminated successfully'\n",
      "    nfev: 761\n",
      "     nit: 7\n",
      "    njev: 7\n",
      "  status: 0\n",
      " success: True\n",
      "       x: array([0.   , 0.056, 0.   , 0.   , 0.   , 0.   , 0.   , 0.   , 0.   ,\n",
      "       0.   , 0.   , 0.   , 0.   , 0.01 , 0.   , 0.   , 0.   , 0.   ,\n",
      "       0.   , 0.   , 0.   , 0.   , 0.   , 0.   , 0.   , 0.   , 0.   ,\n",
      "       0.   , 0.   , 0.   , 0.   , 0.   , 0.   , 0.   , 0.   , 0.01 ,\n",
      "       0.   , 0.   , 0.046, 0.   , 0.062, 0.058, 0.   , 0.   , 0.   ,\n",
      "       0.033, 0.   , 0.031, 0.   , 0.007, 0.103, 0.   , 0.   , 0.   ,\n",
      "       0.015, 0.01 , 0.008, 0.   , 0.   , 0.006, 0.   , 0.   , 0.   ,\n",
      "       0.   , 0.   , 0.   , 0.   , 0.018, 0.   , 0.   , 0.   , 0.021,\n",
      "       0.   , 0.052, 0.   , 0.   , 0.   , 0.   , 0.   , 0.   , 0.004,\n",
      "       0.   , 0.   , 0.007, 0.   , 0.   , 0.   , 0.   , 0.056, 0.132,\n",
      "       0.   , 0.   , 0.03 , 0.   , 0.003, 0.   , 0.013, 0.   , 0.   ,\n",
      "       0.078, 0.037, 0.   , 0.   , 0.006, 0.   , 0.089, 0.   ])\n",
      "     fun: 0.1951443015692349\n",
      "     jac: array([0.446, 0.404, 0.407, 0.479, 0.581, 0.514, 0.488, 0.416, 0.465,\n",
      "       0.485, 0.606, 0.47 , 0.552, 0.393, 0.613, 0.533, 0.691, 0.679,\n",
      "       0.604, 0.459, 0.408, 0.426, 0.589, 0.446, 0.6  , 0.414, 0.473,\n",
      "       0.411, 0.481, 0.612, 0.469, 0.544, 0.524, 0.426, 0.402, 0.393,\n",
      "       0.59 , 0.499, 0.396, 0.529, 0.395, 0.403, 0.403, 0.622, 0.497,\n",
      "       0.394, 0.488, 0.393, 0.433, 0.402, 0.404, 0.537, 0.621, 0.429,\n",
      "       0.394, 0.391, 0.393, 0.432, 0.626, 0.403, 0.464, 0.607, 0.449,\n",
      "       0.452, 0.526, 0.528, 0.427, 0.394, 0.41 , 0.472, 0.509, 0.398,\n",
      "       0.464, 0.394, 0.669, 0.42 , 0.627, 0.477, 0.558, 0.413, 0.394,\n",
      "       0.561, 0.446, 0.4  , 0.412, 0.639, 0.4  , 0.42 , 0.406, 0.386,\n",
      "       0.551, 0.404, 0.404, 0.46 , 0.397, 0.606, 0.408, 0.465, 0.509,\n",
      "       0.392, 0.418, 0.484, 0.582, 0.395, 0.413, 0.394, 0.473])\n",
      " message: 'Optimization terminated successfully'\n",
      "    nfev: 761\n",
      "     nit: 7\n",
      "    njev: 7\n",
      "  status: 0\n",
      " success: True\n",
      "       x: array([0.   , 0.055, 0.   , 0.   , 0.   , 0.   , 0.   , 0.   , 0.   ,\n",
      "       0.   , 0.   , 0.   , 0.   , 0.011, 0.   , 0.   , 0.   , 0.   ,\n",
      "       0.   , 0.   , 0.   , 0.   , 0.   , 0.   , 0.   , 0.   , 0.   ,\n",
      "       0.   , 0.   , 0.   , 0.   , 0.   , 0.   , 0.   , 0.   , 0.012,\n",
      "       0.   , 0.   , 0.047, 0.   , 0.061, 0.058, 0.   , 0.   , 0.   ,\n",
      "       0.033, 0.   , 0.032, 0.   , 0.006, 0.103, 0.   , 0.   , 0.   ,\n",
      "       0.015, 0.01 , 0.004, 0.   , 0.   , 0.006, 0.   , 0.   , 0.   ,\n",
      "       0.   , 0.   , 0.   , 0.   , 0.017, 0.   , 0.   , 0.   , 0.022,\n",
      "       0.   , 0.052, 0.   , 0.   , 0.   , 0.   , 0.   , 0.   , 0.004,\n",
      "       0.   , 0.   , 0.007, 0.   , 0.   , 0.   , 0.   , 0.055, 0.133,\n",
      "       0.   , 0.   , 0.03 , 0.   , 0.003, 0.   , 0.015, 0.   , 0.   ,\n",
      "       0.079, 0.036, 0.   , 0.   , 0.006, 0.   , 0.09 , 0.   ])\n",
      "     fun: 0.20018035845563556\n",
      "     jac: array([0.457, 0.415, 0.417, 0.49 , 0.596, 0.524, 0.5  , 0.427, 0.475,\n",
      "       0.496, 0.618, 0.484, 0.564, 0.401, 0.628, 0.542, 0.706, 0.693,\n",
      "       0.617, 0.472, 0.414, 0.436, 0.603, 0.457, 0.614, 0.424, 0.488,\n",
      "       0.42 , 0.491, 0.624, 0.479, 0.554, 0.537, 0.44 , 0.41 , 0.401,\n",
      "       0.603, 0.51 , 0.405, 0.541, 0.404, 0.413, 0.415, 0.637, 0.508,\n",
      "       0.404, 0.5  , 0.402, 0.444, 0.411, 0.414, 0.548, 0.635, 0.439,\n",
      "       0.404, 0.4  , 0.407, 0.442, 0.638, 0.412, 0.477, 0.619, 0.461,\n",
      "       0.464, 0.538, 0.541, 0.44 , 0.405, 0.42 , 0.483, 0.525, 0.408,\n",
      "       0.471, 0.404, 0.685, 0.43 , 0.64 , 0.486, 0.57 , 0.426, 0.404,\n",
      "       0.574, 0.457, 0.408, 0.419, 0.653, 0.41 , 0.431, 0.416, 0.394,\n",
      "       0.562, 0.413, 0.413, 0.469, 0.407, 0.619, 0.417, 0.477, 0.518,\n",
      "       0.402, 0.429, 0.497, 0.594, 0.405, 0.425, 0.404, 0.484])\n",
      " message: 'Optimization terminated successfully'\n",
      "    nfev: 761\n",
      "     nit: 7\n",
      "    njev: 7\n",
      "  status: 0\n",
      " success: True\n",
      "       x: array([0.   , 0.055, 0.   , 0.   , 0.   , 0.   , 0.   , 0.   , 0.   ,\n",
      "       0.   , 0.   , 0.   , 0.   , 0.012, 0.   , 0.   , 0.   , 0.   ,\n",
      "       0.   , 0.   , 0.   , 0.   , 0.   , 0.   , 0.   , 0.   , 0.   ,\n",
      "       0.   , 0.   , 0.   , 0.   , 0.   , 0.   , 0.   , 0.001, 0.013,\n",
      "       0.   , 0.   , 0.048, 0.   , 0.06 , 0.057, 0.   , 0.   , 0.   ,\n",
      "       0.034, 0.   , 0.033, 0.   , 0.004, 0.103, 0.   , 0.   , 0.   ,\n",
      "       0.015, 0.01 , 0.   , 0.   , 0.   , 0.006, 0.   , 0.   , 0.   ,\n",
      "       0.   , 0.   , 0.   , 0.   , 0.017, 0.   , 0.   , 0.   , 0.022,\n",
      "       0.   , 0.051, 0.   , 0.   , 0.   , 0.   , 0.   , 0.   , 0.003,\n",
      "       0.   , 0.   , 0.007, 0.   , 0.   , 0.   , 0.   , 0.054, 0.133,\n",
      "       0.   , 0.   , 0.03 , 0.   , 0.003, 0.   , 0.016, 0.   , 0.   ,\n",
      "       0.081, 0.035, 0.   , 0.   , 0.006, 0.   , 0.09 , 0.   ])\n",
      "     fun: 0.20522677195645045\n",
      "     jac: array([0.467, 0.425, 0.426, 0.499, 0.611, 0.535, 0.511, 0.436, 0.487,\n",
      "       0.508, 0.629, 0.497, 0.576, 0.41 , 0.643, 0.55 , 0.719, 0.706,\n",
      "       0.629, 0.484, 0.421, 0.445, 0.616, 0.468, 0.628, 0.435, 0.502,\n",
      "       0.429, 0.501, 0.636, 0.488, 0.564, 0.549, 0.453, 0.419, 0.41 ,\n",
      "       0.615, 0.521, 0.415, 0.552, 0.413, 0.423, 0.427, 0.652, 0.519,\n",
      "       0.414, 0.512, 0.412, 0.455, 0.424, 0.424, 0.56 , 0.648, 0.449,\n",
      "       0.413, 0.409, 0.422, 0.452, 0.65 , 0.421, 0.489, 0.631, 0.472,\n",
      "       0.476, 0.55 , 0.553, 0.452, 0.416, 0.431, 0.494, 0.541, 0.417,\n",
      "       0.477, 0.413, 0.7  , 0.439, 0.653, 0.496, 0.581, 0.438, 0.413,\n",
      "       0.586, 0.468, 0.415, 0.425, 0.668, 0.421, 0.441, 0.425, 0.403,\n",
      "       0.573, 0.423, 0.421, 0.478, 0.416, 0.632, 0.426, 0.488, 0.527,\n",
      "       0.41 , 0.44 , 0.509, 0.605, 0.414, 0.436, 0.413, 0.496])\n",
      " message: 'Optimization terminated successfully'\n",
      "    nfev: 761\n",
      "     nit: 7\n",
      "    njev: 7\n",
      "  status: 0\n",
      " success: True\n",
      "       x: array([0.   , 0.055, 0.   , 0.   , 0.   , 0.   , 0.   , 0.   , 0.   ,\n",
      "       0.   , 0.   , 0.   , 0.   , 0.014, 0.   , 0.   , 0.   , 0.   ,\n",
      "       0.   , 0.   , 0.   , 0.   , 0.   , 0.   , 0.   , 0.   , 0.   ,\n",
      "       0.   , 0.   , 0.   , 0.   , 0.   , 0.   , 0.   , 0.   , 0.013,\n",
      "       0.   , 0.   , 0.049, 0.   , 0.059, 0.057, 0.   , 0.   , 0.   ,\n",
      "       0.035, 0.   , 0.034, 0.   , 0.002, 0.103, 0.   , 0.   , 0.   ,\n",
      "       0.014, 0.01 , 0.   , 0.   , 0.   , 0.005, 0.   , 0.   , 0.   ,\n",
      "       0.   , 0.   , 0.   , 0.   , 0.017, 0.   , 0.   , 0.   , 0.022,\n",
      "       0.   , 0.051, 0.   , 0.   , 0.   , 0.   , 0.   , 0.   , 0.002,\n",
      "       0.   , 0.   , 0.009, 0.   , 0.   , 0.   , 0.   , 0.053, 0.135,\n",
      "       0.   , 0.   , 0.03 , 0.   , 0.003, 0.   , 0.017, 0.   , 0.   ,\n",
      "       0.083, 0.034, 0.   , 0.   , 0.006, 0.   , 0.09 , 0.   ])\n",
      "     fun: 0.2102822573487935\n",
      "     jac: array([0.478, 0.435, 0.435, 0.509, 0.626, 0.545, 0.522, 0.445, 0.498,\n",
      "       0.519, 0.64 , 0.51 , 0.587, 0.418, 0.659, 0.558, 0.733, 0.719,\n",
      "       0.641, 0.497, 0.428, 0.454, 0.63 , 0.48 , 0.642, 0.445, 0.516,\n",
      "       0.439, 0.51 , 0.647, 0.497, 0.573, 0.561, 0.467, 0.427, 0.418,\n",
      "       0.627, 0.533, 0.424, 0.563, 0.422, 0.433, 0.437, 0.666, 0.53 ,\n",
      "       0.424, 0.524, 0.421, 0.465, 0.436, 0.434, 0.571, 0.661, 0.459,\n",
      "       0.423, 0.419, 0.436, 0.463, 0.662, 0.429, 0.501, 0.643, 0.483,\n",
      "       0.488, 0.561, 0.566, 0.464, 0.426, 0.441, 0.505, 0.556, 0.427,\n",
      "       0.483, 0.423, 0.715, 0.448, 0.665, 0.506, 0.592, 0.45 , 0.423,\n",
      "       0.598, 0.479, 0.421, 0.432, 0.682, 0.431, 0.451, 0.434, 0.412,\n",
      "       0.583, 0.433, 0.429, 0.487, 0.425, 0.644, 0.435, 0.5  , 0.535,\n",
      "       0.419, 0.45 , 0.522, 0.617, 0.424, 0.447, 0.423, 0.507])\n",
      " message: 'Optimization terminated successfully'\n",
      "    nfev: 761\n",
      "     nit: 7\n",
      "    njev: 7\n",
      "  status: 0\n",
      " success: True\n",
      "       x: array([0.   , 0.055, 0.   , 0.   , 0.   , 0.   , 0.   , 0.   , 0.   ,\n",
      "       0.   , 0.   , 0.   , 0.   , 0.014, 0.   , 0.   , 0.   , 0.   ,\n",
      "       0.   , 0.   , 0.002, 0.   , 0.   , 0.   , 0.   , 0.   , 0.   ,\n",
      "       0.   , 0.   , 0.   , 0.   , 0.   , 0.   , 0.   , 0.001, 0.012,\n",
      "       0.   , 0.   , 0.05 , 0.   , 0.058, 0.056, 0.   , 0.   , 0.   ,\n",
      "       0.035, 0.   , 0.035, 0.   , 0.001, 0.102, 0.   , 0.   , 0.   ,\n",
      "       0.014, 0.009, 0.   , 0.   , 0.   , 0.004, 0.   , 0.   , 0.   ,\n",
      "       0.   , 0.   , 0.   , 0.   , 0.016, 0.   , 0.   , 0.   , 0.022,\n",
      "       0.   , 0.05 , 0.   , 0.   , 0.   , 0.   , 0.   , 0.   , 0.001,\n",
      "       0.   , 0.   , 0.011, 0.   , 0.   , 0.   , 0.   , 0.051, 0.136,\n",
      "       0.   , 0.   , 0.03 , 0.   , 0.003, 0.   , 0.018, 0.   , 0.   ,\n",
      "       0.084, 0.034, 0.   , 0.   , 0.005, 0.   , 0.09 , 0.   ])\n",
      "     fun: 0.2153031517473883\n",
      "     jac: array([0.488, 0.445, 0.445, 0.519, 0.64 , 0.555, 0.532, 0.452, 0.509,\n",
      "       0.529, 0.651, 0.523, 0.598, 0.427, 0.674, 0.567, 0.747, 0.732,\n",
      "       0.653, 0.509, 0.434, 0.463, 0.643, 0.491, 0.655, 0.456, 0.53 ,\n",
      "       0.448, 0.52 , 0.659, 0.506, 0.582, 0.573, 0.481, 0.435, 0.425,\n",
      "       0.639, 0.544, 0.433, 0.574, 0.431, 0.443, 0.447, 0.679, 0.542,\n",
      "       0.433, 0.536, 0.431, 0.476, 0.448, 0.445, 0.582, 0.674, 0.469,\n",
      "       0.433, 0.428, 0.45 , 0.473, 0.673, 0.437, 0.513, 0.655, 0.494,\n",
      "       0.5  , 0.573, 0.578, 0.475, 0.437, 0.451, 0.516, 0.57 , 0.437,\n",
      "       0.489, 0.433, 0.73 , 0.458, 0.677, 0.515, 0.604, 0.463, 0.433,\n",
      "       0.611, 0.49 , 0.427, 0.439, 0.696, 0.441, 0.46 , 0.443, 0.421,\n",
      "       0.594, 0.443, 0.438, 0.496, 0.433, 0.655, 0.445, 0.511, 0.544,\n",
      "       0.429, 0.46 , 0.534, 0.628, 0.433, 0.459, 0.432, 0.518])\n",
      " message: 'Optimization terminated successfully'\n",
      "    nfev: 761\n",
      "     nit: 7\n",
      "    njev: 7\n",
      "  status: 0\n",
      " success: True\n",
      "       x: array([0.   , 0.055, 0.   , 0.   , 0.   , 0.   , 0.   , 0.   , 0.   ,\n",
      "       0.   , 0.   , 0.   , 0.   , 0.015, 0.   , 0.   , 0.   , 0.   ,\n",
      "       0.   , 0.   , 0.004, 0.   , 0.   , 0.   , 0.   , 0.   , 0.   ,\n",
      "       0.   , 0.   , 0.   , 0.   , 0.   , 0.   , 0.   , 0.   , 0.011,\n",
      "       0.   , 0.   , 0.051, 0.   , 0.056, 0.056, 0.   , 0.   , 0.   ,\n",
      "       0.036, 0.   , 0.036, 0.   , 0.   , 0.102, 0.   , 0.   , 0.   ,\n",
      "       0.014, 0.007, 0.   , 0.   , 0.   , 0.004, 0.   , 0.   , 0.   ,\n",
      "       0.   , 0.   , 0.   , 0.   , 0.016, 0.   , 0.   , 0.   , 0.022,\n",
      "       0.   , 0.049, 0.   , 0.   , 0.   , 0.   , 0.   , 0.   , 0.   ,\n",
      "       0.   , 0.   , 0.013, 0.   , 0.   , 0.   , 0.   , 0.049, 0.138,\n",
      "       0.   , 0.   , 0.03 , 0.   , 0.003, 0.   , 0.018, 0.   , 0.   ,\n",
      "       0.085, 0.033, 0.   , 0.   , 0.005, 0.   , 0.09 , 0.   ])\n",
      "     fun: 0.22030907514790385\n",
      "     jac: array([0.499, 0.455, 0.454, 0.528, 0.654, 0.565, 0.542, 0.459, 0.52 ,\n",
      "       0.54 , 0.662, 0.536, 0.609, 0.435, 0.689, 0.576, 0.761, 0.745,\n",
      "       0.665, 0.522, 0.441, 0.472, 0.657, 0.502, 0.669, 0.467, 0.544,\n",
      "       0.457, 0.529, 0.67 , 0.515, 0.591, 0.585, 0.494, 0.443, 0.434,\n",
      "       0.651, 0.555, 0.443, 0.585, 0.441, 0.452, 0.456, 0.693, 0.553,\n",
      "       0.443, 0.548, 0.441, 0.486, 0.459, 0.455, 0.594, 0.687, 0.479,\n",
      "       0.443, 0.437, 0.464, 0.483, 0.685, 0.444, 0.525, 0.667, 0.504,\n",
      "       0.512, 0.585, 0.589, 0.485, 0.446, 0.461, 0.526, 0.585, 0.447,\n",
      "       0.494, 0.442, 0.744, 0.467, 0.688, 0.524, 0.615, 0.475, 0.443,\n",
      "       0.623, 0.501, 0.434, 0.446, 0.71 , 0.451, 0.469, 0.452, 0.43 ,\n",
      "       0.604, 0.453, 0.446, 0.504, 0.442, 0.666, 0.454, 0.522, 0.552,\n",
      "       0.438, 0.47 , 0.547, 0.639, 0.443, 0.469, 0.442, 0.529])\n",
      " message: 'Optimization terminated successfully'\n",
      "    nfev: 761\n",
      "     nit: 7\n",
      "    njev: 7\n",
      "  status: 0\n",
      " success: True\n",
      "       x: array([0.   , 0.055, 0.   , 0.   , 0.   , 0.   , 0.   , 0.   , 0.   ,\n",
      "       0.   , 0.   , 0.   , 0.   , 0.015, 0.   , 0.   , 0.   , 0.   ,\n",
      "       0.   , 0.   , 0.007, 0.   , 0.   , 0.   , 0.   , 0.   , 0.   ,\n",
      "       0.   , 0.   , 0.   , 0.   , 0.   , 0.   , 0.   , 0.   , 0.011,\n",
      "       0.   , 0.   , 0.051, 0.   , 0.055, 0.055, 0.   , 0.   , 0.   ,\n",
      "       0.037, 0.   , 0.037, 0.   , 0.   , 0.102, 0.   , 0.   , 0.   ,\n",
      "       0.014, 0.006, 0.   , 0.   , 0.   , 0.004, 0.   , 0.   , 0.   ,\n",
      "       0.   , 0.   , 0.   , 0.   , 0.015, 0.   , 0.   , 0.   , 0.022,\n",
      "       0.   , 0.048, 0.   , 0.   , 0.   , 0.   , 0.   , 0.   , 0.   ,\n",
      "       0.   , 0.   , 0.015, 0.   , 0.   , 0.   , 0.   , 0.048, 0.14 ,\n",
      "       0.   , 0.   , 0.03 , 0.   , 0.003, 0.   , 0.019, 0.   , 0.   ,\n",
      "       0.087, 0.033, 0.   , 0.   , 0.004, 0.   , 0.09 , 0.   ])\n",
      "     fun: 0.2252774609284076\n",
      "     jac: array([0.509, 0.465, 0.464, 0.538, 0.669, 0.575, 0.553, 0.466, 0.531,\n",
      "       0.551, 0.674, 0.549, 0.62 , 0.444, 0.704, 0.585, 0.775, 0.759,\n",
      "       0.678, 0.534, 0.448, 0.481, 0.67 , 0.513, 0.683, 0.477, 0.558,\n",
      "       0.466, 0.539, 0.682, 0.524, 0.6  , 0.596, 0.508, 0.452, 0.443,\n",
      "       0.664, 0.566, 0.452, 0.596, 0.45 , 0.462, 0.466, 0.707, 0.564,\n",
      "       0.453, 0.561, 0.451, 0.497, 0.469, 0.465, 0.605, 0.7  , 0.489,\n",
      "       0.453, 0.447, 0.478, 0.493, 0.697, 0.452, 0.538, 0.68 , 0.514,\n",
      "       0.524, 0.597, 0.601, 0.496, 0.456, 0.472, 0.537, 0.6  , 0.456,\n",
      "       0.5  , 0.452, 0.76 , 0.477, 0.7  , 0.533, 0.627, 0.488, 0.454,\n",
      "       0.636, 0.512, 0.443, 0.453, 0.724, 0.461, 0.479, 0.461, 0.438,\n",
      "       0.615, 0.463, 0.455, 0.513, 0.45 , 0.677, 0.463, 0.534, 0.56 ,\n",
      "       0.447, 0.479, 0.56 , 0.651, 0.453, 0.48 , 0.451, 0.54 ])\n",
      " message: 'Optimization terminated successfully'\n",
      "    nfev: 761\n",
      "     nit: 7\n",
      "    njev: 7\n",
      "  status: 0\n",
      " success: True\n",
      "       x: array([0.   , 0.055, 0.   , 0.   , 0.   , 0.   , 0.   , 0.   , 0.   ,\n",
      "       0.   , 0.   , 0.   , 0.   , 0.016, 0.   , 0.   , 0.   , 0.   ,\n",
      "       0.   , 0.   , 0.009, 0.   , 0.   , 0.   , 0.   , 0.   , 0.   ,\n",
      "       0.   , 0.   , 0.   , 0.   , 0.   , 0.   , 0.   , 0.   , 0.009,\n",
      "       0.   , 0.   , 0.052, 0.   , 0.053, 0.055, 0.   , 0.   , 0.   ,\n",
      "       0.037, 0.   , 0.038, 0.   , 0.   , 0.102, 0.   , 0.   , 0.   ,\n",
      "       0.014, 0.005, 0.   , 0.   , 0.   , 0.004, 0.   , 0.   , 0.   ,\n",
      "       0.   , 0.   , 0.   , 0.   , 0.014, 0.   , 0.   , 0.   , 0.021,\n",
      "       0.   , 0.047, 0.   , 0.   , 0.   , 0.   , 0.   , 0.   , 0.   ,\n",
      "       0.   , 0.   , 0.015, 0.   , 0.   , 0.   , 0.   , 0.047, 0.141,\n",
      "       0.   , 0.   , 0.03 , 0.   , 0.004, 0.   , 0.02 , 0.   , 0.   ,\n",
      "       0.088, 0.032, 0.   , 0.   , 0.003, 0.   , 0.09 , 0.   ])\n",
      "     fun: 0.2302013811328011\n",
      "     jac: array([0.52 , 0.475, 0.474, 0.548, 0.684, 0.585, 0.562, 0.473, 0.542,\n",
      "       0.562, 0.684, 0.561, 0.631, 0.451, 0.719, 0.595, 0.789, 0.773,\n",
      "       0.689, 0.547, 0.458, 0.49 , 0.683, 0.524, 0.696, 0.488, 0.572,\n",
      "       0.475, 0.549, 0.693, 0.534, 0.609, 0.607, 0.522, 0.461, 0.452,\n",
      "       0.676, 0.578, 0.462, 0.608, 0.46 , 0.471, 0.476, 0.721, 0.575,\n",
      "       0.463, 0.573, 0.461, 0.508, 0.478, 0.474, 0.617, 0.714, 0.499,\n",
      "       0.462, 0.457, 0.493, 0.502, 0.709, 0.461, 0.549, 0.692, 0.526,\n",
      "       0.535, 0.61 , 0.613, 0.506, 0.462, 0.482, 0.547, 0.616, 0.466,\n",
      "       0.507, 0.462, 0.775, 0.486, 0.711, 0.541, 0.639, 0.5  , 0.463,\n",
      "       0.649, 0.522, 0.452, 0.461, 0.738, 0.47 , 0.487, 0.471, 0.447,\n",
      "       0.626, 0.472, 0.463, 0.522, 0.458, 0.689, 0.472, 0.545, 0.569,\n",
      "       0.457, 0.489, 0.573, 0.663, 0.462, 0.49 , 0.461, 0.551])\n",
      " message: 'Optimization terminated successfully'\n",
      "    nfev: 761\n",
      "     nit: 7\n",
      "    njev: 7\n",
      "  status: 0\n",
      " success: True\n",
      "       x: array([0.   , 0.054, 0.   , 0.   , 0.   , 0.   , 0.   , 0.   , 0.   ,\n",
      "       0.   , 0.   , 0.   , 0.   , 0.016, 0.   , 0.   , 0.   , 0.   ,\n",
      "       0.   , 0.   , 0.011, 0.   , 0.   , 0.   , 0.   , 0.   , 0.   ,\n",
      "       0.   , 0.   , 0.   , 0.   , 0.   , 0.   , 0.   , 0.   , 0.008,\n",
      "       0.   , 0.   , 0.052, 0.   , 0.052, 0.055, 0.   , 0.   , 0.   ,\n",
      "       0.038, 0.   , 0.039, 0.   , 0.   , 0.102, 0.   , 0.   , 0.   ,\n",
      "       0.014, 0.004, 0.   , 0.   , 0.   , 0.003, 0.   , 0.   , 0.   ,\n",
      "       0.   , 0.   , 0.   , 0.   , 0.014, 0.   , 0.   , 0.   , 0.022,\n",
      "       0.   , 0.046, 0.   , 0.   , 0.   , 0.   , 0.   , 0.   , 0.   ,\n",
      "       0.   , 0.   , 0.015, 0.001, 0.   , 0.   , 0.   , 0.045, 0.143,\n",
      "       0.   , 0.   , 0.03 , 0.   , 0.004, 0.   , 0.02 , 0.   , 0.   ,\n",
      "       0.089, 0.031, 0.   , 0.   , 0.003, 0.   , 0.09 , 0.   ])\n",
      "     fun: 0.23512148105745323\n",
      "     jac: array([0.53 , 0.485, 0.484, 0.558, 0.699, 0.595, 0.573, 0.48 , 0.553,\n",
      "       0.573, 0.695, 0.573, 0.642, 0.458, 0.733, 0.606, 0.804, 0.787,\n",
      "       0.701, 0.559, 0.468, 0.499, 0.696, 0.536, 0.709, 0.499, 0.586,\n",
      "       0.485, 0.56 , 0.704, 0.544, 0.618, 0.618, 0.535, 0.471, 0.461,\n",
      "       0.689, 0.589, 0.471, 0.619, 0.469, 0.481, 0.486, 0.735, 0.587,\n",
      "       0.474, 0.585, 0.471, 0.518, 0.485, 0.483, 0.629, 0.728, 0.509,\n",
      "       0.472, 0.469, 0.508, 0.512, 0.721, 0.471, 0.561, 0.704, 0.538,\n",
      "       0.546, 0.623, 0.625, 0.518, 0.467, 0.492, 0.558, 0.632, 0.476,\n",
      "       0.514, 0.472, 0.791, 0.496, 0.723, 0.549, 0.65 , 0.513, 0.473,\n",
      "       0.662, 0.533, 0.463, 0.469, 0.753, 0.481, 0.495, 0.48 , 0.457,\n",
      "       0.637, 0.482, 0.471, 0.53 , 0.466, 0.702, 0.481, 0.556, 0.578,\n",
      "       0.467, 0.497, 0.587, 0.676, 0.472, 0.499, 0.47 , 0.562])\n",
      " message: 'Optimization terminated successfully'\n",
      "    nfev: 761\n",
      "     nit: 7\n",
      "    njev: 7\n",
      "  status: 0\n",
      " success: True\n",
      "       x: array([0.   , 0.054, 0.   , 0.   , 0.   , 0.   , 0.   , 0.   , 0.   ,\n",
      "       0.   , 0.   , 0.   , 0.   , 0.017, 0.   , 0.   , 0.   , 0.   ,\n",
      "       0.   , 0.   , 0.012, 0.   , 0.   , 0.   , 0.   , 0.   , 0.   ,\n",
      "       0.   , 0.   , 0.   , 0.   , 0.   , 0.   , 0.   , 0.   , 0.008,\n",
      "       0.   , 0.   , 0.052, 0.   , 0.051, 0.055, 0.   , 0.   , 0.   ,\n",
      "       0.038, 0.   , 0.041, 0.   , 0.   , 0.102, 0.   , 0.   , 0.   ,\n",
      "       0.014, 0.002, 0.   , 0.   , 0.   , 0.001, 0.   , 0.   , 0.   ,\n",
      "       0.   , 0.   , 0.   , 0.   , 0.014, 0.   , 0.   , 0.   , 0.022,\n",
      "       0.   , 0.046, 0.   , 0.   , 0.   , 0.   , 0.   , 0.   , 0.   ,\n",
      "       0.   , 0.   , 0.015, 0.001, 0.   , 0.   , 0.   , 0.043, 0.145,\n",
      "       0.   , 0.   , 0.029, 0.   , 0.005, 0.   , 0.021, 0.   , 0.   ,\n",
      "       0.091, 0.029, 0.   , 0.   , 0.002, 0.   , 0.09 , 0.   ])\n",
      "     fun: 0.24006964760712132\n",
      "     jac: array([0.541, 0.495, 0.495, 0.568, 0.714, 0.605, 0.583, 0.487, 0.564,\n",
      "       0.585, 0.706, 0.586, 0.653, 0.465, 0.748, 0.617, 0.818, 0.801,\n",
      "       0.713, 0.571, 0.478, 0.508, 0.71 , 0.548, 0.722, 0.51 , 0.601,\n",
      "       0.495, 0.57 , 0.715, 0.554, 0.627, 0.628, 0.549, 0.48 , 0.47 ,\n",
      "       0.701, 0.601, 0.48 , 0.63 , 0.479, 0.49 , 0.496, 0.749, 0.599,\n",
      "       0.484, 0.597, 0.481, 0.529, 0.492, 0.492, 0.642, 0.742, 0.519,\n",
      "       0.482, 0.48 , 0.524, 0.521, 0.733, 0.482, 0.573, 0.717, 0.549,\n",
      "       0.558, 0.636, 0.637, 0.532, 0.471, 0.503, 0.568, 0.648, 0.487,\n",
      "       0.521, 0.482, 0.806, 0.505, 0.734, 0.557, 0.662, 0.525, 0.482,\n",
      "       0.675, 0.544, 0.473, 0.477, 0.767, 0.491, 0.503, 0.49 , 0.466,\n",
      "       0.648, 0.491, 0.48 , 0.539, 0.474, 0.714, 0.49 , 0.567, 0.586,\n",
      "       0.477, 0.505, 0.601, 0.689, 0.482, 0.509, 0.481, 0.573])\n",
      " message: 'Optimization terminated successfully'\n",
      "    nfev: 761\n",
      "     nit: 7\n",
      "    njev: 7\n",
      "  status: 0\n",
      " success: True\n",
      "       x: array([0.   , 0.053, 0.   , 0.   , 0.   , 0.   , 0.   , 0.   , 0.   ,\n",
      "       0.   , 0.   , 0.   , 0.   , 0.017, 0.   , 0.   , 0.   , 0.   ,\n",
      "       0.   , 0.   , 0.014, 0.   , 0.   , 0.   , 0.   , 0.   , 0.   ,\n",
      "       0.   , 0.   , 0.   , 0.   , 0.   , 0.   , 0.   , 0.   , 0.007,\n",
      "       0.   , 0.   , 0.051, 0.   , 0.049, 0.055, 0.   , 0.   , 0.   ,\n",
      "       0.039, 0.   , 0.042, 0.   , 0.   , 0.101, 0.   , 0.   , 0.   ,\n",
      "       0.015, 0.001, 0.   , 0.   , 0.   , 0.   , 0.   , 0.   , 0.   ,\n",
      "       0.   , 0.   , 0.   , 0.   , 0.015, 0.   , 0.   , 0.   , 0.023,\n",
      "       0.   , 0.045, 0.   , 0.   , 0.   , 0.   , 0.   , 0.   , 0.   ,\n",
      "       0.   , 0.   , 0.015, 0.002, 0.   , 0.   , 0.   , 0.042, 0.146,\n",
      "       0.   , 0.   , 0.029, 0.   , 0.006, 0.   , 0.021, 0.   , 0.   ,\n",
      "       0.092, 0.027, 0.   , 0.   , 0.001, 0.   , 0.091, 0.   ])\n",
      "     fun: 0.24503690083227656\n",
      "     jac: array([0.552, 0.505, 0.505, 0.578, 0.729, 0.615, 0.593, 0.494, 0.575,\n",
      "       0.597, 0.717, 0.599, 0.664, 0.474, 0.762, 0.63 , 0.832, 0.816,\n",
      "       0.725, 0.583, 0.488, 0.516, 0.723, 0.559, 0.735, 0.522, 0.615,\n",
      "       0.505, 0.581, 0.727, 0.564, 0.635, 0.637, 0.563, 0.489, 0.479,\n",
      "       0.714, 0.613, 0.489, 0.641, 0.489, 0.499, 0.505, 0.764, 0.611,\n",
      "       0.494, 0.608, 0.492, 0.54 , 0.497, 0.501, 0.654, 0.757, 0.529,\n",
      "       0.492, 0.492, 0.54 , 0.53 , 0.746, 0.492, 0.585, 0.73 , 0.561,\n",
      "       0.569, 0.65 , 0.649, 0.545, 0.473, 0.513, 0.579, 0.666, 0.498,\n",
      "       0.528, 0.492, 0.822, 0.515, 0.746, 0.564, 0.674, 0.538, 0.493,\n",
      "       0.688, 0.554, 0.483, 0.484, 0.782, 0.501, 0.511, 0.499, 0.475,\n",
      "       0.659, 0.5  , 0.49 , 0.547, 0.481, 0.726, 0.499, 0.578, 0.595,\n",
      "       0.487, 0.512, 0.616, 0.702, 0.491, 0.519, 0.491, 0.584])\n",
      " message: 'Optimization terminated successfully'\n",
      "    nfev: 761\n",
      "     nit: 7\n",
      "    njev: 7\n",
      "  status: 0\n",
      " success: True\n",
      "       x: array([0.   , 0.052, 0.   , 0.   , 0.   , 0.   , 0.   , 0.   , 0.   ,\n",
      "       0.   , 0.   , 0.   , 0.   , 0.018, 0.   , 0.   , 0.   , 0.   ,\n",
      "       0.   , 0.   , 0.016, 0.   , 0.   , 0.   , 0.   , 0.   , 0.   ,\n",
      "       0.   , 0.   , 0.   , 0.   , 0.   , 0.   , 0.   , 0.   , 0.005,\n",
      "       0.   , 0.   , 0.051, 0.   , 0.048, 0.054, 0.   , 0.   , 0.   ,\n",
      "       0.04 , 0.   , 0.044, 0.   , 0.   , 0.101, 0.   , 0.   , 0.   ,\n",
      "       0.016, 0.   , 0.   , 0.   , 0.   , 0.   , 0.   , 0.   , 0.   ,\n",
      "       0.   , 0.   , 0.   , 0.   , 0.016, 0.   , 0.   , 0.   , 0.023,\n",
      "       0.   , 0.045, 0.   , 0.   , 0.   , 0.   , 0.   , 0.   , 0.   ,\n",
      "       0.   , 0.   , 0.014, 0.003, 0.   , 0.   , 0.   , 0.04 , 0.149,\n",
      "       0.   , 0.   , 0.028, 0.   , 0.007, 0.   , 0.021, 0.   , 0.   ,\n",
      "       0.094, 0.024, 0.   , 0.   , 0.   , 0.   , 0.092, 0.   ])\n",
      "     fun: 0.25081515109119074\n",
      "     jac: array([0.584, 0.503, 0.516, 0.604, 0.769, 0.631, 0.617, 0.544, 0.594,\n",
      "       0.64 , 0.752, 0.63 , 0.697, 0.516, 0.784, 0.652, 0.852, 0.853,\n",
      "       0.757, 0.614, 0.506, 0.541, 0.746, 0.586, 0.758, 0.532, 0.645,\n",
      "       0.52 , 0.592, 0.743, 0.585, 0.672, 0.648, 0.59 , 0.531, 0.521,\n",
      "       0.74 , 0.628, 0.514, 0.661, 0.51 , 0.507, 0.547, 0.806, 0.639,\n",
      "       0.5  , 0.628, 0.49 , 0.56 , 0.56 , 0.505, 0.669, 0.783, 0.556,\n",
      "       0.496, 0.508, 0.594, 0.546, 0.772, 0.522, 0.61 , 0.745, 0.601,\n",
      "       0.589, 0.674, 0.695, 0.589, 0.561, 0.533, 0.61 , 0.694, 0.493,\n",
      "       0.543, 0.499, 0.849, 0.528, 0.778, 0.582, 0.692, 0.563, 0.525,\n",
      "       0.701, 0.579, 0.498, 0.516, 0.815, 0.524, 0.552, 0.506, 0.48 ,\n",
      "       0.68 , 0.514, 0.515, 0.575, 0.505, 0.775, 0.518, 0.598, 0.62 ,\n",
      "       0.495, 0.52 , 0.626, 0.722, 0.514, 0.547, 0.496, 0.598])\n",
      " message: 'Optimization terminated successfully'\n",
      "    nfev: 652\n",
      "     nit: 6\n",
      "    njev: 6\n",
      "  status: 0\n",
      " success: True\n",
      "       x: array([0.   , 0.065, 0.   , 0.   , 0.   , 0.   , 0.   , 0.   , 0.   ,\n",
      "       0.   , 0.   , 0.   , 0.   , 0.006, 0.   , 0.   , 0.   , 0.   ,\n",
      "       0.   , 0.   , 0.015, 0.   , 0.   , 0.   , 0.   , 0.   , 0.   ,\n",
      "       0.   , 0.   , 0.   , 0.   , 0.   , 0.   , 0.   , 0.   , 0.   ,\n",
      "       0.   , 0.   , 0.051, 0.   , 0.046, 0.059, 0.   , 0.   , 0.   ,\n",
      "       0.042, 0.   , 0.043, 0.   , 0.   , 0.108, 0.   , 0.   , 0.   ,\n",
      "       0.015, 0.003, 0.   , 0.   , 0.   , 0.   , 0.   , 0.   , 0.   ,\n",
      "       0.   , 0.   , 0.   , 0.   , 0.   , 0.   , 0.   , 0.   , 0.029,\n",
      "       0.   , 0.047, 0.   , 0.   , 0.   , 0.   , 0.   , 0.   , 0.   ,\n",
      "       0.   , 0.   , 0.005, 0.001, 0.   , 0.   , 0.   , 0.05 , 0.139,\n",
      "       0.   , 0.   , 0.03 , 0.   , 0.   , 0.   , 0.027, 0.   , 0.   ,\n",
      "       0.09 , 0.039, 0.   , 0.   , 0.   , 0.   , 0.09 , 0.   ])\n",
      "     fun: 0.2554128126896884\n",
      "     jac: array([0.595, 0.515, 0.526, 0.614, 0.784, 0.642, 0.628, 0.552, 0.605,\n",
      "       0.65 , 0.763, 0.642, 0.709, 0.522, 0.799, 0.661, 0.868, 0.868,\n",
      "       0.768, 0.625, 0.515, 0.554, 0.76 , 0.597, 0.775, 0.542, 0.659,\n",
      "       0.53 , 0.605, 0.755, 0.596, 0.683, 0.665, 0.603, 0.54 , 0.529,\n",
      "       0.754, 0.64 , 0.524, 0.673, 0.519, 0.517, 0.556, 0.82 , 0.649,\n",
      "       0.51 , 0.641, 0.499, 0.571, 0.561, 0.516, 0.68 , 0.798, 0.566,\n",
      "       0.505, 0.517, 0.607, 0.556, 0.785, 0.532, 0.623, 0.756, 0.613,\n",
      "       0.599, 0.685, 0.708, 0.602, 0.559, 0.542, 0.619, 0.712, 0.502,\n",
      "       0.551, 0.506, 0.863, 0.538, 0.791, 0.591, 0.705, 0.575, 0.534,\n",
      "       0.714, 0.592, 0.507, 0.524, 0.829, 0.533, 0.561, 0.516, 0.489,\n",
      "       0.693, 0.523, 0.523, 0.584, 0.513, 0.79 , 0.528, 0.612, 0.629,\n",
      "       0.504, 0.535, 0.64 , 0.735, 0.524, 0.557, 0.504, 0.612])\n",
      " message: 'Optimization terminated successfully'\n",
      "    nfev: 652\n",
      "     nit: 6\n",
      "    njev: 6\n",
      "  status: 0\n",
      " success: True\n",
      "       x: array([0.   , 0.063, 0.   , 0.   , 0.   , 0.   , 0.   , 0.   , 0.   ,\n",
      "       0.   , 0.   , 0.   , 0.   , 0.009, 0.   , 0.   , 0.   , 0.   ,\n",
      "       0.   , 0.   , 0.017, 0.   , 0.   , 0.   , 0.   , 0.   , 0.   ,\n",
      "       0.   , 0.   , 0.   , 0.   , 0.   , 0.   , 0.   , 0.   , 0.   ,\n",
      "       0.   , 0.   , 0.05 , 0.   , 0.045, 0.057, 0.   , 0.   , 0.   ,\n",
      "       0.042, 0.   , 0.044, 0.   , 0.   , 0.107, 0.   , 0.   , 0.   ,\n",
      "       0.016, 0.002, 0.   , 0.   , 0.   , 0.   , 0.   , 0.   , 0.   ,\n",
      "       0.   , 0.   , 0.   , 0.   , 0.   , 0.   , 0.   , 0.   , 0.03 ,\n",
      "       0.   , 0.048, 0.   , 0.   , 0.   , 0.   , 0.   , 0.   , 0.   ,\n",
      "       0.   , 0.   , 0.006, 0.002, 0.   , 0.   , 0.   , 0.049, 0.138,\n",
      "       0.   , 0.   , 0.03 , 0.   , 0.001, 0.   , 0.026, 0.   , 0.   ,\n",
      "       0.092, 0.035, 0.   , 0.   , 0.   , 0.   , 0.091, 0.   ])\n",
      "     fun: 0.2601771563711773\n",
      "     jac: array([0.607, 0.526, 0.536, 0.626, 0.801, 0.653, 0.641, 0.562, 0.615,\n",
      "       0.662, 0.776, 0.656, 0.722, 0.53 , 0.815, 0.672, 0.884, 0.883,\n",
      "       0.782, 0.638, 0.524, 0.566, 0.774, 0.609, 0.792, 0.553, 0.675,\n",
      "       0.54 , 0.618, 0.768, 0.607, 0.694, 0.679, 0.617, 0.551, 0.54 ,\n",
      "       0.769, 0.652, 0.535, 0.685, 0.528, 0.527, 0.568, 0.836, 0.661,\n",
      "       0.519, 0.655, 0.508, 0.582, 0.564, 0.526, 0.693, 0.814, 0.576,\n",
      "       0.514, 0.527, 0.624, 0.565, 0.799, 0.543, 0.636, 0.767, 0.627,\n",
      "       0.611, 0.698, 0.723, 0.617, 0.562, 0.552, 0.63 , 0.731, 0.511,\n",
      "       0.559, 0.515, 0.879, 0.548, 0.805, 0.601, 0.718, 0.588, 0.544,\n",
      "       0.728, 0.605, 0.517, 0.533, 0.844, 0.543, 0.572, 0.526, 0.498,\n",
      "       0.705, 0.533, 0.531, 0.594, 0.523, 0.806, 0.539, 0.626, 0.639,\n",
      "       0.513, 0.547, 0.654, 0.749, 0.535, 0.569, 0.513, 0.625])\n",
      " message: 'Optimization terminated successfully'\n",
      "    nfev: 652\n",
      "     nit: 6\n",
      "    njev: 6\n",
      "  status: 0\n",
      " success: True\n",
      "       x: array([0.   , 0.061, 0.   , 0.   , 0.   , 0.   , 0.   , 0.   , 0.   ,\n",
      "       0.   , 0.   , 0.   , 0.   , 0.011, 0.   , 0.   , 0.   , 0.   ,\n",
      "       0.   , 0.   , 0.019, 0.   , 0.   , 0.   , 0.   , 0.   , 0.   ,\n",
      "       0.   , 0.   , 0.   , 0.   , 0.   , 0.   , 0.   , 0.   , 0.   ,\n",
      "       0.   , 0.   , 0.05 , 0.   , 0.044, 0.057, 0.   , 0.   , 0.   ,\n",
      "       0.043, 0.   , 0.045, 0.   , 0.   , 0.106, 0.   , 0.   , 0.   ,\n",
      "       0.016, 0.001, 0.   , 0.   , 0.   , 0.   , 0.   , 0.   , 0.   ,\n",
      "       0.   , 0.   , 0.   , 0.   , 0.   , 0.   , 0.   , 0.   , 0.03 ,\n",
      "       0.   , 0.048, 0.   , 0.   , 0.   , 0.   , 0.   , 0.   , 0.   ,\n",
      "       0.   , 0.   , 0.006, 0.003, 0.   , 0.   , 0.   , 0.048, 0.138,\n",
      "       0.   , 0.   , 0.031, 0.   , 0.001, 0.   , 0.025, 0.   , 0.   ,\n",
      "       0.093, 0.033, 0.   , 0.   , 0.   , 0.   , 0.092, 0.   ])\n",
      "     fun: 0.26427768791821554\n",
      "     jac: array([0.584, 0.544, 0.546, 0.611, 0.775, 0.646, 0.624, 0.498, 0.614,\n",
      "       0.637, 0.751, 0.642, 0.692, 0.505, 0.814, 0.677, 0.877, 0.857,\n",
      "       0.762, 0.625, 0.524, 0.531, 0.765, 0.6  , 0.768, 0.569, 0.666,\n",
      "       0.541, 0.613, 0.766, 0.595, 0.652, 0.661, 0.613, 0.514, 0.504,\n",
      "       0.75 , 0.656, 0.507, 0.681, 0.521, 0.534, 0.535, 0.809, 0.652,\n",
      "       0.535, 0.644, 0.543, 0.577, 0.501, 0.531, 0.703, 0.806, 0.562,\n",
      "       0.54 , 0.532, 0.591, 0.561, 0.783, 0.526, 0.625, 0.785, 0.595,\n",
      "       0.616, 0.7  , 0.677, 0.58 , 0.455, 0.554, 0.613, 0.732, 0.554,\n",
      "       0.549, 0.542, 0.88 , 0.549, 0.773, 0.587, 0.715, 0.584, 0.528,\n",
      "       0.74 , 0.58 , 0.527, 0.511, 0.83 , 0.534, 0.534, 0.538, 0.513,\n",
      "       0.693, 0.536, 0.531, 0.57 , 0.508, 0.749, 0.52 , 0.608, 0.62 ,\n",
      "       0.534, 0.525, 0.674, 0.745, 0.522, 0.557, 0.539, 0.614])\n",
      " message: 'Optimization terminated successfully'\n",
      "    nfev: 761\n",
      "     nit: 7\n",
      "    njev: 7\n",
      "  status: 0\n",
      " success: True\n",
      "       x: array([0.   , 0.054, 0.   , 0.   , 0.   , 0.   , 0.   , 0.   , 0.   ,\n",
      "       0.   , 0.   , 0.   , 0.   , 0.016, 0.   , 0.   , 0.   , 0.   ,\n",
      "       0.   , 0.   , 0.021, 0.   , 0.   , 0.   , 0.   , 0.   , 0.   ,\n",
      "       0.   , 0.   , 0.   , 0.   , 0.   , 0.   , 0.   , 0.   , 0.   ,\n",
      "       0.   , 0.   , 0.051, 0.   , 0.043, 0.054, 0.   , 0.   , 0.   ,\n",
      "       0.043, 0.   , 0.047, 0.   , 0.   , 0.103, 0.   , 0.   , 0.   ,\n",
      "       0.017, 0.   , 0.   , 0.   , 0.   , 0.   , 0.   , 0.   , 0.   ,\n",
      "       0.   , 0.   , 0.   , 0.   , 0.011, 0.   , 0.   , 0.   , 0.027,\n",
      "       0.   , 0.046, 0.   , 0.   , 0.   , 0.   , 0.   , 0.   , 0.   ,\n",
      "       0.   , 0.   , 0.007, 0.004, 0.   , 0.   , 0.   , 0.042, 0.145,\n",
      "       0.   , 0.   , 0.028, 0.   , 0.004, 0.   , 0.022, 0.   , 0.   ,\n",
      "       0.095, 0.025, 0.   , 0.   , 0.   , 0.   , 0.093, 0.   ])\n",
      "     fun: 0.26910081678411274\n",
      "     jac: array([0.596, 0.552, 0.557, 0.622, 0.79 , 0.655, 0.633, 0.506, 0.625,\n",
      "       0.652, 0.761, 0.655, 0.703, 0.517, 0.829, 0.687, 0.889, 0.869,\n",
      "       0.773, 0.638, 0.534, 0.538, 0.778, 0.614, 0.779, 0.581, 0.681,\n",
      "       0.551, 0.621, 0.777, 0.605, 0.662, 0.671, 0.627, 0.525, 0.515,\n",
      "       0.761, 0.668, 0.514, 0.692, 0.529, 0.543, 0.547, 0.824, 0.665,\n",
      "       0.545, 0.654, 0.553, 0.588, 0.515, 0.539, 0.716, 0.819, 0.573,\n",
      "       0.55 , 0.543, 0.61 , 0.571, 0.795, 0.538, 0.636, 0.798, 0.607,\n",
      "       0.629, 0.713, 0.689, 0.592, 0.467, 0.566, 0.626, 0.749, 0.565,\n",
      "       0.555, 0.553, 0.896, 0.559, 0.784, 0.595, 0.725, 0.596, 0.539,\n",
      "       0.753, 0.589, 0.534, 0.52 , 0.846, 0.545, 0.545, 0.548, 0.523,\n",
      "       0.703, 0.545, 0.543, 0.579, 0.517, 0.761, 0.525, 0.617, 0.629,\n",
      "       0.544, 0.533, 0.687, 0.757, 0.533, 0.569, 0.55 , 0.624])\n",
      " message: 'Optimization terminated successfully'\n",
      "    nfev: 761\n",
      "     nit: 7\n",
      "    njev: 7\n",
      "  status: 0\n",
      " success: True\n",
      "       x: array([0.   , 0.054, 0.   , 0.   , 0.   , 0.   , 0.   , 0.   , 0.   ,\n",
      "       0.   , 0.   , 0.   , 0.   , 0.017, 0.   , 0.   , 0.   , 0.   ,\n",
      "       0.   , 0.   , 0.023, 0.   , 0.   , 0.   , 0.   , 0.   , 0.   ,\n",
      "       0.   , 0.   , 0.   , 0.   , 0.   , 0.   , 0.   , 0.   , 0.   ,\n",
      "       0.   , 0.   , 0.051, 0.   , 0.042, 0.053, 0.   , 0.   , 0.   ,\n",
      "       0.044, 0.   , 0.047, 0.   , 0.   , 0.103, 0.   , 0.   , 0.   ,\n",
      "       0.017, 0.   , 0.   , 0.   , 0.   , 0.   , 0.   , 0.   , 0.   ,\n",
      "       0.   , 0.   , 0.   , 0.   , 0.011, 0.   , 0.   , 0.   , 0.027,\n",
      "       0.   , 0.046, 0.   , 0.   , 0.   , 0.   , 0.   , 0.   , 0.   ,\n",
      "       0.   , 0.   , 0.006, 0.004, 0.   , 0.   , 0.   , 0.042, 0.145,\n",
      "       0.   , 0.   , 0.028, 0.   , 0.004, 0.   , 0.022, 0.   , 0.   ,\n",
      "       0.096, 0.025, 0.   , 0.   , 0.   , 0.   , 0.092, 0.   ])\n",
      "     fun: 0.27391585503327065\n",
      "     jac: array([0.608, 0.561, 0.567, 0.632, 0.805, 0.665, 0.642, 0.514, 0.637,\n",
      "       0.667, 0.772, 0.668, 0.715, 0.528, 0.843, 0.698, 0.902, 0.882,\n",
      "       0.786, 0.651, 0.544, 0.546, 0.791, 0.627, 0.791, 0.592, 0.695,\n",
      "       0.561, 0.629, 0.788, 0.615, 0.672, 0.682, 0.641, 0.537, 0.526,\n",
      "       0.772, 0.68 , 0.523, 0.704, 0.538, 0.552, 0.56 , 0.84 , 0.677,\n",
      "       0.556, 0.665, 0.564, 0.599, 0.528, 0.548, 0.728, 0.832, 0.584,\n",
      "       0.561, 0.555, 0.628, 0.582, 0.807, 0.549, 0.649, 0.811, 0.62 ,\n",
      "       0.641, 0.726, 0.702, 0.604, 0.479, 0.578, 0.638, 0.764, 0.576,\n",
      "       0.562, 0.565, 0.911, 0.568, 0.795, 0.604, 0.737, 0.609, 0.551,\n",
      "       0.766, 0.599, 0.541, 0.528, 0.862, 0.556, 0.555, 0.557, 0.532,\n",
      "       0.714, 0.555, 0.556, 0.588, 0.526, 0.774, 0.53 , 0.627, 0.637,\n",
      "       0.554, 0.541, 0.7  , 0.769, 0.543, 0.58 , 0.56 , 0.633])\n",
      " message: 'Optimization terminated successfully'\n",
      "    nfev: 761\n",
      "     nit: 7\n",
      "    njev: 7\n",
      "  status: 0\n",
      " success: True\n",
      "       x: array([0.   , 0.053, 0.   , 0.   , 0.   , 0.   , 0.   , 0.   , 0.   ,\n",
      "       0.   , 0.   , 0.   , 0.   , 0.017, 0.   , 0.   , 0.   , 0.   ,\n",
      "       0.   , 0.   , 0.024, 0.   , 0.   , 0.   , 0.   , 0.   , 0.   ,\n",
      "       0.   , 0.   , 0.   , 0.   , 0.   , 0.   , 0.   , 0.   , 0.   ,\n",
      "       0.   , 0.   , 0.052, 0.   , 0.041, 0.053, 0.   , 0.   , 0.   ,\n",
      "       0.044, 0.   , 0.048, 0.   , 0.   , 0.103, 0.   , 0.   , 0.   ,\n",
      "       0.017, 0.   , 0.   , 0.   , 0.   , 0.   , 0.   , 0.   , 0.   ,\n",
      "       0.   , 0.   , 0.   , 0.   , 0.011, 0.   , 0.   , 0.   , 0.027,\n",
      "       0.   , 0.046, 0.   , 0.   , 0.   , 0.   , 0.   , 0.   , 0.   ,\n",
      "       0.   , 0.   , 0.006, 0.005, 0.   , 0.   , 0.   , 0.042, 0.145,\n",
      "       0.   , 0.   , 0.028, 0.   , 0.004, 0.   , 0.022, 0.   , 0.   ,\n",
      "       0.097, 0.025, 0.   , 0.   , 0.   , 0.   , 0.092, 0.   ])\n",
      "Optimal weights of the efficient set portfolios\n",
      ": [[0.    0.    0.    ... 0.    0.    0.   ]\n",
      " [0.    0.    0.    ... 0.    0.    0.   ]\n",
      " [0.    0.    0.    ... 0.    0.    0.   ]\n",
      " ...\n",
      " [0.    0.054 0.    ... 0.    0.093 0.   ]\n",
      " [0.    0.054 0.    ... 0.    0.092 0.   ]\n",
      " [0.    0.053 0.    ... 0.    0.092 0.   ]]\n",
      "\n",
      "Annualized Risk and Return of the efficient set portfolios:\n",
      " [[23.409 73.136]\n",
      " [21.168 71.842]\n",
      " [19.168 69.859]\n",
      " [18.355 68.131]\n",
      " [18.321 68.206]\n",
      " [17.74  66.265]\n",
      " [17.048 63.87 ]\n",
      " [15.585 58.011]\n",
      " [14.712 54.342]\n",
      " [13.938 50.629]\n",
      " [13.012 45.963]\n",
      " [12.291 42.052]\n",
      " [11.71  38.735]\n",
      " [11.255 35.969]\n",
      " [10.829 33.217]\n",
      " [10.815 32.579]\n",
      " [10.397 30.185]\n",
      " [10.04  27.55 ]\n",
      " [ 9.887 26.283]\n",
      " [ 9.657 24.305]\n",
      " [ 9.552 23.352]\n",
      " [ 9.418 22.032]\n",
      " [ 9.261 19.745]\n",
      " [ 9.183 19.48 ]\n",
      " [ 9.044 18.089]\n",
      " [ 8.959 17.019]\n",
      " [ 8.891 16.106]\n",
      " [ 8.825 15.173]\n",
      " [ 8.763 14.232]\n",
      " [ 8.703 13.218]\n",
      " [ 8.716 13.325]\n",
      " [ 8.68  12.674]\n",
      " [ 8.644 12.013]\n",
      " [ 8.606 11.297]\n",
      " [ 8.568 10.259]\n",
      " [ 8.547 10.028]\n",
      " [ 8.527  9.53 ]\n",
      " [ 8.509  9.066]\n",
      " [ 8.493  8.624]\n",
      " [ 8.477  8.161]\n",
      " [ 8.465  7.775]\n",
      " [ 8.43   6.925]\n",
      " [ 8.435  6.94 ]\n",
      " [ 8.418  6.379]\n",
      " [ 8.405  5.854]\n",
      " [ 8.4    5.624]\n",
      " [ 8.395  5.334]\n",
      " [ 8.389  5.032]\n",
      " [ 8.385  4.77 ]\n",
      " [ 8.382  4.533]\n",
      " [ 8.378  4.295]\n",
      " [ 8.375  4.056]\n",
      " [ 8.374  3.824]\n",
      " [ 8.373  3.649]\n",
      " [ 8.382  2.705]\n",
      " [ 8.377  2.562]\n",
      " [ 8.375  2.41 ]\n",
      " [ 8.365  2.756]\n",
      " [ 8.364  2.622]\n",
      " [ 8.364  2.51 ]]\n"
     ]
    }
   ],
   "source": [
    "#obtain optimal portfolios for the constrained portfolio optimization model\n",
    "#Maximize returns and Minimize risk with fully invested, bound and \n",
    "#class constraints\n",
    "\n",
    "#set portfolio size \n",
    "portfolioSize = 107\n",
    "\n",
    "#initialization\n",
    "xOptimal =[]\n",
    "minRiskPoint = []\n",
    "expPortfolioReturnPoint =[]\n",
    "\n",
    "for points in range(0,60):\n",
    "    riskAversParam = points/60.0\n",
    "    result = BiCriterionFunctionOptmzn(stocks_meanReturns, stocks_covReturns, riskAversParam, \\\n",
    "                                       portfolioSize)\n",
    "    xOptimal.append(result.x)\n",
    "\n",
    "#compute annualized risk and return  of the optimal portfolios for trading days = 251  \n",
    "xOptimalArray = np.array(xOptimal)\n",
    "minRiskPoint = np.diagonal(np.matmul((np.matmul(xOptimalArray,stocks_covReturns)),\\\n",
    "                                     np.transpose(xOptimalArray)))\n",
    "riskPoint =   np.sqrt(minRiskPoint*251) \n",
    "expPortfolioReturnPoint= np.matmul(xOptimalArray, stocks_meanReturns)\n",
    "retPoint = 251*np.array(expPortfolioReturnPoint) \n",
    "\n",
    "#set precision for printing results\n",
    "np.set_printoptions(precision=3, suppress = True)\n",
    "\n",
    "#display optimal portfolio results\n",
    "print(\"Optimal weights of the efficient set portfolios\\n:\", xOptimalArray)\n",
    "print(\"\\nAnnualized Risk and Return of the efficient set portfolios:\\n\",\\\n",
    "      np.c_[riskPoint, retPoint])"
   ]
  },
  {
   "cell_type": "code",
   "execution_count": 42,
   "metadata": {},
   "outputs": [
    {
     "data": {
      "image/png": "[encoded data removed]",
      "text/plain": [
       "<Figure size 640x480 with 1 Axes>"
      ]
     },
     "metadata": {},
     "output_type": "display_data"
    }
   ],
   "source": [
    "import matplotlib.pyplot as plt\n",
    "\n",
    "#Graph Efficient Frontier for the constrained portfolio model\n",
    "NoPoints = riskPoint.size\n",
    "\n",
    "colours = \"blue\"\n",
    "area = np.pi*3\n",
    "\n",
    "plt.title('Efficient Frontier for constrained k-portfolio 1 of Nasdaq')\n",
    "plt.xlabel('Annualized Risk(%)')\n",
    "plt.ylabel('Annualized Expected Portfolio Return(%)' )\n",
    "plt.scatter(riskPoint, retPoint, s=area, c=colours, alpha =0.5)\n",
    "plt.show()"
   ]
  },
  {
   "cell_type": "code",
   "execution_count": 44,
   "metadata": {},
   "outputs": [
    {
     "data": {
      "text/plain": [
       "array([23.409, 73.136])"
      ]
     },
     "execution_count": 44,
     "metadata": {},
     "output_type": "execute_result"
    }
   ],
   "source": [
    "np.c_[riskPoint, retPoint][0]"
   ]
  },
  {
   "cell_type": "code",
   "execution_count": 45,
   "metadata": {},
   "outputs": [
    {
     "data": {
      "text/plain": [
       "array([0.   , 0.   , 0.   , 0.   , 0.079, 0.   , 0.   , 0.   , 0.   ,\n",
       "       0.   , 0.   , 0.02 , 0.   , 0.   , 0.   , 0.   , 0.   , 0.   ,\n",
       "       0.   , 0.   , 0.   , 0.   , 0.   , 0.   , 0.   , 0.   , 0.312,\n",
       "       0.   , 0.   , 0.   , 0.   , 0.   , 0.   , 0.289, 0.   , 0.   ,\n",
       "       0.   , 0.   , 0.   , 0.   , 0.   , 0.   , 0.   , 0.   , 0.   ,\n",
       "       0.   , 0.   , 0.   , 0.   , 0.   , 0.   , 0.   , 0.   , 0.   ,\n",
       "       0.   , 0.   , 0.1  , 0.   , 0.   , 0.   , 0.   , 0.   , 0.   ,\n",
       "       0.   , 0.   , 0.   , 0.1  , 0.   , 0.   , 0.   , 0.1  , 0.   ,\n",
       "       0.   , 0.   , 0.   , 0.   , 0.   , 0.   , 0.   , 0.   , 0.   ,\n",
       "       0.   , 0.   , 0.   , 0.   , 0.   , 0.   , 0.   , 0.   , 0.   ,\n",
       "       0.   , 0.   , 0.   , 0.   , 0.   , 0.   , 0.   , 0.   , 0.   ,\n",
       "       0.   , 0.   , 0.   , 0.   , 0.   , 0.   , 0.   , 0.   ])"
      ]
     },
     "execution_count": 45,
     "metadata": {},
     "output_type": "execute_result"
    }
   ],
   "source": [
    "xOptimalArray[0]"
   ]
  },
  {
   "cell_type": "code",
   "execution_count": 46,
   "metadata": {},
   "outputs": [
    {
     "data": {
      "application/vnd.plotly.v1+json": {
       "config": {
        "plotlyServerURL": "https://plot.ly"
       },
       "data": [
        {
         "hoverinfo": "text+y",
         "hovertext": [
          "Position: 0",
          "Position: 1",
          "Position: 2",
          "Position: 3",
          "Position: 4",
          "Position: 5",
          "Position: 6",
          "Position: 7",
          "Position: 8",
          "Position: 9",
          "Position: 10",
          "Position: 11",
          "Position: 12",
          "Position: 13",
          "Position: 14",
          "Position: 15",
          "Position: 16",
          "Position: 17",
          "Position: 18",
          "Position: 19",
          "Position: 20",
          "Position: 21",
          "Position: 22",
          "Position: 23",
          "Position: 24",
          "Position: 25",
          "Position: 26",
          "Position: 27",
          "Position: 28",
          "Position: 29",
          "Position: 30",
          "Position: 31",
          "Position: 32",
          "Position: 33",
          "Position: 34",
          "Position: 35",
          "Position: 36",
          "Position: 37",
          "Position: 38",
          "Position: 39",
          "Position: 40",
          "Position: 41",
          "Position: 42",
          "Position: 43",
          "Position: 44",
          "Position: 45",
          "Position: 46",
          "Position: 47",
          "Position: 48",
          "Position: 49",
          "Position: 50",
          "Position: 51",
          "Position: 52",
          "Position: 53",
          "Position: 54",
          "Position: 55",
          "Position: 56",
          "Position: 57",
          "Position: 58",
          "Position: 59",
          "Position: 60",
          "Position: 61",
          "Position: 62",
          "Position: 63",
          "Position: 64",
          "Position: 65",
          "Position: 66",
          "Position: 67",
          "Position: 68",
          "Position: 69",
          "Position: 70",
          "Position: 71",
          "Position: 72",
          "Position: 73",
          "Position: 74",
          "Position: 75",
          "Position: 76",
          "Position: 77",
          "Position: 78",
          "Position: 79",
          "Position: 80",
          "Position: 81",
          "Position: 82",
          "Position: 83",
          "Position: 84",
          "Position: 85",
          "Position: 86",
          "Position: 87",
          "Position: 88",
          "Position: 89",
          "Position: 90",
          "Position: 91",
          "Position: 92",
          "Position: 93",
          "Position: 94",
          "Position: 95",
          "Position: 96",
          "Position: 97",
          "Position: 98",
          "Position: 99",
          "Position: 100",
          "Position: 101",
          "Position: 102",
          "Position: 103",
          "Position: 104",
          "Position: 105",
          "Position: 106"
         ],
         "type": "bar",
         "x": [
          0,
          1,
          2,
          3,
          4,
          5,
          6,
          7,
          8,
          9,
          10,
          11,
          12,
          13,
          14,
          15,
          16,
          17,
          18,
          19,
          20,
          21,
          22,
          23,
          24,
          25,
          26,
          27,
          28,
          29,
          30,
          31,
          32,
          33,
          34,
          35,
          36,
          37,
          38,
          39,
          40,
          41,
          42,
          43,
          44,
          45,
          46,
          47,
          48,
          49,
          50,
          51,
          52,
          53,
          54,
          55,
          56,
          57,
          58,
          59,
          60,
          61,
          62,
          63,
          64,
          65,
          66,
          67,
          68,
          69,
          70,
          71,
          72,
          73,
          74,
          75,
          76,
          77,
          78,
          79,
          80,
          81,
          82,
          83,
          84,
          85,
          86,
          87,
          88,
          89,
          90,
          91,
          92,
          93,
          94,
          95,
          96,
          97,
          98,
          99,
          100,
          101,
          102,
          103,
          104,
          105,
          106
         ],
         "y": [
          7.461808046514461e-16,
          3.5101928893030053e-16,
          2.4920429967310965e-16,
          0,
          0.07921580557456649,
          1.4024520421099816e-15,
          6.255587260624346e-16,
          6.911841107207429e-16,
          6.9927539257358715e-16,
          0,
          2.1073467061134583e-16,
          0.02048912185218484,
          3.814222557524749e-16,
          0,
          3.146682130710126e-16,
          2.540074163933461e-16,
          5.844883641434828e-16,
          5.833998336770269e-16,
          4.875526818683673e-16,
          3.640441706752333e-17,
          9.055925801423083e-16,
          8.542101908228932e-17,
          1.859861858096564e-16,
          8.05970855406523e-17,
          3.4586068660178594e-17,
          3.99959319375914e-16,
          0.31175123553164996,
          5.0211610457697785e-16,
          3.0795458756096836e-16,
          7.522726925701982e-16,
          1.8449592548532543e-16,
          8.066464167670694e-16,
          5.034603305902411e-16,
          0.28854383704158165,
          0,
          0,
          7.072433907109987e-16,
          3.7806283911313713e-16,
          2.302231031810001e-16,
          8.252200848341467e-16,
          3.4891555753059614e-16,
          1.999505904627679e-16,
          0,
          0,
          2.446778722016491e-17,
          4.214592161324738e-16,
          4.580104484507721e-16,
          5.690417260152217e-16,
          3.555531532731251e-16,
          0,
          1.5169438623114334e-16,
          6.400105739128323e-16,
          4.2695446773912524e-16,
          2.397771732110499e-16,
          2.587123484833459e-16,
          0,
          0.09999999999999722,
          4.992014333381752e-16,
          3.805822801335982e-16,
          0,
          5.380215204231459e-16,
          7.519278879349503e-16,
          0,
          3.7478877772668075e-16,
          5.035118952161489e-16,
          0,
          0.09999999999999476,
          0,
          6.430113055723579e-17,
          0,
          0.09999999999999758,
          6.053052258639029e-16,
          9.780186817693842e-16,
          4.760137872960965e-16,
          3.2207911553898074e-16,
          5.452164323789501e-16,
          3.0185081333139024e-16,
          5.82765538744937e-16,
          3.8686135875728004e-16,
          0,
          0,
          4.0096909548103757e-16,
          1.3359002308870714e-16,
          2.7462494253760585e-16,
          3.4287778488699263e-16,
          5.398215665243515e-16,
          2.3596528898485595e-16,
          5.328807739816329e-16,
          4.3244086371826454e-16,
          2.811151514469056e-16,
          7.512621477162248e-16,
          2.2200734437909756e-16,
          4.427436279537046e-16,
          4.107403813522906e-16,
          3.6591871078087475e-16,
          1.4307042535535785e-16,
          1.0612571815438462e-16,
          1.597856437096596e-16,
          6.038850050195712e-16,
          1.794864299432625e-16,
          5.176428711350316e-16,
          4.4612734407182474e-17,
          2.7842524302040315e-16,
          3.181505039831683e-16,
          3.0229968218221666e-16,
          4.4032689488721706e-16,
          4.087175684963365e-16
         ]
        }
       ],
       "layout": {
        "template": {
         "data": {
          "bar": [
           {
            "error_x": {
             "color": "#2a3f5f"
            },
            "error_y": {
             "color": "#2a3f5f"
            },
            "marker": {
             "line": {
              "color": "#E5ECF6",
              "width": 0.5
             },
             "pattern": {
              "fillmode": "overlay",
              "size": 10,
              "solidity": 0.2
             }
            },
            "type": "bar"
           }
          ],
          "barpolar": [
           {
            "marker": {
             "line": {
              "color": "#E5ECF6",
              "width": 0.5
             },
             "pattern": {
              "fillmode": "overlay",
              "size": 10,
              "solidity": 0.2
             }
            },
            "type": "barpolar"
           }
          ],
          "carpet": [
           {
            "aaxis": {
             "endlinecolor": "#2a3f5f",
             "gridcolor": "white",
             "linecolor": "white",
             "minorgridcolor": "white",
             "startlinecolor": "#2a3f5f"
            },
            "baxis": {
             "endlinecolor": "#2a3f5f",
             "gridcolor": "white",
             "linecolor": "white",
             "minorgridcolor": "white",
             "startlinecolor": "#2a3f5f"
            },
            "type": "carpet"
           }
          ],
          "choropleth": [
           {
            "colorbar": {
             "outlinewidth": 0,
             "ticks": ""
            },
            "type": "choropleth"
           }
          ],
          "contour": [
           {
            "colorbar": {
             "outlinewidth": 0,
             "ticks": ""
            },
            "colorscale": [
             [
              0,
              "#0d0887"
             ],
             [
              0.1111111111111111,
              "#46039f"
             ],
             [
              0.2222222222222222,
              "#7201a8"
             ],
             [
              0.3333333333333333,
              "#9c179e"
             ],
             [
              0.4444444444444444,
              "#bd3786"
             ],
             [
              0.5555555555555556,
              "#d8576b"
             ],
             [
              0.6666666666666666,
              "#ed7953"
             ],
             [
              0.7777777777777778,
              "#fb9f3a"
             ],
             [
              0.8888888888888888,
              "#fdca26"
             ],
             [
              1,
              "#f0f921"
             ]
            ],
            "type": "contour"
           }
          ],
          "contourcarpet": [
           {
            "colorbar": {
             "outlinewidth": 0,
             "ticks": ""
            },
            "type": "contourcarpet"
           }
          ],
          "heatmap": [
           {
            "colorbar": {
             "outlinewidth": 0,
             "ticks": ""
            },
            "colorscale": [
             [
              0,
              "#0d0887"
             ],
             [
              0.1111111111111111,
              "#46039f"
             ],
             [
              0.2222222222222222,
              "#7201a8"
             ],
             [
              0.3333333333333333,
              "#9c179e"
             ],
             [
              0.4444444444444444,
              "#bd3786"
             ],
             [
              0.5555555555555556,
              "#d8576b"
             ],
             [
              0.6666666666666666,
              "#ed7953"
             ],
             [
              0.7777777777777778,
              "#fb9f3a"
             ],
             [
              0.8888888888888888,
              "#fdca26"
             ],
             [
              1,
              "#f0f921"
             ]
            ],
            "type": "heatmap"
           }
          ],
          "heatmapgl": [
           {
            "colorbar": {
             "outlinewidth": 0,
             "ticks": ""
            },
            "colorscale": [
             [
              0,
              "#0d0887"
             ],
             [
              0.1111111111111111,
              "#46039f"
             ],
             [
              0.2222222222222222,
              "#7201a8"
             ],
             [
              0.3333333333333333,
              "#9c179e"
             ],
             [
              0.4444444444444444,
              "#bd3786"
             ],
             [
              0.5555555555555556,
              "#d8576b"
             ],
             [
              0.6666666666666666,
              "#ed7953"
             ],
             [
              0.7777777777777778,
              "#fb9f3a"
             ],
             [
              0.8888888888888888,
              "#fdca26"
             ],
             [
              1,
              "#f0f921"
             ]
            ],
            "type": "heatmapgl"
           }
          ],
          "histogram": [
           {
            "marker": {
             "pattern": {
              "fillmode": "overlay",
              "size": 10,
              "solidity": 0.2
             }
            },
            "type": "histogram"
           }
          ],
          "histogram2d": [
           {
            "colorbar": {
             "outlinewidth": 0,
             "ticks": ""
            },
            "colorscale": [
             [
              0,
              "#0d0887"
             ],
             [
              0.1111111111111111,
              "#46039f"
             ],
             [
              0.2222222222222222,
              "#7201a8"
             ],
             [
              0.3333333333333333,
              "#9c179e"
             ],
             [
              0.4444444444444444,
              "#bd3786"
             ],
             [
              0.5555555555555556,
              "#d8576b"
             ],
             [
              0.6666666666666666,
              "#ed7953"
             ],
             [
              0.7777777777777778,
              "#fb9f3a"
             ],
             [
              0.8888888888888888,
              "#fdca26"
             ],
             [
              1,
              "#f0f921"
             ]
            ],
            "type": "histogram2d"
           }
          ],
          "histogram2dcontour": [
           {
            "colorbar": {
             "outlinewidth": 0,
             "ticks": ""
            },
            "colorscale": [
             [
              0,
              "#0d0887"
             ],
             [
              0.1111111111111111,
              "#46039f"
             ],
             [
              0.2222222222222222,
              "#7201a8"
             ],
             [
              0.3333333333333333,
              "#9c179e"
             ],
             [
              0.4444444444444444,
              "#bd3786"
             ],
             [
              0.5555555555555556,
              "#d8576b"
             ],
             [
              0.6666666666666666,
              "#ed7953"
             ],
             [
              0.7777777777777778,
              "#fb9f3a"
             ],
             [
              0.8888888888888888,
              "#fdca26"
             ],
             [
              1,
              "#f0f921"
             ]
            ],
            "type": "histogram2dcontour"
           }
          ],
          "mesh3d": [
           {
            "colorbar": {
             "outlinewidth": 0,
             "ticks": ""
            },
            "type": "mesh3d"
           }
          ],
          "parcoords": [
           {
            "line": {
             "colorbar": {
              "outlinewidth": 0,
              "ticks": ""
             }
            },
            "type": "parcoords"
           }
          ],
          "pie": [
           {
            "automargin": true,
            "type": "pie"
           }
          ],
          "scatter": [
           {
            "fillpattern": {
             "fillmode": "overlay",
             "size": 10,
             "solidity": 0.2
            },
            "type": "scatter"
           }
          ],
          "scatter3d": [
           {
            "line": {
             "colorbar": {
              "outlinewidth": 0,
              "ticks": ""
             }
            },
            "marker": {
             "colorbar": {
              "outlinewidth": 0,
              "ticks": ""
             }
            },
            "type": "scatter3d"
           }
          ],
          "scattercarpet": [
           {
            "marker": {
             "colorbar": {
              "outlinewidth": 0,
              "ticks": ""
             }
            },
            "type": "scattercarpet"
           }
          ],
          "scattergeo": [
           {
            "marker": {
             "colorbar": {
              "outlinewidth": 0,
              "ticks": ""
             }
            },
            "type": "scattergeo"
           }
          ],
          "scattergl": [
           {
            "marker": {
             "colorbar": {
              "outlinewidth": 0,
              "ticks": ""
             }
            },
            "type": "scattergl"
           }
          ],
          "scattermapbox": [
           {
            "marker": {
             "colorbar": {
              "outlinewidth": 0,
              "ticks": ""
             }
            },
            "type": "scattermapbox"
           }
          ],
          "scatterpolar": [
           {
            "marker": {
             "colorbar": {
              "outlinewidth": 0,
              "ticks": ""
             }
            },
            "type": "scatterpolar"
           }
          ],
          "scatterpolargl": [
           {
            "marker": {
             "colorbar": {
              "outlinewidth": 0,
              "ticks": ""
             }
            },
            "type": "scatterpolargl"
           }
          ],
          "scatterternary": [
           {
            "marker": {
             "colorbar": {
              "outlinewidth": 0,
              "ticks": ""
             }
            },
            "type": "scatterternary"
           }
          ],
          "surface": [
           {
            "colorbar": {
             "outlinewidth": 0,
             "ticks": ""
            },
            "colorscale": [
             [
              0,
              "#0d0887"
             ],
             [
              0.1111111111111111,
              "#46039f"
             ],
             [
              0.2222222222222222,
              "#7201a8"
             ],
             [
              0.3333333333333333,
              "#9c179e"
             ],
             [
              0.4444444444444444,
              "#bd3786"
             ],
             [
              0.5555555555555556,
              "#d8576b"
             ],
             [
              0.6666666666666666,
              "#ed7953"
             ],
             [
              0.7777777777777778,
              "#fb9f3a"
             ],
             [
              0.8888888888888888,
              "#fdca26"
             ],
             [
              1,
              "#f0f921"
             ]
            ],
            "type": "surface"
           }
          ],
          "table": [
           {
            "cells": {
             "fill": {
              "color": "#EBF0F8"
             },
             "line": {
              "color": "white"
             }
            },
            "header": {
             "fill": {
              "color": "#C8D4E3"
             },
             "line": {
              "color": "white"
             }
            },
            "type": "table"
           }
          ]
         },
         "layout": {
          "annotationdefaults": {
           "arrowcolor": "#2a3f5f",
           "arrowhead": 0,
           "arrowwidth": 1
          },
          "autotypenumbers": "strict",
          "coloraxis": {
           "colorbar": {
            "outlinewidth": 0,
            "ticks": ""
           }
          },
          "colorscale": {
           "diverging": [
            [
             0,
             "#8e0152"
            ],
            [
             0.1,
             "#c51b7d"
            ],
            [
             0.2,
             "#de77ae"
            ],
            [
             0.3,
             "#f1b6da"
            ],
            [
             0.4,
             "#fde0ef"
            ],
            [
             0.5,
             "#f7f7f7"
            ],
            [
             0.6,
             "#e6f5d0"
            ],
            [
             0.7,
             "#b8e186"
            ],
            [
             0.8,
             "#7fbc41"
            ],
            [
             0.9,
             "#4d9221"
            ],
            [
             1,
             "#276419"
            ]
           ],
           "sequential": [
            [
             0,
             "#0d0887"
            ],
            [
             0.1111111111111111,
             "#46039f"
            ],
            [
             0.2222222222222222,
             "#7201a8"
            ],
            [
             0.3333333333333333,
             "#9c179e"
            ],
            [
             0.4444444444444444,
             "#bd3786"
            ],
            [
             0.5555555555555556,
             "#d8576b"
            ],
            [
             0.6666666666666666,
             "#ed7953"
            ],
            [
             0.7777777777777778,
             "#fb9f3a"
            ],
            [
             0.8888888888888888,
             "#fdca26"
            ],
            [
             1,
             "#f0f921"
            ]
           ],
           "sequentialminus": [
            [
             0,
             "#0d0887"
            ],
            [
             0.1111111111111111,
             "#46039f"
            ],
            [
             0.2222222222222222,
             "#7201a8"
            ],
            [
             0.3333333333333333,
             "#9c179e"
            ],
            [
             0.4444444444444444,
             "#bd3786"
            ],
            [
             0.5555555555555556,
             "#d8576b"
            ],
            [
             0.6666666666666666,
             "#ed7953"
            ],
            [
             0.7777777777777778,
             "#fb9f3a"
            ],
            [
             0.8888888888888888,
             "#fdca26"
            ],
            [
             1,
             "#f0f921"
            ]
           ]
          },
          "colorway": [
           "#636efa",
           "#EF553B",
           "#00cc96",
           "#ab63fa",
           "#FFA15A",
           "#19d3f3",
           "#FF6692",
           "#B6E880",
           "#FF97FF",
           "#FECB52"
          ],
          "font": {
           "color": "#2a3f5f"
          },
          "geo": {
           "bgcolor": "white",
           "lakecolor": "white",
           "landcolor": "#E5ECF6",
           "showlakes": true,
           "showland": true,
           "subunitcolor": "white"
          },
          "hoverlabel": {
           "align": "left"
          },
          "hovermode": "closest",
          "mapbox": {
           "style": "light"
          },
          "paper_bgcolor": "white",
          "plot_bgcolor": "#E5ECF6",
          "polar": {
           "angularaxis": {
            "gridcolor": "white",
            "linecolor": "white",
            "ticks": ""
           },
           "bgcolor": "#E5ECF6",
           "radialaxis": {
            "gridcolor": "white",
            "linecolor": "white",
            "ticks": ""
           }
          },
          "scene": {
           "xaxis": {
            "backgroundcolor": "#E5ECF6",
            "gridcolor": "white",
            "gridwidth": 2,
            "linecolor": "white",
            "showbackground": true,
            "ticks": "",
            "zerolinecolor": "white"
           },
           "yaxis": {
            "backgroundcolor": "#E5ECF6",
            "gridcolor": "white",
            "gridwidth": 2,
            "linecolor": "white",
            "showbackground": true,
            "ticks": "",
            "zerolinecolor": "white"
           },
           "zaxis": {
            "backgroundcolor": "#E5ECF6",
            "gridcolor": "white",
            "gridwidth": 2,
            "linecolor": "white",
            "showbackground": true,
            "ticks": "",
            "zerolinecolor": "white"
           }
          },
          "shapedefaults": {
           "line": {
            "color": "#2a3f5f"
           }
          },
          "ternary": {
           "aaxis": {
            "gridcolor": "white",
            "linecolor": "white",
            "ticks": ""
           },
           "baxis": {
            "gridcolor": "white",
            "linecolor": "white",
            "ticks": ""
           },
           "bgcolor": "#E5ECF6",
           "caxis": {
            "gridcolor": "white",
            "linecolor": "white",
            "ticks": ""
           }
          },
          "title": {
           "x": 0.05
          },
          "xaxis": {
           "automargin": true,
           "gridcolor": "white",
           "linecolor": "white",
           "ticks": "",
           "title": {
            "standoff": 15
           },
           "zerolinecolor": "white",
           "zerolinewidth": 2
          },
          "yaxis": {
           "automargin": true,
           "gridcolor": "white",
           "linecolor": "white",
           "ticks": "",
           "title": {
            "standoff": 15
           },
           "zerolinecolor": "white",
           "zerolinewidth": 2
          }
         }
        },
        "title": {
         "text": "Bar Plot des Poids Optimaux du Portefeuille"
        },
        "xaxis": {
         "title": {
          "text": "Indices des Actifs"
         }
        },
        "yaxis": {
         "title": {
          "text": "Poids dans le Portefeuille"
         }
        }
       }
      }
     },
     "metadata": {},
     "output_type": "display_data"
    }
   ],
   "source": [
    "# Supposons que vous voulez tracer la première ligne de xOptimalArray\n",
    "ligne_a_tracer = np.array(xOptimalArray)[0]\n",
    "\n",
    "# Créer un graphique en barres\n",
    "fig = go.Figure(data=[go.Bar(\n",
    "            x=list(range(len(ligne_a_tracer))), \n",
    "            y=ligne_a_tracer,\n",
    "            hovertext=[f'Position: {i}' for i in range(len(ligne_a_tracer))],\n",
    "            hoverinfo=\"text+y\"\n",
    ")])\n",
    "\n",
    "# Mise à jour des étiquettes et du titre\n",
    "fig.update_layout(title='Bar Plot des Poids Optimaux du Portefeuille',\n",
    "                  xaxis_title='Indices des Actifs',\n",
    "                  yaxis_title='Poids dans le Portefeuille')\n",
    "\n",
    "# Afficher le graphique\n",
    "fig.show()"
   ]
  },
  {
   "cell_type": "code",
   "execution_count": null,
   "metadata": {},
   "outputs": [],
   "source": []
  }
 ],
 "metadata": {
  "kernelspec": {
   "display_name": "Python 3.9.15 ('freqtrade_V1')",
   "language": "python",
   "name": "python3"
  },
  "language_info": {
   "codemirror_mode": {
    "name": "ipython",
    "version": 3
   },
   "file_extension": ".py",
   "mimetype": "text/x-python",
   "name": "python",
   "nbconvert_exporter": "python",
   "pygments_lexer": "ipython3",
   "version": "3.9.15"
  },
  "orig_nbformat": 4,
  "vscode": {
   "interpreter": {
    "hash": "c76f013e99d6a2ab2e6d4d4ad2bb7f809b2b6bba4e6bbf24e0dae8081eb43f31"
   }
  }
 },
 "nbformat": 4,
 "nbformat_minor": 2
}
